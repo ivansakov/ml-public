{
 "cells": [
  {
   "cell_type": "markdown",
   "metadata": {
    "toc": true
   },
   "source": [
    "<h1>Содержание<span class=\"tocSkip\"></span></h1>\n",
    "<div class=\"toc\"><ul class=\"toc-item\"><li><span><a href=\"#Подготовка\" data-toc-modified-id=\"Подготовка-1\"><span class=\"toc-item-num\">1&nbsp;&nbsp;</span>Подготовка</a></span><ul class=\"toc-item\"><li><span><a href=\"#Загрузка-и-обзор\" data-toc-modified-id=\"Загрузка-и-обзор-1.1\"><span class=\"toc-item-num\">1.1&nbsp;&nbsp;</span>Загрузка и обзор</a></span></li><li><span><a href=\"#Анализ-пропусков-и-выбросов\" data-toc-modified-id=\"Анализ-пропусков-и-выбросов-1.2\"><span class=\"toc-item-num\">1.2&nbsp;&nbsp;</span>Анализ пропусков и выбросов</a></span></li><li><span><a href=\"#Преобразование-текста\" data-toc-modified-id=\"Преобразование-текста-1.3\"><span class=\"toc-item-num\">1.3&nbsp;&nbsp;</span>Преобразование текста</a></span></li><li><span><a href=\"#Векторизация-текста\" data-toc-modified-id=\"Векторизация-текста-1.4\"><span class=\"toc-item-num\">1.4&nbsp;&nbsp;</span>Векторизация текста</a></span></li><li><span><a href=\"#Разделение-набора-данных-на-выборки\" data-toc-modified-id=\"Разделение-набора-данных-на-выборки-1.5\"><span class=\"toc-item-num\">1.5&nbsp;&nbsp;</span>Разделение набора данных на выборки</a></span></li><li><span><a href=\"#Выводы-после-подготовки-данных\" data-toc-modified-id=\"Выводы-после-подготовки-данных-1.6\"><span class=\"toc-item-num\">1.6&nbsp;&nbsp;</span>Выводы после подготовки данных</a></span></li></ul></li><li><span><a href=\"#Обучение\" data-toc-modified-id=\"Обучение-2\"><span class=\"toc-item-num\">2&nbsp;&nbsp;</span>Обучение</a></span><ul class=\"toc-item\"><li><span><a href=\"#Dummy-model\" data-toc-modified-id=\"Dummy-model-2.1\"><span class=\"toc-item-num\">2.1&nbsp;&nbsp;</span>Dummy model</a></span></li><li><span><a href=\"#LogisticRegression\" data-toc-modified-id=\"LogisticRegression-2.2\"><span class=\"toc-item-num\">2.2&nbsp;&nbsp;</span>LogisticRegression</a></span></li><li><span><a href=\"#RandomForestClassifier\" data-toc-modified-id=\"RandomForestClassifier-2.3\"><span class=\"toc-item-num\">2.3&nbsp;&nbsp;</span>RandomForestClassifier</a></span></li><li><span><a href=\"#LGBMClassifier\" data-toc-modified-id=\"LGBMClassifier-2.4\"><span class=\"toc-item-num\">2.4&nbsp;&nbsp;</span>LGBMClassifier</a></span></li><li><span><a href=\"#Выводы-после-обучения\" data-toc-modified-id=\"Выводы-после-обучения-2.5\"><span class=\"toc-item-num\">2.5&nbsp;&nbsp;</span>Выводы после обучения</a></span></li><li><span><a href=\"#F1-на-тестовой-выборке\" data-toc-modified-id=\"F1-на-тестовой-выборке-2.6\"><span class=\"toc-item-num\">2.6&nbsp;&nbsp;</span>F1 на тестовой выборке</a></span></li></ul></li><li><span><a href=\"#Выводы\" data-toc-modified-id=\"Выводы-3\"><span class=\"toc-item-num\">3&nbsp;&nbsp;</span>Выводы</a></span></li><li><span><a href=\"#Чек-лист-проверки\" data-toc-modified-id=\"Чек-лист-проверки-4\"><span class=\"toc-item-num\">4&nbsp;&nbsp;</span>Чек-лист проверки</a></span></li></ul></div>"
   ]
  },
  {
   "cell_type": "markdown",
   "metadata": {},
   "source": [
    "# Семантический анализ текстов"
   ]
  },
  {
   "cell_type": "markdown",
   "metadata": {},
   "source": [
    "Интернет-магазин запускает новый сервис. Теперь пользователи могут редактировать и дополнять описания товаров, как в вики-сообществах. То есть клиенты предлагают свои правки и комментируют изменения других. Магазину нужен инструмент, который будет искать токсичные комментарии и отправлять их на модерацию. \n",
    "\n",
    "Обучите модель классифицировать комментарии на позитивные и негативные. В вашем распоряжении набор данных с разметкой о токсичности правок.\n",
    "\n",
    "Постройте модель со значением метрики качества *F1* не меньше 0.75. \n",
    "\n",
    "**Инструкция по выполнению проекта**\n",
    "\n",
    "1. Загрузите и подготовьте данные.\n",
    "2. Обучите разные модели. \n",
    "3. Сделайте выводы.\n",
    "\n",
    "\n",
    "**Описание данных**\n",
    "\n",
    "Данные находятся в файле `toxic_comments.csv`. Столбец *text* в нём содержит текст комментария, а *toxic* — целевой признак."
   ]
  },
  {
   "cell_type": "markdown",
   "metadata": {},
   "source": [
    "## Подготовка"
   ]
  },
  {
   "cell_type": "code",
   "execution_count": 109,
   "metadata": {
    "tags": []
   },
   "outputs": [],
   "source": [
    "# Imports\n",
    "import pandas as pd\n",
    "import numpy as np\n",
    "import matplotlib.pyplot as plt\n",
    "import re\n",
    "import nltk\n",
    "\n",
    "from nltk.tokenize import word_tokenize\n",
    "from nltk.stem import WordNetLemmatizer\n",
    "from nltk.corpus import stopwords, wordnet\n",
    "\n",
    "from tqdm.notebook import tqdm\n",
    "\n",
    "from sklearn.utils import resample\n",
    "from sklearn.feature_extraction.text import TfidfVectorizer\n",
    "from sklearn.metrics import f1_score\n",
    "from sklearn.model_selection import ParameterGrid, train_test_split\n",
    "\n",
    "from sklearn.linear_model import LogisticRegression\n",
    "from sklearn.ensemble import RandomForestClassifier\n",
    "from lightgbm import LGBMClassifier"
   ]
  },
  {
   "cell_type": "markdown",
   "metadata": {
    "tags": []
   },
   "source": [
    "### Загрузка и обзор"
   ]
  },
  {
   "cell_type": "code",
   "execution_count": 2,
   "metadata": {
    "tags": []
   },
   "outputs": [
    {
     "data": {
      "text/plain": [
       "(159292, 3)"
      ]
     },
     "execution_count": 2,
     "metadata": {},
     "output_type": "execute_result"
    }
   ],
   "source": [
    "# Read dataset and print shape\n",
    "try:\n",
    "    df = pd.read_csv('toxic_comments.csv')\n",
    "except:\n",
    "    df = pd.read_csv('/datasets/toxic_comments.csv')\n",
    "df.shape"
   ]
  },
  {
   "cell_type": "markdown",
   "metadata": {},
   "source": [
    "* Исходный набор данных имеет 159292 объекта, два признака и один целевой признак `toxic`.\n",
    "* Посмотрим внимательнее на признаки, проверим пропуски в данных."
   ]
  },
  {
   "cell_type": "code",
   "execution_count": 3,
   "metadata": {
    "tags": []
   },
   "outputs": [
    {
     "data": {
      "text/html": [
       "<div>\n",
       "<style scoped>\n",
       "    .dataframe tbody tr th:only-of-type {\n",
       "        vertical-align: middle;\n",
       "    }\n",
       "\n",
       "    .dataframe tbody tr th {\n",
       "        vertical-align: top;\n",
       "    }\n",
       "\n",
       "    .dataframe thead th {\n",
       "        text-align: right;\n",
       "    }\n",
       "</style>\n",
       "<table border=\"1\" class=\"dataframe\">\n",
       "  <thead>\n",
       "    <tr style=\"text-align: right;\">\n",
       "      <th></th>\n",
       "      <th>Unnamed: 0</th>\n",
       "      <th>text</th>\n",
       "      <th>toxic</th>\n",
       "    </tr>\n",
       "  </thead>\n",
       "  <tbody>\n",
       "    <tr>\n",
       "      <th>0</th>\n",
       "      <td>0</td>\n",
       "      <td>Explanation\\nWhy the edits made under my usern...</td>\n",
       "      <td>0</td>\n",
       "    </tr>\n",
       "    <tr>\n",
       "      <th>1</th>\n",
       "      <td>1</td>\n",
       "      <td>D'aww! He matches this background colour I'm s...</td>\n",
       "      <td>0</td>\n",
       "    </tr>\n",
       "    <tr>\n",
       "      <th>2</th>\n",
       "      <td>2</td>\n",
       "      <td>Hey man, I'm really not trying to edit war. It...</td>\n",
       "      <td>0</td>\n",
       "    </tr>\n",
       "    <tr>\n",
       "      <th>3</th>\n",
       "      <td>3</td>\n",
       "      <td>\"\\nMore\\nI can't make any real suggestions on ...</td>\n",
       "      <td>0</td>\n",
       "    </tr>\n",
       "    <tr>\n",
       "      <th>4</th>\n",
       "      <td>4</td>\n",
       "      <td>You, sir, are my hero. Any chance you remember...</td>\n",
       "      <td>0</td>\n",
       "    </tr>\n",
       "  </tbody>\n",
       "</table>\n",
       "</div>"
      ],
      "text/plain": [
       "   Unnamed: 0                                               text  toxic\n",
       "0           0  Explanation\\nWhy the edits made under my usern...      0\n",
       "1           1  D'aww! He matches this background colour I'm s...      0\n",
       "2           2  Hey man, I'm really not trying to edit war. It...      0\n",
       "3           3  \"\\nMore\\nI can't make any real suggestions on ...      0\n",
       "4           4  You, sir, are my hero. Any chance you remember...      0"
      ]
     },
     "execution_count": 3,
     "metadata": {},
     "output_type": "execute_result"
    }
   ],
   "source": [
    "# Print the header\n",
    "df.head()"
   ]
  },
  {
   "cell_type": "code",
   "execution_count": 4,
   "metadata": {
    "tags": []
   },
   "outputs": [
    {
     "data": {
      "text/html": [
       "<div>\n",
       "<style scoped>\n",
       "    .dataframe tbody tr th:only-of-type {\n",
       "        vertical-align: middle;\n",
       "    }\n",
       "\n",
       "    .dataframe tbody tr th {\n",
       "        vertical-align: top;\n",
       "    }\n",
       "\n",
       "    .dataframe thead th {\n",
       "        text-align: right;\n",
       "    }\n",
       "</style>\n",
       "<table border=\"1\" class=\"dataframe\">\n",
       "  <thead>\n",
       "    <tr style=\"text-align: right;\">\n",
       "      <th></th>\n",
       "      <th>Unnamed: 0</th>\n",
       "      <th>toxic</th>\n",
       "    </tr>\n",
       "  </thead>\n",
       "  <tbody>\n",
       "    <tr>\n",
       "      <th>count</th>\n",
       "      <td>159292.000000</td>\n",
       "      <td>159292.000000</td>\n",
       "    </tr>\n",
       "    <tr>\n",
       "      <th>mean</th>\n",
       "      <td>79725.697242</td>\n",
       "      <td>0.101612</td>\n",
       "    </tr>\n",
       "    <tr>\n",
       "      <th>std</th>\n",
       "      <td>46028.837471</td>\n",
       "      <td>0.302139</td>\n",
       "    </tr>\n",
       "    <tr>\n",
       "      <th>min</th>\n",
       "      <td>0.000000</td>\n",
       "      <td>0.000000</td>\n",
       "    </tr>\n",
       "    <tr>\n",
       "      <th>25%</th>\n",
       "      <td>39872.750000</td>\n",
       "      <td>0.000000</td>\n",
       "    </tr>\n",
       "    <tr>\n",
       "      <th>50%</th>\n",
       "      <td>79721.500000</td>\n",
       "      <td>0.000000</td>\n",
       "    </tr>\n",
       "    <tr>\n",
       "      <th>75%</th>\n",
       "      <td>119573.250000</td>\n",
       "      <td>0.000000</td>\n",
       "    </tr>\n",
       "    <tr>\n",
       "      <th>max</th>\n",
       "      <td>159450.000000</td>\n",
       "      <td>1.000000</td>\n",
       "    </tr>\n",
       "  </tbody>\n",
       "</table>\n",
       "</div>"
      ],
      "text/plain": [
       "          Unnamed: 0          toxic\n",
       "count  159292.000000  159292.000000\n",
       "mean    79725.697242       0.101612\n",
       "std     46028.837471       0.302139\n",
       "min         0.000000       0.000000\n",
       "25%     39872.750000       0.000000\n",
       "50%     79721.500000       0.000000\n",
       "75%    119573.250000       0.000000\n",
       "max    159450.000000       1.000000"
      ]
     },
     "execution_count": 4,
     "metadata": {},
     "output_type": "execute_result"
    }
   ],
   "source": [
    "# Describe DataFrame\n",
    "df.describe()"
   ]
  },
  {
   "cell_type": "code",
   "execution_count": 5,
   "metadata": {
    "tags": []
   },
   "outputs": [
    {
     "name": "stdout",
     "output_type": "stream",
     "text": [
      "Total number of NaN values: 0\n"
     ]
    }
   ],
   "source": [
    "# Check Nan\n",
    "print(f'Total number of NaN values: {df.isna().sum().sum()}')"
   ]
  },
  {
   "cell_type": "code",
   "execution_count": 6,
   "metadata": {
    "tags": []
   },
   "outputs": [
    {
     "name": "stdout",
     "output_type": "stream",
     "text": [
      "Количество пустых значений: 0\n"
     ]
    }
   ],
   "source": [
    "# Check for empty cells containing strings\n",
    "empty_cells = df.isnull() | (df == '')\n",
    "any_empty_cells = empty_cells.any(axis=1)\n",
    "print(f'Количество пустых значений: {any_empty_cells.sum()}')"
   ]
  },
  {
   "cell_type": "markdown",
   "metadata": {},
   "source": [
    "* Столбец `Unnamed: 0` имеет max значение 159450, при этом в наборе данных 159292 объекта. Возможно, что это столбец изначально был индексом, но часть объектов была удалена.\n",
    "* Для проекта он нам не потребуется, удалим его. Предварительго сохраним набор данных в переменную `df_raw`"
   ]
  },
  {
   "cell_type": "markdown",
   "metadata": {
    "tags": []
   },
   "source": [
    "### Анализ пропусков и выбросов"
   ]
  },
  {
   "cell_type": "code",
   "execution_count": 7,
   "metadata": {
    "tags": []
   },
   "outputs": [
    {
     "data": {
      "text/plain": [
       "(159292, 2)"
      ]
     },
     "execution_count": 7,
     "metadata": {},
     "output_type": "execute_result"
    }
   ],
   "source": [
    "# Drop wrong column\n",
    "df_raw = df.copy()\n",
    "df.drop(columns=['Unnamed: 0'], inplace=True)\n",
    "df.shape"
   ]
  },
  {
   "cell_type": "code",
   "execution_count": 8,
   "metadata": {
    "tags": []
   },
   "outputs": [
    {
     "data": {
      "text/html": [
       "<div>\n",
       "<style scoped>\n",
       "    .dataframe tbody tr th:only-of-type {\n",
       "        vertical-align: middle;\n",
       "    }\n",
       "\n",
       "    .dataframe tbody tr th {\n",
       "        vertical-align: top;\n",
       "    }\n",
       "\n",
       "    .dataframe thead th {\n",
       "        text-align: right;\n",
       "    }\n",
       "</style>\n",
       "<table border=\"1\" class=\"dataframe\">\n",
       "  <thead>\n",
       "    <tr style=\"text-align: right;\">\n",
       "      <th></th>\n",
       "      <th>text</th>\n",
       "      <th>toxic</th>\n",
       "    </tr>\n",
       "  </thead>\n",
       "  <tbody>\n",
       "    <tr>\n",
       "      <th>0</th>\n",
       "      <td>Explanation\\nWhy the edits made under my usern...</td>\n",
       "      <td>0</td>\n",
       "    </tr>\n",
       "    <tr>\n",
       "      <th>1</th>\n",
       "      <td>D'aww! He matches this background colour I'm s...</td>\n",
       "      <td>0</td>\n",
       "    </tr>\n",
       "  </tbody>\n",
       "</table>\n",
       "</div>"
      ],
      "text/plain": [
       "                                                text  toxic\n",
       "0  Explanation\\nWhy the edits made under my usern...      0\n",
       "1  D'aww! He matches this background colour I'm s...      0"
      ]
     },
     "execution_count": 8,
     "metadata": {},
     "output_type": "execute_result"
    }
   ],
   "source": [
    "# Print the header\n",
    "df.head(2)"
   ]
  },
  {
   "cell_type": "code",
   "execution_count": 9,
   "metadata": {
    "tags": []
   },
   "outputs": [
    {
     "name": "stdout",
     "output_type": "stream",
     "text": [
      "Доля положительного класса: 0.102\n"
     ]
    }
   ],
   "source": [
    "# Check balance of classes\n",
    "print(f'Доля положительного класса: {(df.toxic.sum()/df.shape[0]):.3f}')"
   ]
  },
  {
   "cell_type": "markdown",
   "metadata": {},
   "source": [
    "* Ранее мы уже видели, что среднее значение в столбце `toxic` примерно равно 0.10. Это значит, что примерно 10% значений и меют положительный признак, другими словами это доля токсичных комментариев в нашем наборе данных."
   ]
  },
  {
   "cell_type": "markdown",
   "metadata": {},
   "source": [
    "* Посмотрим внимательнее на значения признака `text`. Вычислим максимальное значение символов в строке:"
   ]
  },
  {
   "cell_type": "code",
   "execution_count": 10,
   "metadata": {
    "tags": []
   },
   "outputs": [
    {
     "name": "stdout",
     "output_type": "stream",
     "text": [
      "Максимум знаков в строке: 5000\n"
     ]
    }
   ],
   "source": [
    "# Calculate the maximum length of strings in each row\n",
    "max_lengths = (df.apply(lambda row: max([len(str(val)) for val in row]), axis=1)\n",
    "               .to_frame().rename(columns={0:'len'}))\n",
    "print(f'Максимум знаков в строке: {max_lengths.len.max()}')"
   ]
  },
  {
   "cell_type": "markdown",
   "metadata": {},
   "source": [
    "* Посмотрим на распределение длины строк в нашем наборе данных. Построим boxplot:"
   ]
  },
  {
   "cell_type": "code",
   "execution_count": 11,
   "metadata": {
    "tags": []
   },
   "outputs": [
    {
     "data": {
      "image/png": "[encoded data removed]",
      "text/plain": [
       "<Figure size 1200x500 with 1 Axes>"
      ]
     },
     "metadata": {},
     "output_type": "display_data"
    }
   ],
   "source": [
    "# Plot the histogram of string lengths\n",
    "max_lengths.plot(kind='hist', bins=100, figsize=(12,5))\n",
    "\n",
    "# Add title and axis labels\n",
    "plt.title(\"Distribution of String Lengths\")\n",
    "plt.xlabel(\"String Length\")\n",
    "plt.ylabel(\"Frequency\")\n",
    "\n",
    "# Display the histogram\n",
    "plt.show()"
   ]
  },
  {
   "cell_type": "markdown",
   "metadata": {},
   "source": [
    "* Распределение имеет вид логнормального.\n",
    "* Для решения задачи класификации текстов нам предстоит трансформация текста в вектора, обучение для больших текстов будет ресурсозатратное. Необходимо оценить максимальное количество слов в строке, после лемматизации и очистки."
   ]
  },
  {
   "cell_type": "markdown",
   "metadata": {},
   "source": [
    "* На следующем этапе необходимо преобразовать значения в столбце `text`. Провести очистку и лемматизацию."
   ]
  },
  {
   "cell_type": "markdown",
   "metadata": {},
   "source": [
    "### Преобразование текста"
   ]
  },
  {
   "cell_type": "markdown",
   "metadata": {},
   "source": [
    "* Текст все еще содержит элементы не несущие полезной информации от которых нужно избавиться. Очистим текст от цифр и знаков препинания.\n",
    "* Преобразуем в нижний регистр.\n",
    "* Проведем лемматизацию слов."
   ]
  },
  {
   "cell_type": "code",
   "execution_count": 18,
   "metadata": {
    "tags": []
   },
   "outputs": [],
   "source": [
    "# Change type of case\n",
    "df['text'] = df['text'].str.lower()"
   ]
  },
  {
   "cell_type": "code",
   "execution_count": 19,
   "metadata": {
    "tags": []
   },
   "outputs": [],
   "source": [
    "# Remove newline character from string values\n",
    "df['text'] = df['text'].str.replace('\\n', ' ')"
   ]
  },
  {
   "cell_type": "markdown",
   "metadata": {},
   "source": [
    "* Создадим функции для преобразования текста."
   ]
  },
  {
   "cell_type": "code",
   "execution_count": 20,
   "metadata": {
    "tags": []
   },
   "outputs": [],
   "source": [
    "# Create func for clearing text OLD\n",
    "\n",
    "\n",
    "def clear_text(text):\n",
    "    # remove URLs\n",
    "    text = re.sub(r'http\\S+', '', text)\n",
    "    # remove punctuation \n",
    "    text = re.sub(r'[^\\w\\s]', '', text)\n",
    "    # remove numbers\n",
    "    text = re.sub(r'\\d+', '', text)\n",
    "    return text"
   ]
  },
  {
   "cell_type": "markdown",
   "metadata": {},
   "source": [
    "#### Лемматизация V1"
   ]
  },
  {
   "cell_type": "code",
   "execution_count": 21,
   "metadata": {
    "tags": []
   },
   "outputs": [],
   "source": [
    "# Create the func to lemmatize the words V1\n",
    "\n",
    "def get_wordnet_pos(word):\n",
    "    \"\"\"Map POS tag to first character lemmatize() accepts\"\"\"\n",
    "    tag = nltk.pos_tag([word])[0][1][0].upper()\n",
    "    tag_dict = {\"J\": wordnet.ADJ,\n",
    "                \"N\": wordnet.NOUN,\n",
    "                \"V\": wordnet.VERB,\n",
    "                \"R\": wordnet.ADV}\n",
    "    return tag_dict.get(tag, wordnet.NOUN)\n",
    "\n",
    "\n",
    "def lem_text_v1(text):  \n",
    "    wnl = WordNetLemmatizer()\n",
    "    lemmatized_words = [wnl.lemmatize(word, get_wordnet_pos(word)) for word in word_tokenize(text)]\n",
    "    return \" \".join(lemmatized_words)"
   ]
  },
  {
   "cell_type": "code",
   "execution_count": 22,
   "metadata": {
    "tags": []
   },
   "outputs": [
    {
     "name": "stdout",
     "output_type": "stream",
     "text": [
      "The slowest run took 12.79 times longer than the fastest. This could mean that an intermediate result is being cached.\n",
      "9.97 ms ± 14.4 ms per loop (mean ± std. dev. of 7 runs, 100 loops each)\n"
     ]
    }
   ],
   "source": [
    "%%timeit -n 100\n",
    "# Time of lemmatize the words V1\n",
    "lem_text_v1(clear_text('The striped bats are hanging on their feet for best'))"
   ]
  },
  {
   "cell_type": "code",
   "execution_count": 23,
   "metadata": {
    "tags": []
   },
   "outputs": [
    {
     "data": {
      "text/plain": [
       "'The strip bat be hang on their foot for best'"
      ]
     },
     "execution_count": 23,
     "metadata": {},
     "output_type": "execute_result"
    }
   ],
   "source": [
    "# lemmatize the words V1\n",
    "lem_text_v1(clear_text('The striped bats are hanging on their feet for best'))"
   ]
  },
  {
   "cell_type": "markdown",
   "metadata": {
    "tags": []
   },
   "source": [
    "* Лематизация с помощью nltk.corpus.wordnet \n",
    "    * 9.97 ms на фразу\n",
    "    * Результат: _'The strip bat be hang on their foot for best'_ - обратим внимание на 'strip', это единственный из опробованных подходов который обработал 'striped'."
   ]
  },
  {
   "cell_type": "markdown",
   "metadata": {},
   "source": [
    "#### Лемматизация V2"
   ]
  },
  {
   "cell_type": "code",
   "execution_count": 24,
   "metadata": {
    "tags": []
   },
   "outputs": [],
   "source": [
    "# Create the func to lemmatize the words V2\n",
    "\n",
    "\n",
    "def lem_text_v2(text):\n",
    "    wnl = WordNetLemmatizer()\n",
    "    tokens = word_tokenize(text)\n",
    "    pos_tags = nltk.pos_tag(tokens)\n",
    "    lemmatized_words = []\n",
    "    for word, tag in pos_tags:\n",
    "        if tag.startswith('NN'):\n",
    "            # noun\n",
    "            lemmatized_words.append(wnl.lemmatize(word, pos='n'))\n",
    "        elif tag.startswith('VB'):\n",
    "            # verb\n",
    "            lemmatized_words.append(wnl.lemmatize(word, pos='v'))\n",
    "        elif tag.startswith('JJ'):\n",
    "            # adjective\n",
    "            lemmatized_words.append(wnl.lemmatize(word, pos='a'))\n",
    "        elif tag.startswith('R'):\n",
    "            # adverb\n",
    "            lemmatized_words.append(wnl.lemmatize(word, pos='r'))\n",
    "        else:\n",
    "            # other parts of speech\n",
    "            lemmatized_words.append(word)\n",
    "    return \" \".join(lemmatized_words)"
   ]
  },
  {
   "cell_type": "code",
   "execution_count": 25,
   "metadata": {
    "tags": []
   },
   "outputs": [
    {
     "name": "stdout",
     "output_type": "stream",
     "text": [
      "1.67 ms ± 271 µs per loop (mean ± std. dev. of 7 runs, 100 loops each)\n"
     ]
    }
   ],
   "source": [
    "%%timeit -n 100\n",
    "# Time of lemmatize the words V2\n",
    "lem_text_v2(clear_text('The striped bats are hanging on their feet for best'))"
   ]
  },
  {
   "cell_type": "code",
   "execution_count": 26,
   "metadata": {
    "tags": []
   },
   "outputs": [
    {
     "data": {
      "text/plain": [
       "'The striped bat be hang on their foot for best'"
      ]
     },
     "execution_count": 26,
     "metadata": {},
     "output_type": "execute_result"
    }
   ],
   "source": [
    "# lemmatize the words V2\n",
    "lem_text_v2(clear_text('The striped bats are hanging on their feet for best'))"
   ]
  },
  {
   "cell_type": "markdown",
   "metadata": {},
   "source": [
    "* Лематизация с помощью elif определением части речи.\n",
    "    * 1.67 ms на фразу\n",
    "    * Результат: _'The **striped** bat be hang on their foot for best'_ "
   ]
  },
  {
   "cell_type": "markdown",
   "metadata": {},
   "source": [
    "#### Лемматизация V3"
   ]
  },
  {
   "cell_type": "code",
   "execution_count": 27,
   "metadata": {
    "tags": []
   },
   "outputs": [],
   "source": [
    "# Create the func to lemmatize the words V2\n",
    "from nltk import pos_tag\n",
    "wnl = WordNetLemmatizer()\n",
    "\n",
    "def penn2morphy(penntag):\n",
    "    \"\"\" Converts Penn Treebank tags to WordNet. \"\"\"\n",
    "    morphy_tag = {'NN':'n', 'JJ':'a',\n",
    "                  'VB':'v', 'RB':'r'}\n",
    "    try:\n",
    "        return morphy_tag[penntag[:2]]\n",
    "    except:\n",
    "        return 'n' \n",
    "\n",
    "def lem_text_v3(text): \n",
    "    # Text input is string, returns lowercased strings.\n",
    "    return \" \".join([wnl.lemmatize(word, pos=penn2morphy(tag)) \n",
    "            for word, tag in pos_tag(word_tokenize(text))])"
   ]
  },
  {
   "cell_type": "code",
   "execution_count": 28,
   "metadata": {
    "tags": []
   },
   "outputs": [
    {
     "name": "stdout",
     "output_type": "stream",
     "text": [
      "1.67 ms ± 354 µs per loop (mean ± std. dev. of 7 runs, 100 loops each)\n"
     ]
    }
   ],
   "source": [
    "%%timeit -n 100\n",
    "lem_text_v3('The striped bats are hanging on their feet for best')"
   ]
  },
  {
   "cell_type": "code",
   "execution_count": 29,
   "metadata": {
    "tags": []
   },
   "outputs": [
    {
     "data": {
      "text/plain": [
       "'The striped bat be hang on their foot for best'"
      ]
     },
     "execution_count": 29,
     "metadata": {},
     "output_type": "execute_result"
    }
   ],
   "source": [
    "lem_text_v3('The striped bats are hanging on their feet for best')"
   ]
  },
  {
   "cell_type": "markdown",
   "metadata": {},
   "source": [
    "* Лематизация с помощью dictionary и определением части речи.\n",
    "    * 1.67 ms на фразу\n",
    "    * Результат: _'The **striped** bat be hang on their foot for best'_ "
   ]
  },
  {
   "cell_type": "markdown",
   "metadata": {},
   "source": [
    "#### Выводе после лемматизации"
   ]
  },
  {
   "cell_type": "markdown",
   "metadata": {},
   "source": [
    "Мной были протестированы три подхода для лемматизации текста из набора данных.\n",
    "Выбран был первый подход, самый качественный из опробованных и самый медленный.\n",
    "* Лематизация V1 с помощью nltk.corpus.wordnet \n",
    "    * 9.97 ms на фразу\n",
    "    * Результат: _'The strip bat be hang on their foot for best'_ - обратим внимание на 'strip', это единственный из опробованных подходов который обработал 'striped'.\n"
   ]
  },
  {
   "cell_type": "code",
   "execution_count": null,
   "metadata": {
    "tags": []
   },
   "outputs": [],
   "source": [
    "# Apply the functions\n",
    "tqdm.pandas()\n",
    "df['text'] = df['text'].progress_apply(lambda x: lem_text_v1(clear_text(x)))\n",
    "\n",
    "# Calculate the maximum length of strings in each row\n",
    "max_lengths = (df.apply(lambda row: max([len(str(val)) for val in row]), axis=1)\n",
    "               .to_frame().rename(columns={0:'len'}))\n",
    "print(f'Максимум знаков в строке: {max_lengths.len.max()}')"
   ]
  },
  {
   "cell_type": "code",
   "execution_count": 111,
   "metadata": {
    "tags": []
   },
   "outputs": [],
   "source": [
    "# Save result to df\n",
    "# df.to_csv('df_lem.csv', index=False)"
   ]
  },
  {
   "cell_type": "code",
   "execution_count": 112,
   "metadata": {
    "tags": []
   },
   "outputs": [
    {
     "data": {
      "text/html": [
       "<div>\n",
       "<style scoped>\n",
       "    .dataframe tbody tr th:only-of-type {\n",
       "        vertical-align: middle;\n",
       "    }\n",
       "\n",
       "    .dataframe tbody tr th {\n",
       "        vertical-align: top;\n",
       "    }\n",
       "\n",
       "    .dataframe thead th {\n",
       "        text-align: right;\n",
       "    }\n",
       "</style>\n",
       "<table border=\"1\" class=\"dataframe\">\n",
       "  <thead>\n",
       "    <tr style=\"text-align: right;\">\n",
       "      <th></th>\n",
       "      <th>text</th>\n",
       "      <th>toxic</th>\n",
       "    </tr>\n",
       "  </thead>\n",
       "  <tbody>\n",
       "    <tr>\n",
       "      <th>0</th>\n",
       "      <td>explanation why the edits make under my userna...</td>\n",
       "      <td>0</td>\n",
       "    </tr>\n",
       "    <tr>\n",
       "      <th>1</th>\n",
       "      <td>d aww he match this background colour i m seem...</td>\n",
       "      <td>0</td>\n",
       "    </tr>\n",
       "    <tr>\n",
       "      <th>2</th>\n",
       "      <td>hey man i m really not try to edit war it s ju...</td>\n",
       "      <td>0</td>\n",
       "    </tr>\n",
       "    <tr>\n",
       "      <th>3</th>\n",
       "      <td>more i can t make any real suggestion on impro...</td>\n",
       "      <td>0</td>\n",
       "    </tr>\n",
       "    <tr>\n",
       "      <th>4</th>\n",
       "      <td>you sir be my hero any chance you remember wha...</td>\n",
       "      <td>0</td>\n",
       "    </tr>\n",
       "    <tr>\n",
       "      <th>5</th>\n",
       "      <td>congratulation from me a well use the tool wel...</td>\n",
       "      <td>0</td>\n",
       "    </tr>\n",
       "    <tr>\n",
       "      <th>6</th>\n",
       "      <td>cocksucker before you piss around on my work</td>\n",
       "      <td>1</td>\n",
       "    </tr>\n",
       "    <tr>\n",
       "      <th>7</th>\n",
       "      <td>your vandalism to the matt shirvington article...</td>\n",
       "      <td>0</td>\n",
       "    </tr>\n",
       "    <tr>\n",
       "      <th>8</th>\n",
       "      <td>sorry if the word nonsense be offensive to you...</td>\n",
       "      <td>0</td>\n",
       "    </tr>\n",
       "    <tr>\n",
       "      <th>9</th>\n",
       "      <td>alignment on this subject and which be contrar...</td>\n",
       "      <td>0</td>\n",
       "    </tr>\n",
       "  </tbody>\n",
       "</table>\n",
       "</div>"
      ],
      "text/plain": [
       "                                                text  toxic\n",
       "0  explanation why the edits make under my userna...      0\n",
       "1  d aww he match this background colour i m seem...      0\n",
       "2  hey man i m really not try to edit war it s ju...      0\n",
       "3  more i can t make any real suggestion on impro...      0\n",
       "4  you sir be my hero any chance you remember wha...      0\n",
       "5  congratulation from me a well use the tool wel...      0\n",
       "6       cocksucker before you piss around on my work      1\n",
       "7  your vandalism to the matt shirvington article...      0\n",
       "8  sorry if the word nonsense be offensive to you...      0\n",
       "9  alignment on this subject and which be contrar...      0"
      ]
     },
     "execution_count": 112,
     "metadata": {},
     "output_type": "execute_result"
    }
   ],
   "source": [
    "# Upload df_lem\n",
    "df = pd.read_csv('df_lem.csv')\n",
    "df.head(10)"
   ]
  },
  {
   "cell_type": "code",
   "execution_count": 33,
   "metadata": {
    "tags": []
   },
   "outputs": [
    {
     "name": "stdout",
     "output_type": "stream",
     "text": [
      "The maximum number of words in a row is: 1403\n"
     ]
    }
   ],
   "source": [
    "# drop rows with NaN or non-string values\n",
    "df = df.dropna(subset=['text'])\n",
    "df = df[df['text'].apply(lambda x: isinstance(x, str))]\n",
    "\n",
    "# define a function to count the number of words in a string\n",
    "def count_words(text):\n",
    "    return len(text.split())\n",
    "\n",
    "# apply the function to the 'text' column and find the maximum word count\n",
    "max_word_count = df['text'].apply(count_words).max()\n",
    "\n",
    "# print the result\n",
    "print(\"The maximum number of words in a row is:\", max_word_count)"
   ]
  },
  {
   "cell_type": "markdown",
   "metadata": {
    "tags": []
   },
   "source": [
    "### Разделение набора данных на выборки"
   ]
  },
  {
   "cell_type": "markdown",
   "metadata": {},
   "source": [
    "* Для работы с моделями выбран подход с использованием трех выборок, обучающей, валидационной и тестовой. Без кросс-валидации."
   ]
  },
  {
   "cell_type": "code",
   "execution_count": 34,
   "metadata": {
    "tags": []
   },
   "outputs": [],
   "source": [
    "# Assign features and target\n",
    "df_features = df.drop(columns='toxic')\n",
    "df_target = df['toxic']"
   ]
  },
  {
   "cell_type": "code",
   "execution_count": 35,
   "metadata": {
    "tags": []
   },
   "outputs": [
    {
     "name": "stdout",
     "output_type": "stream",
     "text": [
      "X_train shape: (127424, 1)\n",
      "y_train shape: (127424,)\n",
      "X_valid shape: (15928, 1)\n",
      "y_valid shape: (15928,)\n",
      "X_test shape: (15929, 1)\n",
      "y_test shape: (15929,)\n"
     ]
    }
   ],
   "source": [
    "# Split the dataset into training and test/validation\n",
    "X_train, X_test, y_train, y_test = train_test_split(df_features, df_target, \n",
    "                                                     test_size=0.2, stratify=df_target, \n",
    "                                                     random_state=41)\n",
    "\n",
    "# Split into 10% validation and 10% test\n",
    "X_valid, X_test, y_valid, y_test = train_test_split(X_test, y_test, \n",
    "                                                    test_size=0.5, stratify=y_test, \n",
    "                                                    random_state=41)\n",
    "\n",
    "print(f'X_train shape: {X_train.shape}')\n",
    "print(f'y_train shape: {y_train.shape}')\n",
    "print(f'X_valid shape: {X_valid.shape}')\n",
    "print(f'y_valid shape: {y_valid.shape}')\n",
    "print(f'X_test shape: {X_test.shape}')\n",
    "print(f'y_test shape: {y_test.shape}')"
   ]
  },
  {
   "cell_type": "markdown",
   "metadata": {},
   "source": [
    "### Векторизация текста\n",
    "\n",
    "1. Векторизацию необходимо обучать на train и затем применять на выборки.\n",
    "2. Вычислим _TF-IDF_ для корпуса текстов.\n",
    "3. Для определения тональности применим величины _TF-IDF_ как признаки.\n",
    "4. При векторизации избавимся от стоп-слов."
   ]
  },
  {
   "cell_type": "code",
   "execution_count": 52,
   "metadata": {
    "tags": []
   },
   "outputs": [
    {
     "name": "stdout",
     "output_type": "stream",
     "text": [
      "Размер матрицы train: (127424, 131455)\n",
      "Размер матрицы valid: (15928, 131455)\n",
      "Размер матрицы test: (15929, 131455)\n",
      "CPU times: user 25.5 s, sys: 125 ms, total: 25.7 s\n",
      "Wall time: 25.9 s\n"
     ]
    }
   ],
   "source": [
    "%%time\n",
    "# Create the corpus\n",
    "corpus = X_train['text'].values\n",
    "corpus_val = X_valid['text'].values\n",
    "corpus_test = X_test['text'].values\n",
    "# Assign stop_words\n",
    "stop_words = (stopwords.words('english'))\n",
    "# Create Vectorizer and transform the corpus\n",
    "count_tf_idf = TfidfVectorizer(stop_words=stop_words, lowercase=False)\n",
    "tf_idf = count_tf_idf.fit(corpus)\n",
    "X_train = tf_idf.transform(corpus)\n",
    "X_valid = tf_idf.transform(corpus_val)\n",
    "X_test = tf_idf.transform(corpus_test)\n",
    "# Print result shape\n",
    "print(\"Размер матрицы train:\", X_train.shape)\n",
    "print(\"Размер матрицы valid:\", X_valid.shape)\n",
    "print(\"Размер матрицы test:\", X_test.shape)"
   ]
  },
  {
   "cell_type": "code",
   "execution_count": 53,
   "metadata": {
    "tags": []
   },
   "outputs": [
    {
     "data": {
      "text/plain": [
       "scipy.sparse._csr.csr_matrix"
      ]
     },
     "execution_count": 53,
     "metadata": {},
     "output_type": "execute_result"
    }
   ],
   "source": [
    "# Check the type of X_train\n",
    "type(X_train)"
   ]
  },
  {
   "cell_type": "markdown",
   "metadata": {},
   "source": [
    "* Обратим внимание, что признаковое пространство значительно увеличилось. Мы имее все тоже количество объектов но уже 131455 признаков."
   ]
  },
  {
   "cell_type": "markdown",
   "metadata": {},
   "source": [
    "### Выводы после подготовки данных"
   ]
  },
  {
   "cell_type": "markdown",
   "metadata": {},
   "source": [
    "* Исходный набор данных состоял из 159292 объектов, двух признаков (один из них удален) и одного целевого признака `toxic`.\n",
    "* Пропуски в данных или пробелы в значениях не выявлены.\n",
    "* Для подготовки набора данных к задаче обучения были использованы следующие методы:\n",
    "    * Преобразование в lowercase\n",
    "    * Удаление лишних пробелов знаков препинания, цифр.\n",
    "    * Удаление стоп слов, которые не влияют на _сентимент-анализ_\n",
    "    * Лемматизация слов\n",
    "    * Векторизация текста методом _TF-IDF_\n",
    "* Итоговый размер выборки составил 159292 объектов 131455 признаков.\n",
    "* Проведена разбивка на обучающую, валидационную и тестовую подвыборки."
   ]
  },
  {
   "cell_type": "markdown",
   "metadata": {},
   "source": [
    "## Обучение"
   ]
  },
  {
   "cell_type": "markdown",
   "metadata": {},
   "source": [
    "Для решения задачи классификации я буду использовать следующие модели:\n",
    "* LogisticRegression\n",
    "* RandomForestClassifier\n",
    "* LGBMClassifier\n",
    "\n",
    "Качество обученных моделей буду проверять на валидационной выборке, метрика качества F1 мера."
   ]
  },
  {
   "cell_type": "markdown",
   "metadata": {},
   "source": [
    "### Dummy model"
   ]
  },
  {
   "cell_type": "code",
   "execution_count": 54,
   "metadata": {
    "tags": []
   },
   "outputs": [
    {
     "name": "stdout",
     "output_type": "stream",
     "text": [
      "F1: 0.0\n"
     ]
    }
   ],
   "source": [
    "# Dummy model\n",
    "y_pred = pd.DataFrame(np.zeros(len(y_test)), index=y_test.index)\n",
    "print(\"F1:\", f1_score(y_test, y_pred))"
   ]
  },
  {
   "cell_type": "markdown",
   "metadata": {
    "tags": []
   },
   "source": [
    "### LogisticRegression"
   ]
  },
  {
   "cell_type": "code",
   "execution_count": 80,
   "metadata": {
    "tags": []
   },
   "outputs": [
    {
     "name": "stdout",
     "output_type": "stream",
     "text": [
      "CPU times: user 11min 56s, sys: 3min 28s, total: 15min 25s\n",
      "Wall time: 4min 26s\n"
     ]
    }
   ],
   "source": [
    "%%time\n",
    "# Define a range of hyperparameters to search over\n",
    "param_grid = {'C': [7, 7.25, 7.5, 7.75, 8, 8.25, 8.5]}\n",
    "\n",
    "# Create a list of all possible parameter combinations\n",
    "param_list = list(ParameterGrid(param_grid))\n",
    "\n",
    "# Initialize an empty list to store the results\n",
    "results = []\n",
    "\n",
    "# Loop over all possible parameter combinations\n",
    "for params in param_list:\n",
    "    \n",
    "    # Initialize the model with the current set of hyperparameters\n",
    "    lr = LogisticRegression(**params,random_state=41,\n",
    "                                class_weight={0:1,1:9},\n",
    "                                max_iter=350)\n",
    "    \n",
    "    # Train the model on the training data\n",
    "    lr.fit(X_train, y_train)\n",
    "    \n",
    "    # Evaluate the model on the validation data\n",
    "    y_pred = lr.predict(X_valid)\n",
    "    score = f1_score(y_valid, y_pred)\n",
    "    \n",
    "    # Store the results\n",
    "    results.append((params, score))\n",
    "    \n",
    "# Find the best set of hyperparameters based on validation score\n",
    "best_params, best_score = max(results, key=lambda x: x[1])"
   ]
  },
  {
   "cell_type": "code",
   "execution_count": 92,
   "metadata": {
    "tags": []
   },
   "outputs": [
    {
     "name": "stdout",
     "output_type": "stream",
     "text": [
      "F1 на валидации: 0.7662116040955631\n",
      "Лучший гиперпараметр {'C': 7}\n"
     ]
    }
   ],
   "source": [
    "print(f'F1 на валидации: {best_score}')\n",
    "print(f'Лучший гиперпараметр {best_params}')"
   ]
  },
  {
   "cell_type": "markdown",
   "metadata": {},
   "source": [
    "* Сделаем замер времени на обучение на лучших гиперпараметрах."
   ]
  },
  {
   "cell_type": "code",
   "execution_count": 102,
   "metadata": {
    "tags": []
   },
   "outputs": [
    {
     "name": "stdout",
     "output_type": "stream",
     "text": [
      "F1: 0.7662116040955631\n",
      "CPU times: user 1min 20s, sys: 23.3 s, total: 1min 44s\n",
      "Wall time: 31 s\n"
     ]
    }
   ],
   "source": [
    "%%time\n",
    "# Initialize the model with the current set of hyperparameters\n",
    "lr = LogisticRegression(C=7, random_state=41,\n",
    "                        class_weight={0:1,1:9},\n",
    "                        max_iter=350)\n",
    "# Train the model on the training data\n",
    "lr.fit(X_train, y_train)\n",
    "# Evaluate the model on the validation data\n",
    "y_pred = lr.predict(X_valid)\n",
    "print(\"F1:\", f1_score(y_valid, y_pred))"
   ]
  },
  {
   "cell_type": "markdown",
   "metadata": {},
   "source": [
    "* На дефолтных гиперпараметрах модели и размерах выборки достич целевой F1 меры не удавалось были опробованы все доступные варианты `solver` `penalty` `class_weight` `C`\n",
    "\n",
    "Ниже можно видеть некоторые котрые показали достойные результаты:\n",
    "* Выборка 10000 obj 500 max lenght \n",
    "    * F1: 0.7198 (penalty='l2', class_weight={0:1,1:9}, solver='lbfgs', max_iter=100)\n",
    "    * F1: 0.7320 (penalty='l1' class_weight={0:1,1:9}, solver='liblinear')\n",
    "* Выборка 10000 obj 300 max lenght\n",
    "    * F1: 0.7510 (penalty='l2', class_weight={0:1,1:9}, solver='liblinear', max_iter=50)\n",
    "* **Выборка без ограничения размера и длины текста**\n",
    "    * **F1: 0.7662** (penalty='l2',random_state=41, class_weight={0:1,1:9} solver='lbfgs', max_iter=350, C=7)\n",
    "    * Wall time: 31 s"
   ]
  },
  {
   "cell_type": "markdown",
   "metadata": {},
   "source": [
    "### RandomForestClassifier"
   ]
  },
  {
   "cell_type": "code",
   "execution_count": 107,
   "metadata": {
    "tags": []
   },
   "outputs": [
    {
     "name": "stdout",
     "output_type": "stream",
     "text": [
      "F1: 0.35511683118830434\n",
      "CPU times: user 1min 8s, sys: 78.1 ms, total: 1min 8s\n",
      "Wall time: 1min 10s\n"
     ]
    }
   ],
   "source": [
    "%%time\n",
    "# Create the RandomForestRegressor model\n",
    "rfc = RandomForestClassifier(max_depth=15,random_state=41, class_weight={0:1,1:9}, n_estimators=300) \n",
    "\n",
    "# Fit the model on the training data\n",
    "rfc.fit(X_train, y_train)\n",
    "\n",
    "# Make predictions on the validation data using the best model\n",
    "y_pred = rfc.predict(X_valid)\n",
    "\n",
    "print(\"F1:\", f1_score(y_valid, y_pred))"
   ]
  },
  {
   "cell_type": "markdown",
   "metadata": {},
   "source": [
    "* F1 мера на валидационной выборке ниже чем у логистической регрессии.\n",
    "\n",
    "* F1: 0.3551 (max_depth=15,random_state=41, class_weight={0:1,1:9}, n_estimators=300)\n",
    "* Wall time: 1min 10s\n",
    "\n",
    "Переходим к обучению LightGBM"
   ]
  },
  {
   "cell_type": "markdown",
   "metadata": {},
   "source": [
    "### LGBMClassifier"
   ]
  },
  {
   "cell_type": "code",
   "execution_count": 97,
   "metadata": {
    "tags": []
   },
   "outputs": [
    {
     "name": "stdout",
     "output_type": "stream",
     "text": [
      "F1: 0.7918816649466806\n",
      "CPU times: user 8min 56s, sys: 4.23 s, total: 9min 1s\n",
      "Wall time: 2min 33s\n"
     ]
    }
   ],
   "source": [
    "%%time\n",
    "# Create the LGBMRegressor model\n",
    "lgbmc = LGBMClassifier(random_state=41, n_estimators=300)\n",
    "# Fit the model on the training data\n",
    "lgbmc.fit(X_train, y_train)\n",
    "# Make predictions on the validation data using the best model\n",
    "y_pred = lgbmc.predict(X_valid)\n",
    "print(\"F1:\", f1_score(y_valid, y_pred))"
   ]
  },
  {
   "cell_type": "markdown",
   "metadata": {},
   "source": [
    "* Значение F1 на валидационной выборке 0.7918 Wall time: 2min 33s"
   ]
  },
  {
   "cell_type": "markdown",
   "metadata": {
    "tags": []
   },
   "source": [
    "### Выводы после обучения"
   ]
  },
  {
   "cell_type": "markdown",
   "metadata": {},
   "source": [
    "На тестах использовались три модели, лучшие значения F1 можно видеть ниже:\n",
    "* LogisticRegression\n",
    "    * F1: 0.7662\n",
    "    * Wall time: 31 s\n",
    "* RandomForestClassifier\n",
    "    * F1: 0.3551\n",
    "    * Wall time: 1min 10s\n",
    "* LGBMClassifier\n",
    "    * F1: 0.7918\n",
    "    * Wall time: 2min 33s\n",
    "    \n",
    "Выводы по лучшей модели очевидны - **LGBMClassifier** При этом обучение у нее самое долгое.\n",
    "Проверим ее на тестовой выборке."
   ]
  },
  {
   "cell_type": "markdown",
   "metadata": {},
   "source": [
    "### F1 на тестовой выборке"
   ]
  },
  {
   "cell_type": "code",
   "execution_count": 99,
   "metadata": {
    "tags": []
   },
   "outputs": [
    {
     "name": "stdout",
     "output_type": "stream",
     "text": [
      "F1: 0.7710084033613446\n",
      "CPU times: user 4.94 s, sys: 15.6 ms, total: 4.95 s\n",
      "Wall time: 1.64 s\n"
     ]
    }
   ],
   "source": [
    "%%time\n",
    "#Predict the classes\n",
    "y_pred = lgbmc.predict(X_test)\n",
    "# Print F1 score\n",
    "print(\"F1:\", f1_score(y_test, y_pred))"
   ]
  },
  {
   "cell_type": "markdown",
   "metadata": {},
   "source": [
    "F1: 0.7710 на тестовой выборке. Целевое значение F1 достигнуто."
   ]
  },
  {
   "cell_type": "markdown",
   "metadata": {},
   "source": [
    "## Выводы"
   ]
  },
  {
   "cell_type": "markdown",
   "metadata": {},
   "source": [
    "В процессе работы над проектом были проведены анализ и обработка данных:\n",
    "* Исходный набор данных состоял из 159292 объектов, двух признаков (один из них удален) и одного целевого признака `toxic`.\n",
    "* Пропуски в данных или пробелы в значениях не выявлены.\n",
    "* Для подготовки набора данных к задаче обучения были использованы следующие методы:\n",
    "    * Преобразование в lowercase\n",
    "    * Удаление лишних пробелов знаков препинания, цифр.\n",
    "    * Удаление стоп слов, которые не влияют на _сентимент-анализ_\n",
    "    * Лемматизация слов\n",
    "    * Векторизация текста методом _TF-IDF_\n",
    "* Был проведен ресамплинг с учетом баланса признаков.\n",
    "* Итоговый размер выборки составил 159292 объектов 131455 признаков.\n",
    "* Проведена разбивка на обучающую, валидационную и тестовую подвыборки.\n",
    "\n",
    "Для обучения отобраны модели, проведены настройка гиперпараметров, протестированы различные варианты с размером выборки.\n",
    "* LogisticRegression\n",
    "    * F1: 0.7662\n",
    "    * Wall time: 31 s\n",
    "* RandomForestClassifier\n",
    "    * F1: 0.3551\n",
    "    * Wall time: 1min 10s\n",
    "* LGBMClassifier\n",
    "    * **F1: 0.7918**\n",
    "    * Wall time: 2min 33s\n",
    "    \n",
    "Неожиданно для меня лучшие значения метрики качества удалось достичь на классификаторе LGBMClassifier. (В прошлой итерации этого проекта была Логистическая регрессия - в этот раз она тоже показала хорошие результаты)\n",
    "На тестовой выборке эта модель показала следующие значения:\n",
    "* LGBMClassifier\n",
    "    * **F1: 0.7710**\n",
    "    \n",
    "Целевое значение F1 меры достигнуто.\n",
    "\n",
    "P.S. LogisticRegression тоже показала результат выше целевого на тестовой выборке, но ниже чем LGBMClassifier.\n"
   ]
  },
  {
   "cell_type": "markdown",
   "metadata": {},
   "source": []
  }
 ],
 "metadata": {
  "kernelspec": {
   "display_name": "Python 3 (ipykernel)",
   "language": "python",
   "name": "python3"
  },
  "language_info": {
   "codemirror_mode": {
    "name": "ipython",
    "version": 3
   },
   "file_extension": ".py",
   "mimetype": "text/x-python",
   "name": "python",
   "nbconvert_exporter": "python",
   "pygments_lexer": "ipython3",
   "version": "3.9.16"
  },
  "toc": {
   "base_numbering": 1,
   "nav_menu": {},
   "number_sections": true,
   "sideBar": true,
   "skip_h1_title": true,
   "title_cell": "Содержание",
   "title_sidebar": "Contents",
   "toc_cell": true,
   "toc_position": {
    "height": "calc(100% - 180px)",
    "left": "10px",
    "top": "150px",
    "width": "302.391px"
   },
   "toc_section_display": true,
   "toc_window_display": false
  }
 },
 "nbformat": 4,
 "nbformat_minor": 4
}
