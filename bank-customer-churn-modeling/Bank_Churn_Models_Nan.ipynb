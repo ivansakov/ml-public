{
 "cells": [
  {
   "cell_type": "markdown",
   "metadata": {},
   "source": [
    "# Bank Churn Models"
   ]
  },
  {
   "cell_type": "markdown",
   "metadata": {},
   "source": [
    "Clients have started leaving \"N Bank.\" Every month. Not a lot, but it's noticeable. Bank marketers calculated that retaining current clients is cheaper than attracting new ones..\n",
    "\n",
    "I need to predict whether a customer will leave our bank in the near future or not. I have been provided with historical data on customer behavior and termination of contracts with our bank.\n",
    "\n",
    "I will build a model with the maximum possible F1 score. To pass this project successfully, I need to bring the F1 score up to 0.59. I will verify the F1 score on the test set independently.\n",
    "\n",
    "Additionally, I will measure the AUC-ROC and compare its value with the F1 score.\n",
    "\n",
    "Source of data: [https://www.kaggle.com/barelydedicated/bank-customer-churn-modeling](https://www.kaggle.com/barelydedicated/bank-customer-churn-modeling)\n",
    "\n",
    "**Features**\n",
    "* `RowNumber` — index of a row in the dataset\n",
    "* `CustomerId` — unique identifier of a custome\n",
    "* `Surname` — surname\n",
    "* `CreditScore` — credit rating\n",
    "* `Geography` — country of residence\n",
    "* `Gender` — gender\n",
    "* `Age` — age\n",
    "* `Tenure` — number of years the customer has been with the bank\n",
    "* `Balance` — account balance\n",
    "* `NumOfProducts` — number of bank products used by the customer\n",
    "* `HasCrCard` — presence of a credit card\n",
    "* `IsActiveMember` — customer's activity\n",
    "* `EstimatedSalary` — estimated salary\n",
    "\n",
    "**Target**\n",
    "* `Exited` — the fact of a customer leaving"
   ]
  },
  {
   "cell_type": "markdown",
   "metadata": {},
   "source": [
    "# Data preparation\n",
    "\n",
    "- [x]  Investigate missing data (process if necessary).Текст, выделенный полужирным шрифтом\n",
    "- [x]  Investigate categorical data types (use One-Hot Encoding if necessary).\n",
    "- [x]  Split the dataset into training, validation, and testing sets.\n",
    "- [x]  Investigate numerical data types (standardize if necessary)."
   ]
  },
  {
   "cell_type": "code",
   "execution_count": 1,
   "metadata": {
    "execution": {
     "iopub.execute_input": "2023-03-24T10:29:53.097711Z",
     "iopub.status.busy": "2023-03-24T10:29:53.097253Z",
     "iopub.status.idle": "2023-03-24T10:29:54.157921Z",
     "shell.execute_reply": "2023-03-24T10:29:54.156708Z",
     "shell.execute_reply.started": "2023-03-24T10:29:53.097667Z"
    }
   },
   "outputs": [],
   "source": [
    "# Import the libraries\n",
    "import pandas as pd\n",
    "import numpy as np\n",
    "import seaborn as sns\n",
    "import matplotlib.pyplot as plt\n",
    "\n",
    "from sklearn.model_selection import train_test_split\n",
    "from sklearn.linear_model import LogisticRegression\n",
    "from sklearn.tree import DecisionTreeClassifier\n",
    "from sklearn.ensemble import RandomForestClassifier\n",
    "\n",
    "from sklearn.utils import shuffle\n",
    "from sklearn.preprocessing import StandardScaler, OrdinalEncoder\n",
    "from sklearn.metrics import f1_score, roc_auc_score, accuracy_score, precision_score, recall_score\n",
    "\n",
    "from scipy.stats import ttest_ind\n",
    "from sklearn.metrics import roc_curve, confusion_matrix"
   ]
  },
  {
   "cell_type": "code",
   "execution_count": 2,
   "metadata": {
    "execution": {
     "iopub.execute_input": "2023-03-24T10:29:54.161932Z",
     "iopub.status.busy": "2023-03-24T10:29:54.161160Z",
     "iopub.status.idle": "2023-03-24T10:29:54.209967Z",
     "shell.execute_reply": "2023-03-24T10:29:54.208845Z",
     "shell.execute_reply.started": "2023-03-24T10:29:54.161879Z"
    }
   },
   "outputs": [
    {
     "data": {
      "text/plain": [
       "(10000, 14)"
      ]
     },
     "execution_count": 2,
     "metadata": {},
     "output_type": "execute_result"
    }
   ],
   "source": [
    "# Load the dataset and check its size\n",
    "df = pd.read_csv('/kaggle/input/churn-modelling/Churn_Nan.csv')\n",
    "# Save the original dataset to the variable df_raw\n",
    "df_raw = df.copy()\n",
    "\n",
    "df.shape"
   ]
  },
  {
   "cell_type": "code",
   "execution_count": 3,
   "metadata": {
    "execution": {
     "iopub.execute_input": "2023-03-24T10:29:54.211841Z",
     "iopub.status.busy": "2023-03-24T10:29:54.211385Z",
     "iopub.status.idle": "2023-03-24T10:29:54.240704Z",
     "shell.execute_reply": "2023-03-24T10:29:54.239427Z",
     "shell.execute_reply.started": "2023-03-24T10:29:54.211797Z"
    }
   },
   "outputs": [
    {
     "data": {
      "text/html": [
       "<div>\n",
       "<style scoped>\n",
       "    .dataframe tbody tr th:only-of-type {\n",
       "        vertical-align: middle;\n",
       "    }\n",
       "\n",
       "    .dataframe tbody tr th {\n",
       "        vertical-align: top;\n",
       "    }\n",
       "\n",
       "    .dataframe thead th {\n",
       "        text-align: right;\n",
       "    }\n",
       "</style>\n",
       "<table border=\"1\" class=\"dataframe\">\n",
       "  <thead>\n",
       "    <tr style=\"text-align: right;\">\n",
       "      <th></th>\n",
       "      <th>RowNumber</th>\n",
       "      <th>CustomerId</th>\n",
       "      <th>Surname</th>\n",
       "      <th>CreditScore</th>\n",
       "      <th>Geography</th>\n",
       "      <th>Gender</th>\n",
       "      <th>Age</th>\n",
       "      <th>Tenure</th>\n",
       "      <th>Balance</th>\n",
       "      <th>NumOfProducts</th>\n",
       "      <th>HasCrCard</th>\n",
       "      <th>IsActiveMember</th>\n",
       "      <th>EstimatedSalary</th>\n",
       "      <th>Exited</th>\n",
       "    </tr>\n",
       "  </thead>\n",
       "  <tbody>\n",
       "    <tr>\n",
       "      <th>0</th>\n",
       "      <td>1</td>\n",
       "      <td>15634602</td>\n",
       "      <td>Hargrave</td>\n",
       "      <td>619</td>\n",
       "      <td>France</td>\n",
       "      <td>Female</td>\n",
       "      <td>42</td>\n",
       "      <td>2.0</td>\n",
       "      <td>0.00</td>\n",
       "      <td>1</td>\n",
       "      <td>1</td>\n",
       "      <td>1</td>\n",
       "      <td>101348.88</td>\n",
       "      <td>1</td>\n",
       "    </tr>\n",
       "    <tr>\n",
       "      <th>1</th>\n",
       "      <td>2</td>\n",
       "      <td>15647311</td>\n",
       "      <td>Hill</td>\n",
       "      <td>608</td>\n",
       "      <td>Spain</td>\n",
       "      <td>Female</td>\n",
       "      <td>41</td>\n",
       "      <td>1.0</td>\n",
       "      <td>83807.86</td>\n",
       "      <td>1</td>\n",
       "      <td>0</td>\n",
       "      <td>1</td>\n",
       "      <td>112542.58</td>\n",
       "      <td>0</td>\n",
       "    </tr>\n",
       "    <tr>\n",
       "      <th>2</th>\n",
       "      <td>3</td>\n",
       "      <td>15619304</td>\n",
       "      <td>Onio</td>\n",
       "      <td>502</td>\n",
       "      <td>France</td>\n",
       "      <td>Female</td>\n",
       "      <td>42</td>\n",
       "      <td>8.0</td>\n",
       "      <td>159660.80</td>\n",
       "      <td>3</td>\n",
       "      <td>1</td>\n",
       "      <td>0</td>\n",
       "      <td>113931.57</td>\n",
       "      <td>1</td>\n",
       "    </tr>\n",
       "    <tr>\n",
       "      <th>3</th>\n",
       "      <td>4</td>\n",
       "      <td>15701354</td>\n",
       "      <td>Boni</td>\n",
       "      <td>699</td>\n",
       "      <td>France</td>\n",
       "      <td>Female</td>\n",
       "      <td>39</td>\n",
       "      <td>1.0</td>\n",
       "      <td>0.00</td>\n",
       "      <td>2</td>\n",
       "      <td>0</td>\n",
       "      <td>0</td>\n",
       "      <td>93826.63</td>\n",
       "      <td>0</td>\n",
       "    </tr>\n",
       "    <tr>\n",
       "      <th>4</th>\n",
       "      <td>5</td>\n",
       "      <td>15737888</td>\n",
       "      <td>Mitchell</td>\n",
       "      <td>850</td>\n",
       "      <td>Spain</td>\n",
       "      <td>Female</td>\n",
       "      <td>43</td>\n",
       "      <td>2.0</td>\n",
       "      <td>125510.82</td>\n",
       "      <td>1</td>\n",
       "      <td>1</td>\n",
       "      <td>1</td>\n",
       "      <td>79084.10</td>\n",
       "      <td>0</td>\n",
       "    </tr>\n",
       "  </tbody>\n",
       "</table>\n",
       "</div>"
      ],
      "text/plain": [
       "   RowNumber  CustomerId   Surname  CreditScore Geography  Gender  Age  \\\n",
       "0          1    15634602  Hargrave          619    France  Female   42   \n",
       "1          2    15647311      Hill          608     Spain  Female   41   \n",
       "2          3    15619304      Onio          502    France  Female   42   \n",
       "3          4    15701354      Boni          699    France  Female   39   \n",
       "4          5    15737888  Mitchell          850     Spain  Female   43   \n",
       "\n",
       "   Tenure    Balance  NumOfProducts  HasCrCard  IsActiveMember  \\\n",
       "0     2.0       0.00              1          1               1   \n",
       "1     1.0   83807.86              1          0               1   \n",
       "2     8.0  159660.80              3          1               0   \n",
       "3     1.0       0.00              2          0               0   \n",
       "4     2.0  125510.82              1          1               1   \n",
       "\n",
       "   EstimatedSalary  Exited  \n",
       "0        101348.88       1  \n",
       "1        112542.58       0  \n",
       "2        113931.57       1  \n",
       "3         93826.63       0  \n",
       "4         79084.10       0  "
      ]
     },
     "execution_count": 3,
     "metadata": {},
     "output_type": "execute_result"
    }
   ],
   "source": [
    "# Print the first five rows of the dataset\n",
    "df.head()"
   ]
  },
  {
   "cell_type": "code",
   "execution_count": 4,
   "metadata": {
    "execution": {
     "iopub.execute_input": "2023-03-24T10:29:54.243341Z",
     "iopub.status.busy": "2023-03-24T10:29:54.243013Z",
     "iopub.status.idle": "2023-03-24T10:29:54.252261Z",
     "shell.execute_reply": "2023-03-24T10:29:54.251395Z",
     "shell.execute_reply.started": "2023-03-24T10:29:54.243310Z"
    }
   },
   "outputs": [],
   "source": [
    "# Transform column names to lowercase\n",
    "df.columns = (df.columns).str.lower()\n",
    "df = df.rename(columns={'rownumber':'row_number','customerid':'customer_id','creditscore':'credit_score'\n",
    "                        ,'numofproducts':'num_of_products','hascrcard':'has_cr_card'\n",
    "                        ,'isactivemember':'is_active_member','estimatedsalary':'estimated_salary'})"
   ]
  },
  {
   "cell_type": "markdown",
   "metadata": {},
   "source": [
    "### Investigation of missing data"
   ]
  },
  {
   "cell_type": "code",
   "execution_count": 5,
   "metadata": {
    "execution": {
     "iopub.execute_input": "2023-03-24T10:29:54.254060Z",
     "iopub.status.busy": "2023-03-24T10:29:54.253706Z",
     "iopub.status.idle": "2023-03-24T10:29:54.280144Z",
     "shell.execute_reply": "2023-03-24T10:29:54.279250Z",
     "shell.execute_reply.started": "2023-03-24T10:29:54.254025Z"
    }
   },
   "outputs": [
    {
     "name": "stdout",
     "output_type": "stream",
     "text": [
      "<class 'pandas.core.frame.DataFrame'>\n",
      "RangeIndex: 10000 entries, 0 to 9999\n",
      "Data columns (total 14 columns):\n",
      " #   Column            Non-Null Count  Dtype  \n",
      "---  ------            --------------  -----  \n",
      " 0   row_number        10000 non-null  int64  \n",
      " 1   customer_id       10000 non-null  int64  \n",
      " 2   surname           10000 non-null  object \n",
      " 3   credit_score      10000 non-null  int64  \n",
      " 4   geography         10000 non-null  object \n",
      " 5   gender            10000 non-null  object \n",
      " 6   age               10000 non-null  int64  \n",
      " 7   tenure            9091 non-null   float64\n",
      " 8   balance           10000 non-null  float64\n",
      " 9   num_of_products   10000 non-null  int64  \n",
      " 10  has_cr_card       10000 non-null  int64  \n",
      " 11  is_active_member  10000 non-null  int64  \n",
      " 12  estimated_salary  10000 non-null  float64\n",
      " 13  exited            10000 non-null  int64  \n",
      "dtypes: float64(3), int64(8), object(3)\n",
      "memory usage: 1.1+ MB\n"
     ]
    }
   ],
   "source": [
    "# Check for missing values and data types in column\n",
    "df.info()"
   ]
  },
  {
   "cell_type": "code",
   "execution_count": 6,
   "metadata": {
    "execution": {
     "iopub.execute_input": "2023-03-24T10:29:54.282034Z",
     "iopub.status.busy": "2023-03-24T10:29:54.281329Z",
     "iopub.status.idle": "2023-03-24T10:29:54.301195Z",
     "shell.execute_reply": "2023-03-24T10:29:54.299976Z",
     "shell.execute_reply.started": "2023-03-24T10:29:54.281997Z"
    }
   },
   "outputs": [
    {
     "data": {
      "text/html": [
       "<div>\n",
       "<style scoped>\n",
       "    .dataframe tbody tr th:only-of-type {\n",
       "        vertical-align: middle;\n",
       "    }\n",
       "\n",
       "    .dataframe tbody tr th {\n",
       "        vertical-align: top;\n",
       "    }\n",
       "\n",
       "    .dataframe thead th {\n",
       "        text-align: right;\n",
       "    }\n",
       "</style>\n",
       "<table border=\"1\" class=\"dataframe\">\n",
       "  <thead>\n",
       "    <tr style=\"text-align: right;\">\n",
       "      <th></th>\n",
       "      <th>row_number</th>\n",
       "      <th>customer_id</th>\n",
       "      <th>surname</th>\n",
       "      <th>credit_score</th>\n",
       "      <th>geography</th>\n",
       "      <th>gender</th>\n",
       "      <th>age</th>\n",
       "      <th>tenure</th>\n",
       "      <th>balance</th>\n",
       "      <th>num_of_products</th>\n",
       "      <th>has_cr_card</th>\n",
       "      <th>is_active_member</th>\n",
       "      <th>estimated_salary</th>\n",
       "      <th>exited</th>\n",
       "    </tr>\n",
       "  </thead>\n",
       "  <tbody>\n",
       "    <tr>\n",
       "      <th>30</th>\n",
       "      <td>31</td>\n",
       "      <td>15589475</td>\n",
       "      <td>Azikiwe</td>\n",
       "      <td>591</td>\n",
       "      <td>Spain</td>\n",
       "      <td>Female</td>\n",
       "      <td>39</td>\n",
       "      <td>NaN</td>\n",
       "      <td>0.00</td>\n",
       "      <td>3</td>\n",
       "      <td>1</td>\n",
       "      <td>0</td>\n",
       "      <td>140469.38</td>\n",
       "      <td>1</td>\n",
       "    </tr>\n",
       "    <tr>\n",
       "      <th>48</th>\n",
       "      <td>49</td>\n",
       "      <td>15766205</td>\n",
       "      <td>Yin</td>\n",
       "      <td>550</td>\n",
       "      <td>Germany</td>\n",
       "      <td>Male</td>\n",
       "      <td>38</td>\n",
       "      <td>NaN</td>\n",
       "      <td>103391.38</td>\n",
       "      <td>1</td>\n",
       "      <td>0</td>\n",
       "      <td>1</td>\n",
       "      <td>90878.13</td>\n",
       "      <td>0</td>\n",
       "    </tr>\n",
       "    <tr>\n",
       "      <th>51</th>\n",
       "      <td>52</td>\n",
       "      <td>15768193</td>\n",
       "      <td>Trevisani</td>\n",
       "      <td>585</td>\n",
       "      <td>Germany</td>\n",
       "      <td>Male</td>\n",
       "      <td>36</td>\n",
       "      <td>NaN</td>\n",
       "      <td>146050.97</td>\n",
       "      <td>2</td>\n",
       "      <td>0</td>\n",
       "      <td>0</td>\n",
       "      <td>86424.57</td>\n",
       "      <td>0</td>\n",
       "    </tr>\n",
       "    <tr>\n",
       "      <th>53</th>\n",
       "      <td>54</td>\n",
       "      <td>15702298</td>\n",
       "      <td>Parkhill</td>\n",
       "      <td>655</td>\n",
       "      <td>Germany</td>\n",
       "      <td>Male</td>\n",
       "      <td>41</td>\n",
       "      <td>NaN</td>\n",
       "      <td>125561.97</td>\n",
       "      <td>1</td>\n",
       "      <td>0</td>\n",
       "      <td>0</td>\n",
       "      <td>164040.94</td>\n",
       "      <td>1</td>\n",
       "    </tr>\n",
       "    <tr>\n",
       "      <th>60</th>\n",
       "      <td>61</td>\n",
       "      <td>15651280</td>\n",
       "      <td>Hunter</td>\n",
       "      <td>742</td>\n",
       "      <td>Germany</td>\n",
       "      <td>Male</td>\n",
       "      <td>35</td>\n",
       "      <td>NaN</td>\n",
       "      <td>136857.00</td>\n",
       "      <td>1</td>\n",
       "      <td>0</td>\n",
       "      <td>0</td>\n",
       "      <td>84509.57</td>\n",
       "      <td>0</td>\n",
       "    </tr>\n",
       "    <tr>\n",
       "      <th>82</th>\n",
       "      <td>83</td>\n",
       "      <td>15641732</td>\n",
       "      <td>Mills</td>\n",
       "      <td>543</td>\n",
       "      <td>France</td>\n",
       "      <td>Female</td>\n",
       "      <td>36</td>\n",
       "      <td>NaN</td>\n",
       "      <td>0.00</td>\n",
       "      <td>2</td>\n",
       "      <td>0</td>\n",
       "      <td>0</td>\n",
       "      <td>26019.59</td>\n",
       "      <td>0</td>\n",
       "    </tr>\n",
       "    <tr>\n",
       "      <th>85</th>\n",
       "      <td>86</td>\n",
       "      <td>15805254</td>\n",
       "      <td>Ndukaku</td>\n",
       "      <td>652</td>\n",
       "      <td>Spain</td>\n",
       "      <td>Female</td>\n",
       "      <td>75</td>\n",
       "      <td>NaN</td>\n",
       "      <td>0.00</td>\n",
       "      <td>2</td>\n",
       "      <td>1</td>\n",
       "      <td>1</td>\n",
       "      <td>114675.75</td>\n",
       "      <td>0</td>\n",
       "    </tr>\n",
       "    <tr>\n",
       "      <th>94</th>\n",
       "      <td>95</td>\n",
       "      <td>15676966</td>\n",
       "      <td>Capon</td>\n",
       "      <td>730</td>\n",
       "      <td>Spain</td>\n",
       "      <td>Male</td>\n",
       "      <td>42</td>\n",
       "      <td>NaN</td>\n",
       "      <td>0.00</td>\n",
       "      <td>2</td>\n",
       "      <td>0</td>\n",
       "      <td>1</td>\n",
       "      <td>85982.47</td>\n",
       "      <td>0</td>\n",
       "    </tr>\n",
       "    <tr>\n",
       "      <th>99</th>\n",
       "      <td>100</td>\n",
       "      <td>15633059</td>\n",
       "      <td>Fanucci</td>\n",
       "      <td>413</td>\n",
       "      <td>France</td>\n",
       "      <td>Male</td>\n",
       "      <td>34</td>\n",
       "      <td>NaN</td>\n",
       "      <td>0.00</td>\n",
       "      <td>2</td>\n",
       "      <td>0</td>\n",
       "      <td>0</td>\n",
       "      <td>6534.18</td>\n",
       "      <td>0</td>\n",
       "    </tr>\n",
       "    <tr>\n",
       "      <th>111</th>\n",
       "      <td>112</td>\n",
       "      <td>15665790</td>\n",
       "      <td>Rowntree</td>\n",
       "      <td>538</td>\n",
       "      <td>Germany</td>\n",
       "      <td>Male</td>\n",
       "      <td>39</td>\n",
       "      <td>NaN</td>\n",
       "      <td>108055.10</td>\n",
       "      <td>2</td>\n",
       "      <td>1</td>\n",
       "      <td>0</td>\n",
       "      <td>27231.26</td>\n",
       "      <td>0</td>\n",
       "    </tr>\n",
       "  </tbody>\n",
       "</table>\n",
       "</div>"
      ],
      "text/plain": [
       "     row_number  customer_id    surname  credit_score geography  gender  age  \\\n",
       "30           31     15589475    Azikiwe           591     Spain  Female   39   \n",
       "48           49     15766205        Yin           550   Germany    Male   38   \n",
       "51           52     15768193  Trevisani           585   Germany    Male   36   \n",
       "53           54     15702298   Parkhill           655   Germany    Male   41   \n",
       "60           61     15651280     Hunter           742   Germany    Male   35   \n",
       "82           83     15641732      Mills           543    France  Female   36   \n",
       "85           86     15805254    Ndukaku           652     Spain  Female   75   \n",
       "94           95     15676966      Capon           730     Spain    Male   42   \n",
       "99          100     15633059    Fanucci           413    France    Male   34   \n",
       "111         112     15665790   Rowntree           538   Germany    Male   39   \n",
       "\n",
       "     tenure    balance  num_of_products  has_cr_card  is_active_member  \\\n",
       "30      NaN       0.00                3            1                 0   \n",
       "48      NaN  103391.38                1            0                 1   \n",
       "51      NaN  146050.97                2            0                 0   \n",
       "53      NaN  125561.97                1            0                 0   \n",
       "60      NaN  136857.00                1            0                 0   \n",
       "82      NaN       0.00                2            0                 0   \n",
       "85      NaN       0.00                2            1                 1   \n",
       "94      NaN       0.00                2            0                 1   \n",
       "99      NaN       0.00                2            0                 0   \n",
       "111     NaN  108055.10                2            1                 0   \n",
       "\n",
       "     estimated_salary  exited  \n",
       "30          140469.38       1  \n",
       "48           90878.13       0  \n",
       "51           86424.57       0  \n",
       "53          164040.94       1  \n",
       "60           84509.57       0  \n",
       "82           26019.59       0  \n",
       "85          114675.75       0  \n",
       "94           85982.47       0  \n",
       "99            6534.18       0  \n",
       "111          27231.26       0  "
      ]
     },
     "execution_count": 6,
     "metadata": {},
     "output_type": "execute_result"
    }
   ],
   "source": [
    "# Examine missing data more closely\n",
    "df[df['tenure'].isna()].head(10)"
   ]
  },
  {
   "cell_type": "code",
   "execution_count": 7,
   "metadata": {
    "execution": {
     "iopub.execute_input": "2023-03-24T10:29:54.303113Z",
     "iopub.status.busy": "2023-03-24T10:29:54.302698Z",
     "iopub.status.idle": "2023-03-24T10:29:54.317233Z",
     "shell.execute_reply": "2023-03-24T10:29:54.316232Z",
     "shell.execute_reply.started": "2023-03-24T10:29:54.303068Z"
    }
   },
   "outputs": [
    {
     "data": {
      "text/plain": [
       "tenure\n",
       "0.0     382\n",
       "10.0    446\n",
       "6.0     881\n",
       "9.0     882\n",
       "4.0     885\n",
       "7.0     925\n",
       "5.0     927\n",
       "3.0     928\n",
       "8.0     933\n",
       "2.0     950\n",
       "1.0     952\n",
       "dtype: int64"
      ]
     },
     "execution_count": 7,
     "metadata": {},
     "output_type": "execute_result"
    }
   ],
   "source": [
    "# Count the unique values in the tenure column.\n",
    "df.value_counts('tenure').sort_values()"
   ]
  },
  {
   "cell_type": "code",
   "execution_count": 8,
   "metadata": {
    "execution": {
     "iopub.execute_input": "2023-03-24T10:29:54.318607Z",
     "iopub.status.busy": "2023-03-24T10:29:54.318260Z",
     "iopub.status.idle": "2023-03-24T10:29:54.338743Z",
     "shell.execute_reply": "2023-03-24T10:29:54.337600Z",
     "shell.execute_reply.started": "2023-03-24T10:29:54.318574Z"
    }
   },
   "outputs": [
    {
     "data": {
      "text/html": [
       "<div>\n",
       "<style scoped>\n",
       "    .dataframe tbody tr th:only-of-type {\n",
       "        vertical-align: middle;\n",
       "    }\n",
       "\n",
       "    .dataframe tbody tr th {\n",
       "        vertical-align: top;\n",
       "    }\n",
       "\n",
       "    .dataframe thead th {\n",
       "        text-align: right;\n",
       "    }\n",
       "</style>\n",
       "<table border=\"1\" class=\"dataframe\">\n",
       "  <thead>\n",
       "    <tr style=\"text-align: right;\">\n",
       "      <th></th>\n",
       "      <th>row_number</th>\n",
       "      <th>customer_id</th>\n",
       "      <th>surname</th>\n",
       "      <th>credit_score</th>\n",
       "      <th>geography</th>\n",
       "      <th>gender</th>\n",
       "      <th>age</th>\n",
       "      <th>tenure</th>\n",
       "      <th>balance</th>\n",
       "      <th>num_of_products</th>\n",
       "      <th>has_cr_card</th>\n",
       "      <th>is_active_member</th>\n",
       "      <th>estimated_salary</th>\n",
       "      <th>exited</th>\n",
       "    </tr>\n",
       "  </thead>\n",
       "  <tbody>\n",
       "    <tr>\n",
       "      <th>1287</th>\n",
       "      <td>1288</td>\n",
       "      <td>15565701</td>\n",
       "      <td>Ferri</td>\n",
       "      <td>698</td>\n",
       "      <td>Spain</td>\n",
       "      <td>Female</td>\n",
       "      <td>39</td>\n",
       "      <td>9.0</td>\n",
       "      <td>161993.89</td>\n",
       "      <td>1</td>\n",
       "      <td>0</td>\n",
       "      <td>0</td>\n",
       "      <td>90212.38</td>\n",
       "      <td>0</td>\n",
       "    </tr>\n",
       "    <tr>\n",
       "      <th>4198</th>\n",
       "      <td>4199</td>\n",
       "      <td>15565706</td>\n",
       "      <td>Akobundu</td>\n",
       "      <td>612</td>\n",
       "      <td>Spain</td>\n",
       "      <td>Male</td>\n",
       "      <td>35</td>\n",
       "      <td>1.0</td>\n",
       "      <td>0.00</td>\n",
       "      <td>1</td>\n",
       "      <td>1</td>\n",
       "      <td>1</td>\n",
       "      <td>83256.26</td>\n",
       "      <td>1</td>\n",
       "    </tr>\n",
       "    <tr>\n",
       "      <th>7090</th>\n",
       "      <td>7091</td>\n",
       "      <td>15565714</td>\n",
       "      <td>Cattaneo</td>\n",
       "      <td>601</td>\n",
       "      <td>France</td>\n",
       "      <td>Male</td>\n",
       "      <td>47</td>\n",
       "      <td>1.0</td>\n",
       "      <td>64430.06</td>\n",
       "      <td>2</td>\n",
       "      <td>0</td>\n",
       "      <td>1</td>\n",
       "      <td>96517.97</td>\n",
       "      <td>0</td>\n",
       "    </tr>\n",
       "    <tr>\n",
       "      <th>2020</th>\n",
       "      <td>2021</td>\n",
       "      <td>15565779</td>\n",
       "      <td>Kent</td>\n",
       "      <td>627</td>\n",
       "      <td>Germany</td>\n",
       "      <td>Female</td>\n",
       "      <td>30</td>\n",
       "      <td>6.0</td>\n",
       "      <td>57809.32</td>\n",
       "      <td>1</td>\n",
       "      <td>1</td>\n",
       "      <td>0</td>\n",
       "      <td>188258.49</td>\n",
       "      <td>0</td>\n",
       "    </tr>\n",
       "    <tr>\n",
       "      <th>3697</th>\n",
       "      <td>3698</td>\n",
       "      <td>15565796</td>\n",
       "      <td>Docherty</td>\n",
       "      <td>745</td>\n",
       "      <td>Germany</td>\n",
       "      <td>Male</td>\n",
       "      <td>48</td>\n",
       "      <td>10.0</td>\n",
       "      <td>96048.55</td>\n",
       "      <td>1</td>\n",
       "      <td>1</td>\n",
       "      <td>0</td>\n",
       "      <td>74510.65</td>\n",
       "      <td>0</td>\n",
       "    </tr>\n",
       "  </tbody>\n",
       "</table>\n",
       "</div>"
      ],
      "text/plain": [
       "      row_number  customer_id   surname  credit_score geography  gender  age  \\\n",
       "1287        1288     15565701     Ferri           698     Spain  Female   39   \n",
       "4198        4199     15565706  Akobundu           612     Spain    Male   35   \n",
       "7090        7091     15565714  Cattaneo           601    France    Male   47   \n",
       "2020        2021     15565779      Kent           627   Germany  Female   30   \n",
       "3697        3698     15565796  Docherty           745   Germany    Male   48   \n",
       "\n",
       "      tenure    balance  num_of_products  has_cr_card  is_active_member  \\\n",
       "1287     9.0  161993.89                1            0                 0   \n",
       "4198     1.0       0.00                1            1                 1   \n",
       "7090     1.0   64430.06                2            0                 1   \n",
       "2020     6.0   57809.32                1            1                 0   \n",
       "3697    10.0   96048.55                1            1                 0   \n",
       "\n",
       "      estimated_salary  exited  \n",
       "1287          90212.38       0  \n",
       "4198          83256.26       1  \n",
       "7090          96517.97       0  \n",
       "2020         188258.49       0  \n",
       "3697          74510.65       0  "
      ]
     },
     "execution_count": 8,
     "metadata": {},
     "output_type": "execute_result"
    }
   ],
   "source": [
    "# Check the relationship between tenure values and customer_id\n",
    "# Usually, id is assigned sequentially for each new object\n",
    "df.sort_values('customer_id').head()"
   ]
  },
  {
   "cell_type": "markdown",
   "metadata": {},
   "source": [
    "When using classification models from the scikit-learn (sklearn) library, if there are NaN values in the dataset, it is necessary to handle these missing values correctly. Here are several strategies that can be considered:\n",
    "\n",
    "* **Filling the missing values**: one strategy for working with missing data is to fill them with some reasonable value. The simplest approach is to replace missing values with the mean, median, or mode of the feature column. However, more complex methods can also be used, such as filling in based on K-nearest neighbors (KNN) or filling in using other models such as decision trees or random forests.\n",
    "* **Deletion**: Another strategy is to delete rows or columns with missing values. However, when using this strategy, it is important to be cautious, especially if we have many missing values or if the missing values are not randomly distributed throughout the dataset."
   ]
  },
  {
   "cell_type": "markdown",
   "metadata": {},
   "source": [
    "In the original dataset, there are only missing values for the `tenure` column (how many years a person has been a bank customer). Upon a cursory examination of the data, we could not determine the reason for the missing values or find any correlation with other columns.\n",
    "\n",
    "The number of missing values in the column is about 9% of the total number of values in that column.\n",
    "\n",
    "* Such a proportion of missing values is usually not critical for deletion, but we should also consider the option of filling in the missing values.\n",
    "\n",
    "* After calculating the unique values in the column, we can see that the fewest clients (382) have been with the bank for less than a year (feature value = 0). It is possible to assume that the missing values in the data are relevant to this category of clients. Therefore, they can be processed by filling in with a value of \"0\".\n",
    "\n",
    "\n",
    "To check this hypothesis, we will create two datasets (one with missing values removed and the other with missing values filled with \"0\") and compare the classification results.\n",
    "\n",
    "\n",
    "Before removing missing values, we will preliminarily test hypotheses about the equality of means in the numerical features of the two samples (original and after removal of missing values)."
   ]
  },
  {
   "cell_type": "markdown",
   "metadata": {},
   "source": [
    "**Let's formulate the hypotheses:**\n",
    "\n",
    "* H₀ - Null hypothesis - The means of the numerical feature in the samples are equal.\n",
    "* H₁ - Alternative hypothesis - The means of the numerical feature in the samples are not equal.\n",
    "\n",
    "_By samples, I mean the original dataset and the dataset after removing missing values._"
   ]
  },
  {
   "cell_type": "code",
   "execution_count": 9,
   "metadata": {
    "execution": {
     "iopub.execute_input": "2023-03-24T10:29:54.341003Z",
     "iopub.status.busy": "2023-03-24T10:29:54.340583Z",
     "iopub.status.idle": "2023-03-24T10:29:54.348719Z",
     "shell.execute_reply": "2023-03-24T10:29:54.347387Z",
     "shell.execute_reply.started": "2023-03-24T10:29:54.340960Z"
    }
   },
   "outputs": [],
   "source": [
    "# Function for testing hypotheses about the equality of values from samples\n",
    "\n",
    "def ttest_na_df(df=df, alpha=0.05):\n",
    "    \n",
    "    \n",
    "    for col in df.select_dtypes(include=['int64','float64']).columns:\n",
    "        subset = df[col]\n",
    "        subset_dropped = df.dropna()[col]\n",
    "        \n",
    "        try:\n",
    "            t_stat, p_value = ttest_ind(subset, subset_dropped, equal_var=True)\n",
    "            print('Feature:', col)\n",
    "            print('p-value:', p_value)\n",
    "            if p_value < alpha:\n",
    "                print('We reject the null hypothesis','\\n')\n",
    "                \n",
    "            else:\n",
    "                print('We failed to reject the null hypothesis','\\n')\n",
    "                \n",
    "        except:\n",
    "            print(f'Feature: {col} something went wrong!','\\n')"
   ]
  },
  {
   "cell_type": "code",
   "execution_count": 10,
   "metadata": {
    "execution": {
     "iopub.execute_input": "2023-03-24T10:29:54.355303Z",
     "iopub.status.busy": "2023-03-24T10:29:54.354973Z",
     "iopub.status.idle": "2023-03-24T10:29:54.419034Z",
     "shell.execute_reply": "2023-03-24T10:29:54.417805Z",
     "shell.execute_reply.started": "2023-03-24T10:29:54.355271Z"
    }
   },
   "outputs": [
    {
     "name": "stdout",
     "output_type": "stream",
     "text": [
      "Feature: row_number\n",
      "p-value: 0.7484615653552151\n",
      "We failed to reject the null hypothesis \n",
      "\n",
      "Feature: customer_id\n",
      "p-value: 0.9138124277302712\n",
      "We failed to reject the null hypothesis \n",
      "\n",
      "Feature: credit_score\n",
      "p-value: 0.8819458589489737\n",
      "We failed to reject the null hypothesis \n",
      "\n",
      "Feature: age\n",
      "p-value: 0.8574667702064644\n",
      "We failed to reject the null hypothesis \n",
      "\n",
      "Feature: tenure\n",
      "p-value: nan\n",
      "We failed to reject the null hypothesis \n",
      "\n",
      "Feature: balance\n",
      "p-value: 0.9674755453963604\n",
      "We failed to reject the null hypothesis \n",
      "\n",
      "Feature: num_of_products\n",
      "p-value: 0.9994978565520835\n",
      "We failed to reject the null hypothesis \n",
      "\n",
      "Feature: has_cr_card\n",
      "p-value: 0.9376271388604607\n",
      "We failed to reject the null hypothesis \n",
      "\n",
      "Feature: is_active_member\n",
      "p-value: 0.9488263246446845\n",
      "We failed to reject the null hypothesis \n",
      "\n",
      "Feature: estimated_salary\n",
      "p-value: 0.9131579855792714\n",
      "We failed to reject the null hypothesis \n",
      "\n",
      "Feature: exited\n",
      "p-value: 0.9674864614792923\n",
      "We failed to reject the null hypothesis \n",
      "\n"
     ]
    }
   ],
   "source": [
    "# Test hypotheses for our features\n",
    "ttest_na_df()"
   ]
  },
  {
   "cell_type": "markdown",
   "metadata": {},
   "source": [
    "The p-value indicates the probability of obtaining such or greater statistical difference between two groups by chance, assuming that the null hypothesis is true.\n",
    "\n",
    "1. The feature `tenure` contains NaN values in the original dataset, therefore it was not possible to test hypotheses for it.\n",
    "2. For the remaining numerical features, we can confidently say that we failed to reject the null hypothesis that the mean values of the numerical feature in the samples are equal.\n",
    "\n",
    "\n",
    "It has been decided that we can remove the missing values in the `tenure` column. We will do this after we examine our original dataset and optimize/regularize the values."
   ]
  },
  {
   "cell_type": "markdown",
   "metadata": {},
   "source": [
    "### Categorical features"
   ]
  },
  {
   "cell_type": "code",
   "execution_count": 11,
   "metadata": {
    "execution": {
     "iopub.execute_input": "2023-03-24T10:29:54.421639Z",
     "iopub.status.busy": "2023-03-24T10:29:54.420757Z",
     "iopub.status.idle": "2023-03-24T10:29:54.436507Z",
     "shell.execute_reply": "2023-03-24T10:29:54.435519Z",
     "shell.execute_reply.started": "2023-03-24T10:29:54.421590Z"
    }
   },
   "outputs": [
    {
     "data": {
      "text/plain": [
       "surname      2932\n",
       "geography       3\n",
       "gender          2\n",
       "dtype: int64"
      ]
     },
     "execution_count": 11,
     "metadata": {},
     "output_type": "execute_result"
    }
   ],
   "source": [
    "# Create a dataset with categorical features\n",
    "obj_col = df.select_dtypes(include=['object'])\n",
    "# Look at the number of unique values in the columns\n",
    "obj_col.nunique()"
   ]
  },
  {
   "cell_type": "markdown",
   "metadata": {},
   "source": [
    "The `surname` feature has 2932 unique values, and the One-Hot Encoding technique is not suitable here. It is better to use Ordinal Encoding, but this method is not suitable for logistic regression.\n",
    "\n",
    "* It has been decided to remove the 'surname' column.\n",
    "\n",
    "As for the `geography` and `gender` features, we will use the One-Hot Encoding technique for them."
   ]
  },
  {
   "cell_type": "code",
   "execution_count": 12,
   "metadata": {
    "execution": {
     "iopub.execute_input": "2023-03-24T10:29:54.438481Z",
     "iopub.status.busy": "2023-03-24T10:29:54.437729Z",
     "iopub.status.idle": "2023-03-24T10:29:54.444316Z",
     "shell.execute_reply": "2023-03-24T10:29:54.443156Z",
     "shell.execute_reply.started": "2023-03-24T10:29:54.438425Z"
    }
   },
   "outputs": [],
   "source": [
    "# Delete the categorical feature 'surname\n",
    "df = df.drop(columns='surname')"
   ]
  },
  {
   "cell_type": "code",
   "execution_count": 13,
   "metadata": {
    "execution": {
     "iopub.execute_input": "2023-03-24T10:29:54.445763Z",
     "iopub.status.busy": "2023-03-24T10:29:54.445395Z",
     "iopub.status.idle": "2023-03-24T10:29:54.469799Z",
     "shell.execute_reply": "2023-03-24T10:29:54.468802Z",
     "shell.execute_reply.started": "2023-03-24T10:29:54.445730Z"
    }
   },
   "outputs": [
    {
     "data": {
      "text/html": [
       "<div>\n",
       "<style scoped>\n",
       "    .dataframe tbody tr th:only-of-type {\n",
       "        vertical-align: middle;\n",
       "    }\n",
       "\n",
       "    .dataframe tbody tr th {\n",
       "        vertical-align: top;\n",
       "    }\n",
       "\n",
       "    .dataframe thead th {\n",
       "        text-align: right;\n",
       "    }\n",
       "</style>\n",
       "<table border=\"1\" class=\"dataframe\">\n",
       "  <thead>\n",
       "    <tr style=\"text-align: right;\">\n",
       "      <th></th>\n",
       "      <th></th>\n",
       "      <th>mean</th>\n",
       "      <th>count_na</th>\n",
       "    </tr>\n",
       "    <tr>\n",
       "      <th>geography</th>\n",
       "      <th>gender</th>\n",
       "      <th></th>\n",
       "      <th></th>\n",
       "    </tr>\n",
       "  </thead>\n",
       "  <tbody>\n",
       "    <tr>\n",
       "      <th rowspan=\"2\" valign=\"top\">France</th>\n",
       "      <th>Female</th>\n",
       "      <td>0.095975</td>\n",
       "      <td>217</td>\n",
       "    </tr>\n",
       "    <tr>\n",
       "      <th>Male</th>\n",
       "      <td>0.089720</td>\n",
       "      <td>247</td>\n",
       "    </tr>\n",
       "    <tr>\n",
       "      <th rowspan=\"2\" valign=\"top\">Germany</th>\n",
       "      <th>Female</th>\n",
       "      <td>0.090528</td>\n",
       "      <td>108</td>\n",
       "    </tr>\n",
       "    <tr>\n",
       "      <th>Male</th>\n",
       "      <td>0.082067</td>\n",
       "      <td>108</td>\n",
       "    </tr>\n",
       "    <tr>\n",
       "      <th rowspan=\"2\" valign=\"top\">Spain</th>\n",
       "      <th>Female</th>\n",
       "      <td>0.092746</td>\n",
       "      <td>101</td>\n",
       "    </tr>\n",
       "    <tr>\n",
       "      <th>Male</th>\n",
       "      <td>0.092219</td>\n",
       "      <td>128</td>\n",
       "    </tr>\n",
       "  </tbody>\n",
       "</table>\n",
       "</div>"
      ],
      "text/plain": [
       "                      mean  count_na\n",
       "geography gender                    \n",
       "France    Female  0.095975       217\n",
       "          Male    0.089720       247\n",
       "Germany   Female  0.090528       108\n",
       "          Male    0.082067       108\n",
       "Spain     Female  0.092746       101\n",
       "          Male    0.092219       128"
      ]
     },
     "execution_count": 13,
     "metadata": {},
     "output_type": "execute_result"
    }
   ],
   "source": [
    "# Examine the relationship between categorical features and missing values\n",
    "df['is_na'] = df['tenure'].isna().astype('int')\n",
    "df.groupby(['geography', 'gender'])['is_na'].agg(['mean','sum']).rename(columns={'sum':'count_na'})"
   ]
  },
  {
   "cell_type": "code",
   "execution_count": 14,
   "metadata": {
    "execution": {
     "iopub.execute_input": "2023-03-24T10:29:54.472400Z",
     "iopub.status.busy": "2023-03-24T10:29:54.471598Z",
     "iopub.status.idle": "2023-03-24T10:29:54.482614Z",
     "shell.execute_reply": "2023-03-24T10:29:54.481633Z",
     "shell.execute_reply.started": "2023-03-24T10:29:54.472354Z"
    }
   },
   "outputs": [
    {
     "data": {
      "text/plain": [
       "(10000, 13)"
      ]
     },
     "execution_count": 14,
     "metadata": {},
     "output_type": "execute_result"
    }
   ],
   "source": [
    "# Delete the new column after analysis\n",
    "df = df.drop(columns='is_na')\n",
    "df.shape"
   ]
  },
  {
   "cell_type": "markdown",
   "metadata": {},
   "source": [
    "From the calculation above, we can see that the proportion of missing values for different categories is in the range of 9% to 9.6%.\n",
    "\n",
    "* I can assume that there will not be a significant imbalance in these features after removing objects with missing values."
   ]
  },
  {
   "cell_type": "code",
   "execution_count": 15,
   "metadata": {
    "execution": {
     "iopub.execute_input": "2023-03-24T10:29:54.484759Z",
     "iopub.status.busy": "2023-03-24T10:29:54.484074Z",
     "iopub.status.idle": "2023-03-24T10:29:54.500024Z",
     "shell.execute_reply": "2023-03-24T10:29:54.499090Z",
     "shell.execute_reply.started": "2023-03-24T10:29:54.484714Z"
    }
   },
   "outputs": [],
   "source": [
    "# Transform the categorical features 'geography' and 'gender'\n",
    "df_ohe = pd.get_dummies(df, drop_first=True).copy()"
   ]
  },
  {
   "cell_type": "code",
   "execution_count": 16,
   "metadata": {
    "execution": {
     "iopub.execute_input": "2023-03-24T10:29:54.502086Z",
     "iopub.status.busy": "2023-03-24T10:29:54.501731Z",
     "iopub.status.idle": "2023-03-24T10:29:54.521794Z",
     "shell.execute_reply": "2023-03-24T10:29:54.520685Z",
     "shell.execute_reply.started": "2023-03-24T10:29:54.502051Z"
    }
   },
   "outputs": [
    {
     "data": {
      "text/html": [
       "<div>\n",
       "<style scoped>\n",
       "    .dataframe tbody tr th:only-of-type {\n",
       "        vertical-align: middle;\n",
       "    }\n",
       "\n",
       "    .dataframe tbody tr th {\n",
       "        vertical-align: top;\n",
       "    }\n",
       "\n",
       "    .dataframe thead th {\n",
       "        text-align: right;\n",
       "    }\n",
       "</style>\n",
       "<table border=\"1\" class=\"dataframe\">\n",
       "  <thead>\n",
       "    <tr style=\"text-align: right;\">\n",
       "      <th></th>\n",
       "      <th>0</th>\n",
       "      <th>1</th>\n",
       "      <th>2</th>\n",
       "      <th>3</th>\n",
       "      <th>4</th>\n",
       "    </tr>\n",
       "  </thead>\n",
       "  <tbody>\n",
       "    <tr>\n",
       "      <th>row_number</th>\n",
       "      <td>1.00</td>\n",
       "      <td>2.00</td>\n",
       "      <td>3.00</td>\n",
       "      <td>4.00</td>\n",
       "      <td>5.00</td>\n",
       "    </tr>\n",
       "    <tr>\n",
       "      <th>customer_id</th>\n",
       "      <td>15634602.00</td>\n",
       "      <td>15647311.00</td>\n",
       "      <td>15619304.00</td>\n",
       "      <td>15701354.00</td>\n",
       "      <td>15737888.00</td>\n",
       "    </tr>\n",
       "    <tr>\n",
       "      <th>credit_score</th>\n",
       "      <td>619.00</td>\n",
       "      <td>608.00</td>\n",
       "      <td>502.00</td>\n",
       "      <td>699.00</td>\n",
       "      <td>850.00</td>\n",
       "    </tr>\n",
       "    <tr>\n",
       "      <th>age</th>\n",
       "      <td>42.00</td>\n",
       "      <td>41.00</td>\n",
       "      <td>42.00</td>\n",
       "      <td>39.00</td>\n",
       "      <td>43.00</td>\n",
       "    </tr>\n",
       "    <tr>\n",
       "      <th>tenure</th>\n",
       "      <td>2.00</td>\n",
       "      <td>1.00</td>\n",
       "      <td>8.00</td>\n",
       "      <td>1.00</td>\n",
       "      <td>2.00</td>\n",
       "    </tr>\n",
       "    <tr>\n",
       "      <th>balance</th>\n",
       "      <td>0.00</td>\n",
       "      <td>83807.86</td>\n",
       "      <td>159660.80</td>\n",
       "      <td>0.00</td>\n",
       "      <td>125510.82</td>\n",
       "    </tr>\n",
       "    <tr>\n",
       "      <th>num_of_products</th>\n",
       "      <td>1.00</td>\n",
       "      <td>1.00</td>\n",
       "      <td>3.00</td>\n",
       "      <td>2.00</td>\n",
       "      <td>1.00</td>\n",
       "    </tr>\n",
       "    <tr>\n",
       "      <th>has_cr_card</th>\n",
       "      <td>1.00</td>\n",
       "      <td>0.00</td>\n",
       "      <td>1.00</td>\n",
       "      <td>0.00</td>\n",
       "      <td>1.00</td>\n",
       "    </tr>\n",
       "    <tr>\n",
       "      <th>is_active_member</th>\n",
       "      <td>1.00</td>\n",
       "      <td>1.00</td>\n",
       "      <td>0.00</td>\n",
       "      <td>0.00</td>\n",
       "      <td>1.00</td>\n",
       "    </tr>\n",
       "    <tr>\n",
       "      <th>estimated_salary</th>\n",
       "      <td>101348.88</td>\n",
       "      <td>112542.58</td>\n",
       "      <td>113931.57</td>\n",
       "      <td>93826.63</td>\n",
       "      <td>79084.10</td>\n",
       "    </tr>\n",
       "    <tr>\n",
       "      <th>exited</th>\n",
       "      <td>1.00</td>\n",
       "      <td>0.00</td>\n",
       "      <td>1.00</td>\n",
       "      <td>0.00</td>\n",
       "      <td>0.00</td>\n",
       "    </tr>\n",
       "    <tr>\n",
       "      <th>geography_germany</th>\n",
       "      <td>0.00</td>\n",
       "      <td>0.00</td>\n",
       "      <td>0.00</td>\n",
       "      <td>0.00</td>\n",
       "      <td>0.00</td>\n",
       "    </tr>\n",
       "    <tr>\n",
       "      <th>geography_spain</th>\n",
       "      <td>0.00</td>\n",
       "      <td>1.00</td>\n",
       "      <td>0.00</td>\n",
       "      <td>0.00</td>\n",
       "      <td>1.00</td>\n",
       "    </tr>\n",
       "    <tr>\n",
       "      <th>gender_male</th>\n",
       "      <td>0.00</td>\n",
       "      <td>0.00</td>\n",
       "      <td>0.00</td>\n",
       "      <td>0.00</td>\n",
       "      <td>0.00</td>\n",
       "    </tr>\n",
       "  </tbody>\n",
       "</table>\n",
       "</div>"
      ],
      "text/plain": [
       "                             0            1            2            3  \\\n",
       "row_number                1.00         2.00         3.00         4.00   \n",
       "customer_id        15634602.00  15647311.00  15619304.00  15701354.00   \n",
       "credit_score            619.00       608.00       502.00       699.00   \n",
       "age                      42.00        41.00        42.00        39.00   \n",
       "tenure                    2.00         1.00         8.00         1.00   \n",
       "balance                   0.00     83807.86    159660.80         0.00   \n",
       "num_of_products           1.00         1.00         3.00         2.00   \n",
       "has_cr_card               1.00         0.00         1.00         0.00   \n",
       "is_active_member          1.00         1.00         0.00         0.00   \n",
       "estimated_salary     101348.88    112542.58    113931.57     93826.63   \n",
       "exited                    1.00         0.00         1.00         0.00   \n",
       "geography_germany         0.00         0.00         0.00         0.00   \n",
       "geography_spain           0.00         1.00         0.00         0.00   \n",
       "gender_male               0.00         0.00         0.00         0.00   \n",
       "\n",
       "                             4  \n",
       "row_number                5.00  \n",
       "customer_id        15737888.00  \n",
       "credit_score            850.00  \n",
       "age                      43.00  \n",
       "tenure                    2.00  \n",
       "balance              125510.82  \n",
       "num_of_products           1.00  \n",
       "has_cr_card               1.00  \n",
       "is_active_member          1.00  \n",
       "estimated_salary      79084.10  \n",
       "exited                    0.00  \n",
       "geography_germany         0.00  \n",
       "geography_spain           1.00  \n",
       "gender_male               0.00  "
      ]
     },
     "execution_count": 16,
     "metadata": {},
     "output_type": "execute_result"
    }
   ],
   "source": [
    "# Convert the column names to lowercase\n",
    "df_ohe.columns = (df_ohe.columns).str.lower()\n",
    "df_ohe.head().T"
   ]
  },
  {
   "cell_type": "code",
   "execution_count": 17,
   "metadata": {
    "execution": {
     "iopub.execute_input": "2023-03-24T10:29:54.524326Z",
     "iopub.status.busy": "2023-03-24T10:29:54.523787Z",
     "iopub.status.idle": "2023-03-24T10:29:54.533726Z",
     "shell.execute_reply": "2023-03-24T10:29:54.532278Z",
     "shell.execute_reply.started": "2023-03-24T10:29:54.524279Z"
    }
   },
   "outputs": [
    {
     "data": {
      "text/plain": [
       "(10000, 14)"
      ]
     },
     "execution_count": 17,
     "metadata": {},
     "output_type": "execute_result"
    }
   ],
   "source": [
    "# Check the size of the resulting dataframe\n",
    "df_ohe.shape"
   ]
  },
  {
   "cell_type": "markdown",
   "metadata": {},
   "source": [
    "The categorical data was analyzed and transformed.\n",
    "\n",
    "* It was decided to remove the `surname` feature. It can be assumed that the probability of a customer leaving the bank does not depend on their name. \n",
    "* The `geography` and `gender` features were transformed using the OHE technique with the removal of the first column for each feature to avoid the \"dummy variable trap\". The OHE technique is suitable for encoding categorical features and subsequent use of the resulting datasets in models such as logistic regression, decision trees, and random forests."
   ]
  },
  {
   "cell_type": "markdown",
   "metadata": {},
   "source": [
    "### Numerical features"
   ]
  },
  {
   "cell_type": "code",
   "execution_count": 18,
   "metadata": {
    "execution": {
     "iopub.execute_input": "2023-03-24T10:29:54.536364Z",
     "iopub.status.busy": "2023-03-24T10:29:54.535521Z",
     "iopub.status.idle": "2023-03-24T10:29:54.594931Z",
     "shell.execute_reply": "2023-03-24T10:29:54.593800Z",
     "shell.execute_reply.started": "2023-03-24T10:29:54.536319Z"
    }
   },
   "outputs": [
    {
     "data": {
      "text/html": [
       "<div>\n",
       "<style scoped>\n",
       "    .dataframe tbody tr th:only-of-type {\n",
       "        vertical-align: middle;\n",
       "    }\n",
       "\n",
       "    .dataframe tbody tr th {\n",
       "        vertical-align: top;\n",
       "    }\n",
       "\n",
       "    .dataframe thead th {\n",
       "        text-align: right;\n",
       "    }\n",
       "</style>\n",
       "<table border=\"1\" class=\"dataframe\">\n",
       "  <thead>\n",
       "    <tr style=\"text-align: right;\">\n",
       "      <th></th>\n",
       "      <th>row_number</th>\n",
       "      <th>customer_id</th>\n",
       "      <th>credit_score</th>\n",
       "      <th>age</th>\n",
       "      <th>tenure</th>\n",
       "      <th>balance</th>\n",
       "      <th>num_of_products</th>\n",
       "      <th>has_cr_card</th>\n",
       "      <th>is_active_member</th>\n",
       "      <th>estimated_salary</th>\n",
       "      <th>exited</th>\n",
       "      <th>geography_germany</th>\n",
       "      <th>geography_spain</th>\n",
       "      <th>gender_male</th>\n",
       "    </tr>\n",
       "  </thead>\n",
       "  <tbody>\n",
       "    <tr>\n",
       "      <th>count</th>\n",
       "      <td>10000.00000</td>\n",
       "      <td>1.000000e+04</td>\n",
       "      <td>10000.000000</td>\n",
       "      <td>10000.000000</td>\n",
       "      <td>9091.000000</td>\n",
       "      <td>10000.000000</td>\n",
       "      <td>10000.000000</td>\n",
       "      <td>10000.00000</td>\n",
       "      <td>10000.000000</td>\n",
       "      <td>10000.000000</td>\n",
       "      <td>10000.000000</td>\n",
       "      <td>10000.000000</td>\n",
       "      <td>10000.000000</td>\n",
       "      <td>10000.000000</td>\n",
       "    </tr>\n",
       "    <tr>\n",
       "      <th>mean</th>\n",
       "      <td>5000.50000</td>\n",
       "      <td>1.569094e+07</td>\n",
       "      <td>650.528800</td>\n",
       "      <td>38.921800</td>\n",
       "      <td>4.997690</td>\n",
       "      <td>76485.889288</td>\n",
       "      <td>1.530200</td>\n",
       "      <td>0.70550</td>\n",
       "      <td>0.515100</td>\n",
       "      <td>100090.239881</td>\n",
       "      <td>0.203700</td>\n",
       "      <td>0.250900</td>\n",
       "      <td>0.247700</td>\n",
       "      <td>0.545700</td>\n",
       "    </tr>\n",
       "    <tr>\n",
       "      <th>std</th>\n",
       "      <td>2886.89568</td>\n",
       "      <td>7.193619e+04</td>\n",
       "      <td>96.653299</td>\n",
       "      <td>10.487806</td>\n",
       "      <td>2.894723</td>\n",
       "      <td>62397.405202</td>\n",
       "      <td>0.581654</td>\n",
       "      <td>0.45584</td>\n",
       "      <td>0.499797</td>\n",
       "      <td>57510.492818</td>\n",
       "      <td>0.402769</td>\n",
       "      <td>0.433553</td>\n",
       "      <td>0.431698</td>\n",
       "      <td>0.497932</td>\n",
       "    </tr>\n",
       "    <tr>\n",
       "      <th>min</th>\n",
       "      <td>1.00000</td>\n",
       "      <td>1.556570e+07</td>\n",
       "      <td>350.000000</td>\n",
       "      <td>18.000000</td>\n",
       "      <td>0.000000</td>\n",
       "      <td>0.000000</td>\n",
       "      <td>1.000000</td>\n",
       "      <td>0.00000</td>\n",
       "      <td>0.000000</td>\n",
       "      <td>11.580000</td>\n",
       "      <td>0.000000</td>\n",
       "      <td>0.000000</td>\n",
       "      <td>0.000000</td>\n",
       "      <td>0.000000</td>\n",
       "    </tr>\n",
       "    <tr>\n",
       "      <th>25%</th>\n",
       "      <td>2500.75000</td>\n",
       "      <td>1.562853e+07</td>\n",
       "      <td>584.000000</td>\n",
       "      <td>32.000000</td>\n",
       "      <td>2.000000</td>\n",
       "      <td>0.000000</td>\n",
       "      <td>1.000000</td>\n",
       "      <td>0.00000</td>\n",
       "      <td>0.000000</td>\n",
       "      <td>51002.110000</td>\n",
       "      <td>0.000000</td>\n",
       "      <td>0.000000</td>\n",
       "      <td>0.000000</td>\n",
       "      <td>0.000000</td>\n",
       "    </tr>\n",
       "    <tr>\n",
       "      <th>50%</th>\n",
       "      <td>5000.50000</td>\n",
       "      <td>1.569074e+07</td>\n",
       "      <td>652.000000</td>\n",
       "      <td>37.000000</td>\n",
       "      <td>5.000000</td>\n",
       "      <td>97198.540000</td>\n",
       "      <td>1.000000</td>\n",
       "      <td>1.00000</td>\n",
       "      <td>1.000000</td>\n",
       "      <td>100193.915000</td>\n",
       "      <td>0.000000</td>\n",
       "      <td>0.000000</td>\n",
       "      <td>0.000000</td>\n",
       "      <td>1.000000</td>\n",
       "    </tr>\n",
       "    <tr>\n",
       "      <th>75%</th>\n",
       "      <td>7500.25000</td>\n",
       "      <td>1.575323e+07</td>\n",
       "      <td>718.000000</td>\n",
       "      <td>44.000000</td>\n",
       "      <td>7.000000</td>\n",
       "      <td>127644.240000</td>\n",
       "      <td>2.000000</td>\n",
       "      <td>1.00000</td>\n",
       "      <td>1.000000</td>\n",
       "      <td>149388.247500</td>\n",
       "      <td>0.000000</td>\n",
       "      <td>1.000000</td>\n",
       "      <td>0.000000</td>\n",
       "      <td>1.000000</td>\n",
       "    </tr>\n",
       "    <tr>\n",
       "      <th>max</th>\n",
       "      <td>10000.00000</td>\n",
       "      <td>1.581569e+07</td>\n",
       "      <td>850.000000</td>\n",
       "      <td>92.000000</td>\n",
       "      <td>10.000000</td>\n",
       "      <td>250898.090000</td>\n",
       "      <td>4.000000</td>\n",
       "      <td>1.00000</td>\n",
       "      <td>1.000000</td>\n",
       "      <td>199992.480000</td>\n",
       "      <td>1.000000</td>\n",
       "      <td>1.000000</td>\n",
       "      <td>1.000000</td>\n",
       "      <td>1.000000</td>\n",
       "    </tr>\n",
       "  </tbody>\n",
       "</table>\n",
       "</div>"
      ],
      "text/plain": [
       "        row_number   customer_id  credit_score           age       tenure  \\\n",
       "count  10000.00000  1.000000e+04  10000.000000  10000.000000  9091.000000   \n",
       "mean    5000.50000  1.569094e+07    650.528800     38.921800     4.997690   \n",
       "std     2886.89568  7.193619e+04     96.653299     10.487806     2.894723   \n",
       "min        1.00000  1.556570e+07    350.000000     18.000000     0.000000   \n",
       "25%     2500.75000  1.562853e+07    584.000000     32.000000     2.000000   \n",
       "50%     5000.50000  1.569074e+07    652.000000     37.000000     5.000000   \n",
       "75%     7500.25000  1.575323e+07    718.000000     44.000000     7.000000   \n",
       "max    10000.00000  1.581569e+07    850.000000     92.000000    10.000000   \n",
       "\n",
       "             balance  num_of_products  has_cr_card  is_active_member  \\\n",
       "count   10000.000000     10000.000000  10000.00000      10000.000000   \n",
       "mean    76485.889288         1.530200      0.70550          0.515100   \n",
       "std     62397.405202         0.581654      0.45584          0.499797   \n",
       "min         0.000000         1.000000      0.00000          0.000000   \n",
       "25%         0.000000         1.000000      0.00000          0.000000   \n",
       "50%     97198.540000         1.000000      1.00000          1.000000   \n",
       "75%    127644.240000         2.000000      1.00000          1.000000   \n",
       "max    250898.090000         4.000000      1.00000          1.000000   \n",
       "\n",
       "       estimated_salary        exited  geography_germany  geography_spain  \\\n",
       "count      10000.000000  10000.000000       10000.000000     10000.000000   \n",
       "mean      100090.239881      0.203700           0.250900         0.247700   \n",
       "std        57510.492818      0.402769           0.433553         0.431698   \n",
       "min           11.580000      0.000000           0.000000         0.000000   \n",
       "25%        51002.110000      0.000000           0.000000         0.000000   \n",
       "50%       100193.915000      0.000000           0.000000         0.000000   \n",
       "75%       149388.247500      0.000000           1.000000         0.000000   \n",
       "max       199992.480000      1.000000           1.000000         1.000000   \n",
       "\n",
       "        gender_male  \n",
       "count  10000.000000  \n",
       "mean       0.545700  \n",
       "std        0.497932  \n",
       "min        0.000000  \n",
       "25%        0.000000  \n",
       "50%        1.000000  \n",
       "75%        1.000000  \n",
       "max        1.000000  "
      ]
     },
     "execution_count": 18,
     "metadata": {},
     "output_type": "execute_result"
    }
   ],
   "source": [
    "# Check the distribution of numeric values in the columns\n",
    "df_ohe.describe()"
   ]
  },
  {
   "cell_type": "markdown",
   "metadata": {},
   "source": [
    "From the data overview, it is evident that some features have a large range, and it is necessary to perform data standardization. We will use the _StandardScaler_ structure from the _sklearn.preprocessing_ library, but only after splitting the original dataset into training, validation, and testing sets.\n",
    "\n",
    "The original dataset has a feature called `row_number`, and I assume that this feature does not characterize the object and is just an ordinal number of the record. Such a feature would negatively affect the training of the linear regression model. (This hypothesis was not tested.)\n",
    "\n",
    "It has been decided to remove the `row_number` feature from the dataset!!!"
   ]
  },
  {
   "cell_type": "code",
   "execution_count": 19,
   "metadata": {
    "execution": {
     "iopub.execute_input": "2023-03-24T10:29:54.596879Z",
     "iopub.status.busy": "2023-03-24T10:29:54.596440Z",
     "iopub.status.idle": "2023-03-24T10:29:54.604486Z",
     "shell.execute_reply": "2023-03-24T10:29:54.603545Z",
     "shell.execute_reply.started": "2023-03-24T10:29:54.596843Z"
    }
   },
   "outputs": [
    {
     "data": {
      "text/plain": [
       "(10000, 13)"
      ]
     },
     "execution_count": 19,
     "metadata": {},
     "output_type": "execute_result"
    }
   ],
   "source": [
    "# Delete row_number feature\n",
    "df_ohe = df_ohe.drop(columns='row_number')\n",
    "df_ohe.shape"
   ]
  },
  {
   "cell_type": "code",
   "execution_count": 20,
   "metadata": {
    "execution": {
     "iopub.execute_input": "2023-03-24T10:29:54.606633Z",
     "iopub.status.busy": "2023-03-24T10:29:54.605666Z",
     "iopub.status.idle": "2023-03-24T10:29:54.623672Z",
     "shell.execute_reply": "2023-03-24T10:29:54.622331Z",
     "shell.execute_reply.started": "2023-03-24T10:29:54.606596Z"
    }
   },
   "outputs": [
    {
     "name": "stdout",
     "output_type": "stream",
     "text": [
      "<class 'pandas.core.frame.DataFrame'>\n",
      "RangeIndex: 10000 entries, 0 to 9999\n",
      "Data columns (total 13 columns):\n",
      " #   Column             Non-Null Count  Dtype  \n",
      "---  ------             --------------  -----  \n",
      " 0   customer_id        10000 non-null  int64  \n",
      " 1   credit_score       10000 non-null  int64  \n",
      " 2   age                10000 non-null  int64  \n",
      " 3   tenure             9091 non-null   float64\n",
      " 4   balance            10000 non-null  float64\n",
      " 5   num_of_products    10000 non-null  int64  \n",
      " 6   has_cr_card        10000 non-null  int64  \n",
      " 7   is_active_member   10000 non-null  int64  \n",
      " 8   estimated_salary   10000 non-null  float64\n",
      " 9   exited             10000 non-null  int64  \n",
      " 10  geography_germany  10000 non-null  uint8  \n",
      " 11  geography_spain    10000 non-null  uint8  \n",
      " 12  gender_male        10000 non-null  uint8  \n",
      "dtypes: float64(3), int64(7), uint8(3)\n",
      "memory usage: 810.7 KB\n"
     ]
    }
   ],
   "source": [
    "# Check dataframe info\n",
    "df_ohe.info()"
   ]
  },
  {
   "cell_type": "code",
   "execution_count": 21,
   "metadata": {
    "execution": {
     "iopub.execute_input": "2023-03-24T10:29:54.626578Z",
     "iopub.status.busy": "2023-03-24T10:29:54.626203Z",
     "iopub.status.idle": "2023-03-24T10:29:54.643253Z",
     "shell.execute_reply": "2023-03-24T10:29:54.642100Z",
     "shell.execute_reply.started": "2023-03-24T10:29:54.626542Z"
    }
   },
   "outputs": [
    {
     "name": "stdout",
     "output_type": "stream",
     "text": [
      "<class 'pandas.core.frame.DataFrame'>\n",
      "RangeIndex: 10000 entries, 0 to 9999\n",
      "Data columns (total 13 columns):\n",
      " #   Column             Non-Null Count  Dtype  \n",
      "---  ------             --------------  -----  \n",
      " 0   customer_id        10000 non-null  int64  \n",
      " 1   credit_score       10000 non-null  int64  \n",
      " 2   age                10000 non-null  int64  \n",
      " 3   tenure             9091 non-null   float64\n",
      " 4   balance            10000 non-null  float64\n",
      " 5   num_of_products    10000 non-null  int64  \n",
      " 6   has_cr_card        10000 non-null  uint8  \n",
      " 7   is_active_member   10000 non-null  uint8  \n",
      " 8   estimated_salary   10000 non-null  float64\n",
      " 9   exited             10000 non-null  int64  \n",
      " 10  geography_germany  10000 non-null  uint8  \n",
      " 11  geography_spain    10000 non-null  uint8  \n",
      " 12  gender_male        10000 non-null  uint8  \n",
      "dtypes: float64(3), int64(5), uint8(5)\n",
      "memory usage: 674.0 KB\n"
     ]
    }
   ],
   "source": [
    "# Convert data types for 'has_cr_card' 'is_active_member' to uint8\n",
    "cols_to_convert = ['has_cr_card', 'is_active_member']\n",
    "df_ohe[cols_to_convert] = df_ohe[cols_to_convert].astype('uint8')\n",
    "df_ohe.info()"
   ]
  },
  {
   "cell_type": "code",
   "execution_count": 22,
   "metadata": {
    "execution": {
     "iopub.execute_input": "2023-03-24T10:29:54.644971Z",
     "iopub.status.busy": "2023-03-24T10:29:54.644630Z",
     "iopub.status.idle": "2023-03-24T10:29:54.654547Z",
     "shell.execute_reply": "2023-03-24T10:29:54.653731Z",
     "shell.execute_reply.started": "2023-03-24T10:29:54.644938Z"
    }
   },
   "outputs": [
    {
     "data": {
      "text/plain": [
       "['customer_id',\n",
       " 'credit_score',\n",
       " 'age',\n",
       " 'tenure',\n",
       " 'balance',\n",
       " 'num_of_products',\n",
       " 'estimated_salary']"
      ]
     },
     "execution_count": 22,
     "metadata": {},
     "output_type": "execute_result"
    }
   ],
   "source": [
    "# Create the list with numeric features\n",
    "numeric = df_ohe.select_dtypes(include=['int64','float64']).columns.to_list()\n",
    "# Remove hte feature 'exited' from 'numeric'\n",
    "numeric = [x for x in numeric if x != 'exited']\n",
    "numeric"
   ]
  },
  {
   "cell_type": "markdown",
   "metadata": {},
   "source": [
    "### Training, validation and testing subsets."
   ]
  },
  {
   "cell_type": "markdown",
   "metadata": {},
   "source": [
    "After splitting the datasets (with deleted missing values and filled with 0 values), it is necessary to standardize the numeric data."
   ]
  },
  {
   "cell_type": "code",
   "execution_count": 23,
   "metadata": {
    "execution": {
     "iopub.execute_input": "2023-03-24T10:29:54.655686Z",
     "iopub.status.busy": "2023-03-24T10:29:54.655384Z",
     "iopub.status.idle": "2023-03-24T10:29:54.668532Z",
     "shell.execute_reply": "2023-03-24T10:29:54.667611Z",
     "shell.execute_reply.started": "2023-03-24T10:29:54.655657Z"
    }
   },
   "outputs": [
    {
     "name": "stdout",
     "output_type": "stream",
     "text": [
      "Size of df with dropped NaNs: (9091, 13)\n",
      "Size of df with filled NaNs: (10000, 13)\n"
     ]
    }
   ],
   "source": [
    "# Create two subsets\n",
    "df_drop = df_ohe.dropna().copy()\n",
    "print('Size of df with dropped NaNs:',df_drop.shape)\n",
    "df_fill = df_ohe.fillna(0).copy()\n",
    "print('Size of df with filled NaNs:',df_fill.shape)"
   ]
  },
  {
   "cell_type": "code",
   "execution_count": 24,
   "metadata": {
    "execution": {
     "iopub.execute_input": "2023-03-24T10:29:54.670390Z",
     "iopub.status.busy": "2023-03-24T10:29:54.669694Z",
     "iopub.status.idle": "2023-03-24T10:29:54.678841Z",
     "shell.execute_reply": "2023-03-24T10:29:54.677818Z",
     "shell.execute_reply.started": "2023-03-24T10:29:54.670356Z"
    }
   },
   "outputs": [
    {
     "name": "stdout",
     "output_type": "stream",
     "text": [
      "(9091, 12)\n",
      "(9091,)\n"
     ]
    }
   ],
   "source": [
    "# Split to features и target (Dropped subset)\n",
    "features_drop = df_drop.drop(columns=['exited'])\n",
    "target_drop = df_drop.exited[features_drop.index]\n",
    "\n",
    "print(features_drop.shape)\n",
    "print(target_drop.shape)"
   ]
  },
  {
   "cell_type": "code",
   "execution_count": 25,
   "metadata": {
    "execution": {
     "iopub.execute_input": "2023-03-24T10:29:54.680610Z",
     "iopub.status.busy": "2023-03-24T10:29:54.680195Z",
     "iopub.status.idle": "2023-03-24T10:29:54.691388Z",
     "shell.execute_reply": "2023-03-24T10:29:54.690470Z",
     "shell.execute_reply.started": "2023-03-24T10:29:54.680574Z"
    }
   },
   "outputs": [
    {
     "name": "stdout",
     "output_type": "stream",
     "text": [
      "(10000, 12)\n",
      "(10000,)\n"
     ]
    }
   ],
   "source": [
    "# Split to features и target (Filled subset)\n",
    "features = df_fill.drop(columns='exited')\n",
    "target = df_fill.exited[features.index]\n",
    "\n",
    "print(features.shape)\n",
    "print(target.shape)"
   ]
  },
  {
   "cell_type": "markdown",
   "metadata": {},
   "source": [
    "Split the resulting datasets into training and test sets in an 80/20 ratio."
   ]
  },
  {
   "cell_type": "code",
   "execution_count": 26,
   "metadata": {
    "execution": {
     "iopub.execute_input": "2023-03-24T10:29:54.693145Z",
     "iopub.status.busy": "2023-03-24T10:29:54.692818Z",
     "iopub.status.idle": "2023-03-24T10:29:54.713621Z",
     "shell.execute_reply": "2023-03-24T10:29:54.712540Z",
     "shell.execute_reply.started": "2023-03-24T10:29:54.693113Z"
    }
   },
   "outputs": [],
   "source": [
    "# Split the data into training and testing sets\n",
    "features_train_drop, features_test_drop, target_train_drop, target_test_drop = train_test_split(\n",
    "    features_drop, target_drop, test_size=0.2, random_state=42, stratify=target_drop)\n",
    "\n",
    "features_train, features_test, target_train, target_test = train_test_split(\n",
    "    features, target, test_size=0.2, random_state=42, stratify=target)"
   ]
  },
  {
   "cell_type": "code",
   "execution_count": 27,
   "metadata": {
    "execution": {
     "iopub.execute_input": "2023-03-24T10:29:54.716340Z",
     "iopub.status.busy": "2023-03-24T10:29:54.715336Z",
     "iopub.status.idle": "2023-03-24T10:29:54.721756Z",
     "shell.execute_reply": "2023-03-24T10:29:54.720897Z",
     "shell.execute_reply.started": "2023-03-24T10:29:54.716299Z"
    }
   },
   "outputs": [
    {
     "name": "stdout",
     "output_type": "stream",
     "text": [
      "X_train_drop: (7272, 12)\n",
      "y_train_drop: (7272,) \n",
      "\n",
      "X_test_drop: (1819, 12)\n",
      "y_test_drop: (1819,)\n"
     ]
    }
   ],
   "source": [
    "# Print size of sets (Dropped version)\n",
    "print('X_train_drop:',features_train_drop.shape)\n",
    "print('y_train_drop:',target_train_drop.shape,'\\n')\n",
    "\n",
    "print('X_test_drop:',features_test_drop.shape)\n",
    "print('y_test_drop:',target_test_drop.shape)"
   ]
  },
  {
   "cell_type": "code",
   "execution_count": 28,
   "metadata": {
    "execution": {
     "iopub.execute_input": "2023-03-24T10:29:54.727082Z",
     "iopub.status.busy": "2023-03-24T10:29:54.726740Z",
     "iopub.status.idle": "2023-03-24T10:29:54.734239Z",
     "shell.execute_reply": "2023-03-24T10:29:54.733100Z",
     "shell.execute_reply.started": "2023-03-24T10:29:54.727047Z"
    }
   },
   "outputs": [
    {
     "name": "stdout",
     "output_type": "stream",
     "text": [
      "X_train: (8000, 12)\n",
      "y_train: (8000,) \n",
      "\n",
      "X_test: (2000, 12)\n",
      "y_test: (2000,)\n"
     ]
    }
   ],
   "source": [
    "# Print size of sets (Filled version)\n",
    "print('X_train:',features_train.shape)\n",
    "print('y_train:',target_train.shape,'\\n')\n",
    "\n",
    "print('X_test:',features_test.shape)\n",
    "print('y_test:',target_test.shape)"
   ]
  },
  {
   "cell_type": "markdown",
   "metadata": {},
   "source": [
    "Split the resulting training sets into new training and validation sets. In a ratio of 75/25."
   ]
  },
  {
   "cell_type": "code",
   "execution_count": 29,
   "metadata": {
    "execution": {
     "iopub.execute_input": "2023-03-24T10:29:54.736300Z",
     "iopub.status.busy": "2023-03-24T10:29:54.735498Z",
     "iopub.status.idle": "2023-03-24T10:29:54.756220Z",
     "shell.execute_reply": "2023-03-24T10:29:54.754996Z",
     "shell.execute_reply.started": "2023-03-24T10:29:54.736261Z"
    }
   },
   "outputs": [],
   "source": [
    "# Split the training set into new training and validation sets\n",
    "features_train_drop, features_valid_drop, target_train_drop, target_valid_drop = train_test_split(\n",
    "    features_train_drop, target_train_drop, test_size=0.25, random_state=42, stratify=target_train_drop)\n",
    "\n",
    "features_train, features_valid, target_train, target_valid = train_test_split(\n",
    "    features_train, target_train, test_size=0.25, random_state=42, stratify=target_train)"
   ]
  },
  {
   "cell_type": "code",
   "execution_count": 30,
   "metadata": {
    "execution": {
     "iopub.execute_input": "2023-03-24T10:29:54.758014Z",
     "iopub.status.busy": "2023-03-24T10:29:54.757685Z",
     "iopub.status.idle": "2023-03-24T10:29:54.764642Z",
     "shell.execute_reply": "2023-03-24T10:29:54.763721Z",
     "shell.execute_reply.started": "2023-03-24T10:29:54.757978Z"
    }
   },
   "outputs": [
    {
     "name": "stdout",
     "output_type": "stream",
     "text": [
      "X_train_drop: (5454, 12)\n",
      "y_train_drop: (5454,) \n",
      "\n",
      "X_valid_drop: (1818, 12)\n",
      "y_valid_drop: (1818,)\n"
     ]
    }
   ],
   "source": [
    "# Print size of sets (Dropped version)\n",
    "print('X_train_drop:',features_train_drop.shape)\n",
    "print('y_train_drop:',target_train_drop.shape,'\\n')\n",
    "\n",
    "print('X_valid_drop:',features_valid_drop.shape)\n",
    "print('y_valid_drop:',target_valid_drop.shape)"
   ]
  },
  {
   "cell_type": "code",
   "execution_count": 31,
   "metadata": {
    "execution": {
     "iopub.execute_input": "2023-03-24T10:29:54.766490Z",
     "iopub.status.busy": "2023-03-24T10:29:54.765827Z",
     "iopub.status.idle": "2023-03-24T10:29:54.776213Z",
     "shell.execute_reply": "2023-03-24T10:29:54.775074Z",
     "shell.execute_reply.started": "2023-03-24T10:29:54.766428Z"
    }
   },
   "outputs": [
    {
     "name": "stdout",
     "output_type": "stream",
     "text": [
      "X_train: (6000, 12)\n",
      "y_train: (6000,) \n",
      "\n",
      "X_valid: (2000, 12)\n",
      "y_valid: (2000,)\n"
     ]
    }
   ],
   "source": [
    "# Print size of sets (Filled version)\n",
    "print('X_train:',features_train.shape)\n",
    "print('y_train:',target_train.shape,'\\n')\n",
    "\n",
    "print('X_valid:',features_test.shape)\n",
    "print('y_valid:',target_test.shape)"
   ]
  },
  {
   "cell_type": "code",
   "execution_count": 32,
   "metadata": {
    "execution": {
     "iopub.execute_input": "2023-03-24T10:29:54.777836Z",
     "iopub.status.busy": "2023-03-24T10:29:54.777503Z",
     "iopub.status.idle": "2023-03-24T10:29:54.859788Z",
     "shell.execute_reply": "2023-03-24T10:29:54.858604Z",
     "shell.execute_reply.started": "2023-03-24T10:29:54.777803Z"
    }
   },
   "outputs": [
    {
     "data": {
      "text/html": [
       "<div>\n",
       "<style scoped>\n",
       "    .dataframe tbody tr th:only-of-type {\n",
       "        vertical-align: middle;\n",
       "    }\n",
       "\n",
       "    .dataframe tbody tr th {\n",
       "        vertical-align: top;\n",
       "    }\n",
       "\n",
       "    .dataframe thead th {\n",
       "        text-align: right;\n",
       "    }\n",
       "</style>\n",
       "<table border=\"1\" class=\"dataframe\">\n",
       "  <thead>\n",
       "    <tr style=\"text-align: right;\">\n",
       "      <th></th>\n",
       "      <th>customer_id</th>\n",
       "      <th>credit_score</th>\n",
       "      <th>age</th>\n",
       "      <th>tenure</th>\n",
       "      <th>balance</th>\n",
       "      <th>num_of_products</th>\n",
       "      <th>has_cr_card</th>\n",
       "      <th>is_active_member</th>\n",
       "      <th>estimated_salary</th>\n",
       "      <th>geography_germany</th>\n",
       "      <th>geography_spain</th>\n",
       "      <th>gender_male</th>\n",
       "    </tr>\n",
       "  </thead>\n",
       "  <tbody>\n",
       "    <tr>\n",
       "      <th>count</th>\n",
       "      <td>1818.000000</td>\n",
       "      <td>1818.000000</td>\n",
       "      <td>1818.000000</td>\n",
       "      <td>1818.000000</td>\n",
       "      <td>1818.000000</td>\n",
       "      <td>1818.000000</td>\n",
       "      <td>1818.000000</td>\n",
       "      <td>1818.000000</td>\n",
       "      <td>1818.000000</td>\n",
       "      <td>1818.000000</td>\n",
       "      <td>1818.000000</td>\n",
       "      <td>1818.000000</td>\n",
       "    </tr>\n",
       "    <tr>\n",
       "      <th>mean</th>\n",
       "      <td>-0.027233</td>\n",
       "      <td>0.002050</td>\n",
       "      <td>-0.024827</td>\n",
       "      <td>0.010316</td>\n",
       "      <td>-0.010389</td>\n",
       "      <td>0.006654</td>\n",
       "      <td>0.702420</td>\n",
       "      <td>0.490099</td>\n",
       "      <td>0.004428</td>\n",
       "      <td>0.238174</td>\n",
       "      <td>0.243674</td>\n",
       "      <td>0.556106</td>\n",
       "    </tr>\n",
       "    <tr>\n",
       "      <th>std</th>\n",
       "      <td>0.998388</td>\n",
       "      <td>0.983222</td>\n",
       "      <td>0.972742</td>\n",
       "      <td>1.020237</td>\n",
       "      <td>1.009481</td>\n",
       "      <td>1.002151</td>\n",
       "      <td>0.457319</td>\n",
       "      <td>0.500040</td>\n",
       "      <td>1.022949</td>\n",
       "      <td>0.426083</td>\n",
       "      <td>0.429417</td>\n",
       "      <td>0.496979</td>\n",
       "    </tr>\n",
       "    <tr>\n",
       "      <th>min</th>\n",
       "      <td>-1.746923</td>\n",
       "      <td>-3.014973</td>\n",
       "      <td>-1.976120</td>\n",
       "      <td>-1.732966</td>\n",
       "      <td>-1.240299</td>\n",
       "      <td>-0.907853</td>\n",
       "      <td>0.000000</td>\n",
       "      <td>0.000000</td>\n",
       "      <td>-1.745449</td>\n",
       "      <td>0.000000</td>\n",
       "      <td>0.000000</td>\n",
       "      <td>0.000000</td>\n",
       "    </tr>\n",
       "    <tr>\n",
       "      <th>25%</th>\n",
       "      <td>-0.883092</td>\n",
       "      <td>-0.693911</td>\n",
       "      <td>-0.660579</td>\n",
       "      <td>-1.038328</td>\n",
       "      <td>-1.240299</td>\n",
       "      <td>-0.907853</td>\n",
       "      <td>0.000000</td>\n",
       "      <td>0.000000</td>\n",
       "      <td>-0.884734</td>\n",
       "      <td>0.000000</td>\n",
       "      <td>0.000000</td>\n",
       "      <td>0.000000</td>\n",
       "    </tr>\n",
       "    <tr>\n",
       "      <th>50%</th>\n",
       "      <td>-0.077604</td>\n",
       "      <td>0.028197</td>\n",
       "      <td>-0.190743</td>\n",
       "      <td>0.003630</td>\n",
       "      <td>0.327872</td>\n",
       "      <td>-0.907853</td>\n",
       "      <td>1.000000</td>\n",
       "      <td>0.000000</td>\n",
       "      <td>0.013048</td>\n",
       "      <td>0.000000</td>\n",
       "      <td>0.000000</td>\n",
       "      <td>1.000000</td>\n",
       "    </tr>\n",
       "    <tr>\n",
       "      <th>75%</th>\n",
       "      <td>0.845082</td>\n",
       "      <td>0.698726</td>\n",
       "      <td>0.467028</td>\n",
       "      <td>1.045587</td>\n",
       "      <td>0.818294</td>\n",
       "      <td>0.820395</td>\n",
       "      <td>1.000000</td>\n",
       "      <td>1.000000</td>\n",
       "      <td>0.906750</td>\n",
       "      <td>0.000000</td>\n",
       "      <td>0.000000</td>\n",
       "      <td>1.000000</td>\n",
       "    </tr>\n",
       "    <tr>\n",
       "      <th>max</th>\n",
       "      <td>1.732820</td>\n",
       "      <td>2.060416</td>\n",
       "      <td>4.319685</td>\n",
       "      <td>1.740226</td>\n",
       "      <td>2.593767</td>\n",
       "      <td>4.276892</td>\n",
       "      <td>1.000000</td>\n",
       "      <td>1.000000</td>\n",
       "      <td>1.749223</td>\n",
       "      <td>1.000000</td>\n",
       "      <td>1.000000</td>\n",
       "      <td>1.000000</td>\n",
       "    </tr>\n",
       "  </tbody>\n",
       "</table>\n",
       "</div>"
      ],
      "text/plain": [
       "       customer_id  credit_score          age       tenure      balance  \\\n",
       "count  1818.000000   1818.000000  1818.000000  1818.000000  1818.000000   \n",
       "mean     -0.027233      0.002050    -0.024827     0.010316    -0.010389   \n",
       "std       0.998388      0.983222     0.972742     1.020237     1.009481   \n",
       "min      -1.746923     -3.014973    -1.976120    -1.732966    -1.240299   \n",
       "25%      -0.883092     -0.693911    -0.660579    -1.038328    -1.240299   \n",
       "50%      -0.077604      0.028197    -0.190743     0.003630     0.327872   \n",
       "75%       0.845082      0.698726     0.467028     1.045587     0.818294   \n",
       "max       1.732820      2.060416     4.319685     1.740226     2.593767   \n",
       "\n",
       "       num_of_products  has_cr_card  is_active_member  estimated_salary  \\\n",
       "count      1818.000000  1818.000000       1818.000000       1818.000000   \n",
       "mean          0.006654     0.702420          0.490099          0.004428   \n",
       "std           1.002151     0.457319          0.500040          1.022949   \n",
       "min          -0.907853     0.000000          0.000000         -1.745449   \n",
       "25%          -0.907853     0.000000          0.000000         -0.884734   \n",
       "50%          -0.907853     1.000000          0.000000          0.013048   \n",
       "75%           0.820395     1.000000          1.000000          0.906750   \n",
       "max           4.276892     1.000000          1.000000          1.749223   \n",
       "\n",
       "       geography_germany  geography_spain  gender_male  \n",
       "count        1818.000000      1818.000000  1818.000000  \n",
       "mean            0.238174         0.243674     0.556106  \n",
       "std             0.426083         0.429417     0.496979  \n",
       "min             0.000000         0.000000     0.000000  \n",
       "25%             0.000000         0.000000     0.000000  \n",
       "50%             0.000000         0.000000     1.000000  \n",
       "75%             0.000000         0.000000     1.000000  \n",
       "max             1.000000         1.000000     1.000000  "
      ]
     },
     "execution_count": 32,
     "metadata": {},
     "output_type": "execute_result"
    }
   ],
   "source": [
    "# Perform standardization for the datasets\n",
    "sets_drop = [features_train_drop, features_valid_drop, features_test_drop]\n",
    "sets = [features_train, features_valid, features_test]\n",
    "\n",
    "scaler = StandardScaler()\n",
    "\n",
    "scaler.fit(features_train_drop[numeric])\n",
    "\n",
    "for s in sets_drop:\n",
    "    s[numeric] = scaler.transform(s[numeric])\n",
    "    \n",
    "scaler.fit(features_train[numeric])\n",
    "\n",
    "for s in sets:\n",
    "    s[numeric] = scaler.transform(s[numeric])\n",
    "\n",
    "features_valid_drop.describe()"
   ]
  },
  {
   "cell_type": "markdown",
   "metadata": {},
   "source": [
    "Standardization of numeric data was performed using _StandardScaler_ from the _sklearn_ library.\n",
    "\n",
    "The target feature `exited` was left unchanged."
   ]
  },
  {
   "cell_type": "markdown",
   "metadata": {},
   "source": [
    "### Conclusion after data preparation"
   ]
  },
  {
   "cell_type": "markdown",
   "metadata": {},
   "source": [
    "* We have a dataset that includes features of objects and a target variable (whether or not the client has churned) that needs to be predicted based on those features. \n",
    "    * Such tasks belong to the **supervised learning** class. \n",
    "    * The target variable is categorical, so the task is a **classification problem**. We have two values (0 and 1), so it is a **binary classification**.\n",
    "\n",
    "\n",
    "* There are missing values in the original dataset, and two methods of processing (deleting and filling missing values with 0) will be used. \n",
    "* The original dataset has 10000 objects and 14 features for each object, including the target variable.\n",
    "* After transformation, the resulting dataset has 10000/9091 objects and 13 features, including the target variable.\n",
    "* Categorical features are processed using the OHE method. Numeric features have been analyzed and processed using standardization.\n",
    "* The processed dataset is divided into a 3/5 training, 1/5 validation, and 1/5 test samples. \n",
    "* The target variable values in the original dataset are unevenly distributed at 20/80."
   ]
  },
  {
   "cell_type": "markdown",
   "metadata": {},
   "source": [
    "# Task investigation\n",
    "\n",
    "* [x]  Explore class balance\n",
    "* [x]  Fit models without taking into account class imbalance\n",
    "* [x]  Write conclusions based on research results"
   ]
  },
  {
   "cell_type": "markdown",
   "metadata": {},
   "source": [
    "### Balancing classes investigation"
   ]
  },
  {
   "cell_type": "markdown",
   "metadata": {},
   "source": [
    "Earlier during data preparation, we saw that our target variable has a class imbalance.\n",
    "\n",
    "* Class 1 (customer left the bank) has a share of approximately 20%\n",
    "* Class 0 (customer still serviced by the bank) has a share of approximately 80%\n",
    "\n",
    "\n",
    "To handle class imbalance, different techniques can be used:\n",
    "\n",
    "* Class weighting - assign a higher weight to rare class objects. (In sklearn models, the class_weight argument)\n",
    "* Upsampling - copying rare class objects and adding them to the dataset.\n",
    "* Downsampling - removing frequent class objects from the dataset.\n",
    "\n",
    "We will conduct the task of working with class imbalance after training the models on existing datasets."
   ]
  },
  {
   "cell_type": "code",
   "execution_count": 33,
   "metadata": {
    "execution": {
     "iopub.execute_input": "2023-03-24T10:29:54.862361Z",
     "iopub.status.busy": "2023-03-24T10:29:54.861167Z",
     "iopub.status.idle": "2023-03-24T10:29:54.869714Z",
     "shell.execute_reply": "2023-03-24T10:29:54.868587Z",
     "shell.execute_reply.started": "2023-03-24T10:29:54.862324Z"
    }
   },
   "outputs": [
    {
     "data": {
      "text/plain": [
       "0.2039379606203938"
      ]
     },
     "execution_count": 33,
     "metadata": {},
     "output_type": "execute_result"
    }
   ],
   "source": [
    "# Check the class 1\n",
    "df_drop.exited.mean()"
   ]
  },
  {
   "cell_type": "code",
   "execution_count": 34,
   "metadata": {
    "execution": {
     "iopub.execute_input": "2023-03-24T10:29:54.871775Z",
     "iopub.status.busy": "2023-03-24T10:29:54.871420Z",
     "iopub.status.idle": "2023-03-24T10:29:54.882125Z",
     "shell.execute_reply": "2023-03-24T10:29:54.881134Z",
     "shell.execute_reply.started": "2023-03-24T10:29:54.871735Z"
    }
   },
   "outputs": [
    {
     "name": "stdout",
     "output_type": "stream",
     "text": [
      "Proportion of the rare class - train: 0.2038\n",
      "Proportion of the rare class - valid: 0.2035\n",
      "Proportion of the rare class - test: 0.2035\n"
     ]
    }
   ],
   "source": [
    "# Class imbalance in train/valid/test sets\n",
    "print(f'Proportion of the rare class - train: {target_train.mean():.4f}')\n",
    "print(f'Proportion of the rare class - valid: {target_valid.mean():.4f}')\n",
    "print(f'Proportion of the rare class - test: {target_test.mean():.4f}')"
   ]
  },
  {
   "cell_type": "markdown",
   "metadata": {},
   "source": [
    "Since we used the `stratify` argument when splitting the dataset into samples using the train_test_split function, the proportion of the rare class in these samples is approximately 20%, as in our original data."
   ]
  },
  {
   "cell_type": "markdown",
   "metadata": {},
   "source": [
    "To solve the binary classification task, we will use several classifier models:\n",
    "\n",
    "1. Logistic regression\n",
    "2. Decision tree\n",
    "3. Random forest\n",
    "\n",
    "For training and validation of each model, two sets of samples will be used (with missing values removed and with missing values filled)."
   ]
  },
  {
   "cell_type": "markdown",
   "metadata": {},
   "source": [
    "### Logistic regression model"
   ]
  },
  {
   "cell_type": "code",
   "execution_count": 35,
   "metadata": {
    "execution": {
     "iopub.execute_input": "2023-03-24T10:30:00.657615Z",
     "iopub.status.busy": "2023-03-24T10:30:00.656394Z",
     "iopub.status.idle": "2023-03-24T10:30:00.691185Z",
     "shell.execute_reply": "2023-03-24T10:30:00.689909Z",
     "shell.execute_reply.started": "2023-03-24T10:30:00.657554Z"
    }
   },
   "outputs": [
    {
     "name": "stdout",
     "output_type": "stream",
     "text": [
      "Accuracy: 0.8151815181518152\n"
     ]
    }
   ],
   "source": [
    "# Train the LogisticRegression model\n",
    "lrc = LogisticRegression(random_state=414925, solver='lbfgs', max_iter=1000) \n",
    "lrc.fit(features_train_drop, target_train_drop)\n",
    "print('Accuracy:',lrc.score(features_valid_drop, target_valid_drop))"
   ]
  },
  {
   "cell_type": "markdown",
   "metadata": {},
   "source": [
    "#### Model adequacy check"
   ]
  },
  {
   "cell_type": "code",
   "execution_count": 36,
   "metadata": {
    "execution": {
     "iopub.execute_input": "2023-03-24T10:30:05.504684Z",
     "iopub.status.busy": "2023-03-24T10:30:05.504289Z",
     "iopub.status.idle": "2023-03-24T10:30:05.512551Z",
     "shell.execute_reply": "2023-03-24T10:30:05.511248Z",
     "shell.execute_reply.started": "2023-03-24T10:30:05.504648Z"
    }
   },
   "outputs": [
    {
     "name": "stdout",
     "output_type": "stream",
     "text": [
      "Accuracy Constatnt model: 0.7959295929592959\n"
     ]
    }
   ],
   "source": [
    "# Create a constant model that predicts the class \"0\" for any object\n",
    "target_pred_constant = pd.Series([0]*len(target_valid_drop.index), index=target_valid_drop.index)\n",
    "print('Accuracy Constatnt model:',accuracy_score(target_valid_drop,target_pred_constant))"
   ]
  },
  {
   "cell_type": "markdown",
   "metadata": {},
   "source": [
    "#### Metrics"
   ]
  },
  {
   "cell_type": "markdown",
   "metadata": {},
   "source": [
    "When comparing the Accuracy metrics of our Logistic Regression model and the Constant model with a prediction of the dominant class \"0\", we can see that the score values differ slightly. Therefore, relying solely on the Accuracy  to understand how well our model predicts the target feature is not reliable due to the class imbalance.\n",
    "\n",
    "* It is necessary to additionally look at the aggregated F1-score metric to evaluate the balance between Recall and Precision.\n",
    "\n",
    "* Recall describes how well the model understood the features of the \"1\" class and recognized it.\n",
    "\n",
    "* Precision detects whether the model overestimated, assigning positive labels."
   ]
  },
  {
   "cell_type": "code",
   "execution_count": 37,
   "metadata": {
    "execution": {
     "iopub.execute_input": "2023-03-24T10:30:10.585602Z",
     "iopub.status.busy": "2023-03-24T10:30:10.585160Z",
     "iopub.status.idle": "2023-03-24T10:30:10.614942Z",
     "shell.execute_reply": "2023-03-24T10:30:10.613541Z",
     "shell.execute_reply.started": "2023-03-24T10:30:10.585560Z"
    }
   },
   "outputs": [
    {
     "name": "stdout",
     "output_type": "stream",
     "text": [
      "F1-score: 0.303\n",
      "ROC AUC score: 0.764 \n",
      "\n",
      "F1-score for Constant mode: 0.000\n",
      "ROC AUC score for Constantn model: 0.500\n"
     ]
    }
   ],
   "source": [
    "# Calculate F1-score for LogisticRegression model\n",
    "predicted_labels_drop = lrc.predict(features_valid_drop)\n",
    "f1 = f1_score(target_valid_drop, predicted_labels_drop)\n",
    "# Calculate ROC AUC score for LogisticRegression model\n",
    "y_pred_prob = lrc.predict_proba(features_valid_drop)[:, 1]\n",
    "roc_auc = roc_auc_score(target_valid_drop, y_pred_prob)\n",
    "\n",
    "print(\"F1-score: {:.3f}\".format(f1))\n",
    "print(f'ROC AUC score: {roc_auc:.3f}','\\n')\n",
    "\n",
    "# Calculate F1-score for Constant model\n",
    "f1 = f1_score(target_valid_drop, target_pred_constant, zero_division=1)\n",
    "# Calculate ROC AUC score for Constantn model\n",
    "roc_auc = roc_auc_score(target_valid_drop, target_pred_constant)\n",
    "print(\"F1-score for Constant mode: {:.3f}\".format(f1))\n",
    "print(f'ROC AUC score for Constantn model: {roc_auc:.3f}')"
   ]
  },
  {
   "cell_type": "code",
   "execution_count": 38,
   "metadata": {
    "execution": {
     "iopub.execute_input": "2023-03-24T10:30:13.707751Z",
     "iopub.status.busy": "2023-03-24T10:30:13.706561Z",
     "iopub.status.idle": "2023-03-24T10:30:13.769765Z",
     "shell.execute_reply": "2023-03-24T10:30:13.768420Z",
     "shell.execute_reply.started": "2023-03-24T10:30:13.707691Z"
    }
   },
   "outputs": [
    {
     "name": "stdout",
     "output_type": "stream",
     "text": [
      "F1-score: 0.318\n",
      "ROC AUC score: 0.757 \n",
      "\n"
     ]
    }
   ],
   "source": [
    "# Train LogisticRegression model (Filled version)\n",
    "lrc = LogisticRegression(random_state=414925, solver='lbfgs', max_iter=1000)\n",
    "lrc.fit(features_train, target_train)\n",
    "# Calculate F1-score for LogisticRegression model\n",
    "predicted_labels = lrc.predict(features_valid)\n",
    "f1 = f1_score(target_valid, predicted_labels)\n",
    "# Calculate ROC AUC score for LogisticRegression model\n",
    "y_pred_prob = lrc.predict_proba(features_valid)[:, 1]\n",
    "roc_auc = roc_auc_score(target_valid, y_pred_prob)\n",
    "\n",
    "print(\"F1-score: {:.3f}\".format(f1))\n",
    "print(f'ROC AUC score: {roc_auc:.3f}','\\n')"
   ]
  },
  {
   "cell_type": "markdown",
   "metadata": {},
   "source": [
    "#### Logistic Regression - Validation Results"
   ]
  },
  {
   "cell_type": "markdown",
   "metadata": {},
   "source": [
    "The results for different samples are different:\n",
    "\n",
    "1. Samples with removed missing values.\n",
    "* F1 score: 0.303\n",
    "* ROC AUC score: 0.764\n",
    "2. Samples with filled missing values.\n",
    "* F1 score: 0.318\n",
    "* ROC AUC score: 0.757"
   ]
  },
  {
   "cell_type": "markdown",
   "metadata": {},
   "source": [
    "### Decision tree model"
   ]
  },
  {
   "cell_type": "markdown",
   "metadata": {},
   "source": [
    "As with the logistic regression model, we will conduct training and validation on two datasets:\n",
    "\n",
    "1. Datasets with missing values removed.(Dropped version)\n",
    "2. Datasets with missing values filled. (Filled version)"
   ]
  },
  {
   "cell_type": "code",
   "execution_count": 39,
   "metadata": {
    "execution": {
     "iopub.execute_input": "2023-03-24T10:30:56.581623Z",
     "iopub.status.busy": "2023-03-24T10:30:56.581197Z",
     "iopub.status.idle": "2023-03-24T10:30:56.966634Z",
     "shell.execute_reply": "2023-03-24T10:30:56.965482Z",
     "shell.execute_reply.started": "2023-03-24T10:30:56.581581Z"
    }
   },
   "outputs": [
    {
     "name": "stdout",
     "output_type": "stream",
     "text": [
      "Results of the best model\n",
      "F1 score: 0.555\n",
      "ROC AUC score: 0.721 \n",
      "\n",
      "max_depth = 14\n"
     ]
    }
   ],
   "source": [
    "# Tune the hyperparameter max_depth\n",
    "best_result = 0\n",
    "\n",
    "for depth in range(3,15):\n",
    "    dtc = DecisionTreeClassifier(random_state=414925, max_depth=depth)\n",
    "    dtc.fit(features_train_drop,target_train_drop)\n",
    "    target_pred = dtc.predict(features_valid_drop)\n",
    "    result = f1_score(target_valid_drop, target_pred)\n",
    "    if result > best_result:\n",
    "        best_result_drop = result\n",
    "        max_depth_drop = depth\n",
    "        best_dtc_drop = dtc\n",
    "\n",
    "# Calculate the ROC AUC score of the best model\n",
    "y_pred_prob = best_dtc_drop.predict_proba(features_valid_drop)[:, 1]\n",
    "roc_auc = roc_auc_score(target_valid_drop, y_pred_prob)\n",
    "\n",
    "print('Results of the best model')       \n",
    "print(f'F1 score: {best_result_drop:.3f}') \n",
    "print(f'ROC AUC score: {roc_auc:.3f}','\\n')\n",
    "print(f'max_depth = {max_depth_drop}') "
   ]
  },
  {
   "cell_type": "code",
   "execution_count": 40,
   "metadata": {
    "execution": {
     "iopub.execute_input": "2023-03-24T10:30:59.340805Z",
     "iopub.status.busy": "2023-03-24T10:30:59.339339Z",
     "iopub.status.idle": "2023-03-24T10:30:59.544672Z",
     "shell.execute_reply": "2023-03-24T10:30:59.543533Z",
     "shell.execute_reply.started": "2023-03-24T10:30:59.340755Z"
    }
   },
   "outputs": [
    {
     "name": "stdout",
     "output_type": "stream",
     "text": [
      "Results of the best model (Filled version)\n",
      "F1 score: 0.571\n",
      "ROC AUC score: 0.835 \n",
      "\n",
      "max_depth = 7\n"
     ]
    }
   ],
   "source": [
    "# Tune the hyperparameter max_depth (Filled version)\n",
    "best_result = 0\n",
    "\n",
    "for depth in range(3,10):\n",
    "    dtc = DecisionTreeClassifier(random_state=414925, max_depth=depth)\n",
    "    dtc.fit(features_train,target_train)\n",
    "    target_pred = dtc.predict(features_valid)\n",
    "    result = f1_score(target_valid, target_pred)\n",
    "    if result > best_result:\n",
    "        best_result = result\n",
    "        max_depth = depth\n",
    "        best_dtc = dtc\n",
    "\n",
    "# Calculate the ROC AUC score of the best model\n",
    "y_pred_prob = best_dtc.predict_proba(features_valid)[:, 1]\n",
    "roc_auc = roc_auc_score(target_valid, y_pred_prob)\n",
    "\n",
    "print('Results of the best model (Filled version)')       \n",
    "print(f'F1 score: {best_result:.3f}') \n",
    "print(f'ROC AUC score: {roc_auc:.3f}','\\n')\n",
    "print(f'max_depth = {max_depth}')  "
   ]
  },
  {
   "cell_type": "markdown",
   "metadata": {},
   "source": [
    "#### Decision Tree - Results of tuning max_depth.\n",
    "The results of the Decision Tree model for different datasets are different:\n",
    "    \n",
    "1. Datasets with missing values removed. (Dropped version)\n",
    "* F1 score: 0.555\n",
    "* ROC AUC score: 0.721\n",
    "* max_depth = 14\n",
    "\n",
    "2. Datasets with missing values filled. (Filled version)\n",
    "* F1 score: 0.571\n",
    "* ROC AUC score: 0.835\n",
    "* max_depth = 7\n",
    "    \n",
    "    \n",
    "Let's continue tuning hyperparameters."
   ]
  },
  {
   "cell_type": "code",
   "execution_count": 41,
   "metadata": {
    "execution": {
     "iopub.execute_input": "2023-03-24T10:31:35.104381Z",
     "iopub.status.busy": "2023-03-24T10:31:35.103983Z",
     "iopub.status.idle": "2023-03-24T10:31:35.697923Z",
     "shell.execute_reply": "2023-03-24T10:31:35.696556Z",
     "shell.execute_reply.started": "2023-03-24T10:31:35.104347Z"
    }
   },
   "outputs": [
    {
     "name": "stdout",
     "output_type": "stream",
     "text": [
      "Results of the best model\n",
      "F1 score: 0.546\n",
      "ROC AUC score: 0.767 \n",
      "\n",
      "min_samples_split = 15\n"
     ]
    }
   ],
   "source": [
    "# Tune the hyperparameter min_samples_split\n",
    "best_result = 0\n",
    "\n",
    "for _ in range(2, 16):\n",
    "    dtc = DecisionTreeClassifier(random_state=414925, max_depth=max_depth_drop, min_samples_split=_)\n",
    "    dtc.fit(features_train_drop,target_train_drop)\n",
    "    target_pred = dtc.predict(features_valid_drop)\n",
    "    result_drop = f1_score(target_valid_drop, target_pred)\n",
    "    if result_drop > best_result:\n",
    "        best_result_drop = result_drop\n",
    "        min_samples_split_drop = _\n",
    "        best_dtc_drop = dtc\n",
    "\n",
    "# Calculate the ROC AUC score of the best model\n",
    "y_pred_prob = best_dtc_drop.predict_proba(features_valid_drop)[:, 1]\n",
    "roc_auc = roc_auc_score(target_valid_drop, y_pred_prob)\n",
    "\n",
    "print('Results of the best model')       \n",
    "print(f'F1 score: {best_result_drop:.3f}') \n",
    "print(f'ROC AUC score: {roc_auc:.3f}','\\n')\n",
    "print(f'min_samples_split = {min_samples_split_drop}')"
   ]
  },
  {
   "cell_type": "code",
   "execution_count": 42,
   "metadata": {
    "execution": {
     "iopub.execute_input": "2023-03-24T10:31:36.510525Z",
     "iopub.status.busy": "2023-03-24T10:31:36.509679Z",
     "iopub.status.idle": "2023-03-24T10:31:36.967012Z",
     "shell.execute_reply": "2023-03-24T10:31:36.965771Z",
     "shell.execute_reply.started": "2023-03-24T10:31:36.510468Z"
    }
   },
   "outputs": [
    {
     "name": "stdout",
     "output_type": "stream",
     "text": [
      "Results of the best model\n",
      "F1 score: 0.572\n",
      "ROC AUC score: 0.839 \n",
      "\n",
      "min_samples_split = 10\n"
     ]
    }
   ],
   "source": [
    "# Tune the hyperparameter min_samples_split (Filled version)\n",
    "best_result = 0\n",
    "\n",
    "for _ in range(2, 16):\n",
    "    dtc = DecisionTreeClassifier(random_state=414925, max_depth=max_depth, min_samples_split=_)\n",
    "    dtc.fit(features_train,target_train)\n",
    "    target_pred = dtc.predict(features_valid)\n",
    "    result = f1_score(target_valid, target_pred)\n",
    "    if result > best_result:\n",
    "        best_result = result\n",
    "        min_samples_split = _\n",
    "        the_best_dtc = dtc\n",
    "\n",
    "# Calculate the ROC AUC score of the best model\n",
    "y_pred_prob = the_best_dtc.predict_proba(features_valid)[:, 1]\n",
    "roc_auc = roc_auc_score(target_valid, y_pred_prob)\n",
    "\n",
    "print('Results of the best model')       \n",
    "print(f'F1 score: {best_result:.3f}') \n",
    "print(f'ROC AUC score: {roc_auc:.3f}','\\n')\n",
    "print(f'min_samples_split = {min_samples_split}')"
   ]
  },
  {
   "cell_type": "markdown",
   "metadata": {},
   "source": [
    "#### Decision tree - results of min_samples_split tuning\n",
    "The results of the Decision Tree model for different samples are different:\n",
    "    \n",
    "1. Samples with removed missing values. (Dropped version)\n",
    "* F1 score: 0.546\n",
    "* ROC AUC score: 0.767\n",
    "* min_samples_split = 15\n",
    "\n",
    "2. Samples with filled missing values (Filled version)\n",
    "* F1 score: 0.572\n",
    "* ROC AUC score: 0.839  \n",
    "* min_samples_split = 10"
   ]
  },
  {
   "cell_type": "markdown",
   "metadata": {},
   "source": [
    "### Random Forest model"
   ]
  },
  {
   "cell_type": "code",
   "execution_count": 43,
   "metadata": {
    "execution": {
     "iopub.execute_input": "2023-03-24T10:32:22.456765Z",
     "iopub.status.busy": "2023-03-24T10:32:22.456300Z",
     "iopub.status.idle": "2023-03-24T10:32:23.427790Z",
     "shell.execute_reply": "2023-03-24T10:32:23.426611Z",
     "shell.execute_reply.started": "2023-03-24T10:32:22.456726Z"
    }
   },
   "outputs": [
    {
     "name": "stdout",
     "output_type": "stream",
     "text": [
      "Results of the best model\n",
      "F1 score: 0.572\n",
      "ROC AUC score: 0.833 \n",
      "\n",
      "max_depth = 14 \n",
      "\n",
      "CPU times: user 957 ms, sys: 6.43 ms, total: 963 ms\n",
      "Wall time: 963 ms\n"
     ]
    }
   ],
   "source": [
    "%%time\n",
    "# Tune the hyperparameter max_depth\n",
    "best_model = None\n",
    "best_result = 0\n",
    "for depth in range(1, 15):\n",
    "    model = RandomForestClassifier(random_state=414925, n_estimators=10, max_depth=depth) \n",
    "    model.fit(features_train_drop, target_train_drop)\n",
    "    target_pred = model.predict(features_valid_drop)\n",
    "    result_drop = f1_score(target_valid_drop, target_pred)\n",
    "    if result_drop > best_result:\n",
    "        best_model_rfc_drop = model\n",
    "        best_result_drop = result\n",
    "        best_depth_drop = depth\n",
    "# Calculate the ROC AUC score of the best model\n",
    "y_pred_prob = best_model_rfc_drop.predict_proba(features_valid_drop)[:, 1]\n",
    "roc_auc = roc_auc_score(target_valid_drop, y_pred_prob)\n",
    "        \n",
    "print('Results of the best model')       \n",
    "print(f'F1 score: {best_result_drop:.3f}') \n",
    "print(f'ROC AUC score: {roc_auc:.3f}','\\n')\n",
    "print(f'max_depth = {best_depth_drop}','\\n')"
   ]
  },
  {
   "cell_type": "code",
   "execution_count": 44,
   "metadata": {
    "execution": {
     "iopub.execute_input": "2023-03-24T10:32:23.765043Z",
     "iopub.status.busy": "2023-03-24T10:32:23.764294Z",
     "iopub.status.idle": "2023-03-24T10:32:24.803081Z",
     "shell.execute_reply": "2023-03-24T10:32:24.801852Z",
     "shell.execute_reply.started": "2023-03-24T10:32:23.765000Z"
    }
   },
   "outputs": [
    {
     "name": "stdout",
     "output_type": "stream",
     "text": [
      "Results of the best model\n",
      "F1 score: 0.532\n",
      "ROC AUC score: 0.822 \n",
      "\n",
      "max_depth = 12 \n",
      "\n",
      "CPU times: user 1.03 s, sys: 2.31 ms, total: 1.03 s\n",
      "Wall time: 1.03 s\n"
     ]
    }
   ],
   "source": [
    "%%time\n",
    "# Tune the hyperparameter max_depth (Filled version)\n",
    "best_model = None\n",
    "best_result = 0\n",
    "for depth in range(1, 15):\n",
    "    model = RandomForestClassifier(random_state=414925, n_estimators=10, max_depth=depth)\n",
    "    model.fit(features_train, target_train)\n",
    "    target_pred = model.predict(features_valid)\n",
    "    result = f1_score(target_valid, target_pred)\n",
    "    if result > best_result:\n",
    "        best_model_rfc = model\n",
    "        best_result = result\n",
    "        best_depth = depth\n",
    "# Calculate the ROC AUC score of the best model\n",
    "y_pred_prob = best_model_rfc.predict_proba(features_valid)[:, 1]\n",
    "roc_auc = roc_auc_score(target_valid, y_pred_prob)\n",
    "\n",
    "print('Results of the best model')       \n",
    "print(f'F1 score: {best_result:.3f}') \n",
    "print(f'ROC AUC score: {roc_auc:.3f}','\\n')\n",
    "print(f'max_depth = {best_depth}','\\n')"
   ]
  },
  {
   "cell_type": "markdown",
   "metadata": {},
   "source": [
    "#### Random Forest - results of max_depth tuning\n",
    "The results of the Random forest model for different samples are different:\n",
    "    \n",
    "1. Samples with removed missing values. (Dropped version)\n",
    "* F1 score: 0.572\n",
    "* ROC AUC score: 0.833 \n",
    "* max_depth = 14\n",
    "* Wall time: 808 ms\n",
    "\n",
    "2. Samples with filled missing values (Filled version)\n",
    "* F1 score: 0.532\n",
    "* ROC AUC score: 0.822  \n",
    "* max_depth = 12\n",
    "* Wall time: 834 ms"
   ]
  },
  {
   "cell_type": "code",
   "execution_count": 45,
   "metadata": {
    "execution": {
     "iopub.execute_input": "2023-03-24T10:33:09.305958Z",
     "iopub.status.busy": "2023-03-24T10:33:09.305557Z",
     "iopub.status.idle": "2023-03-24T10:33:20.213974Z",
     "shell.execute_reply": "2023-03-24T10:33:20.212739Z",
     "shell.execute_reply.started": "2023-03-24T10:33:09.305922Z"
    }
   },
   "outputs": [
    {
     "name": "stdout",
     "output_type": "stream",
     "text": [
      "Results of the best model\n",
      "F1 score: 0.548\n",
      "ROC AUC score: 0.864 \n",
      "\n",
      "n_estimators = 400 \n",
      "\n",
      "CPU times: user 10.8 s, sys: 70.6 ms, total: 10.9 s\n",
      "Wall time: 10.9 s\n"
     ]
    }
   ],
   "source": [
    "%%time\n",
    "# Tune the hyperparameter n_estimators\n",
    "best_result = 0\n",
    "n_est = [10,20,40,60,80,100,200,300,400]\n",
    "for est in n_est:\n",
    "    model = RandomForestClassifier(random_state=414925, max_depth=best_depth_drop, n_estimators=est)\n",
    "    model.fit(features_train_drop, target_train_drop)\n",
    "    target_pred = model.predict(features_valid_drop)\n",
    "    result = f1_score(target_valid_drop, target_pred)\n",
    "    if result > best_result:\n",
    "        the_best_model_rfc_drop = model\n",
    "        best_result_drop = result\n",
    "        best_n_estimators_drop = est\n",
    "# Calculate the ROC AUC score of the best model\n",
    "y_pred_prob = the_best_model_rfc_drop.predict_proba(features_valid_drop)[:, 1]\n",
    "roc_auc = roc_auc_score(target_valid_drop, y_pred_prob)\n",
    "\n",
    "print('Results of the best model')       \n",
    "print(f'F1 score: {best_result_drop:.3f}') \n",
    "print(f'ROC AUC score: {roc_auc:.3f}','\\n')\n",
    "print(f'n_estimators = {best_n_estimators_drop}','\\n')"
   ]
  },
  {
   "cell_type": "code",
   "execution_count": 46,
   "metadata": {
    "execution": {
     "iopub.execute_input": "2023-03-24T10:33:20.216156Z",
     "iopub.status.busy": "2023-03-24T10:33:20.215799Z",
     "iopub.status.idle": "2023-03-24T10:33:31.146893Z",
     "shell.execute_reply": "2023-03-24T10:33:31.145789Z",
     "shell.execute_reply.started": "2023-03-24T10:33:20.216121Z"
    }
   },
   "outputs": [
    {
     "name": "stdout",
     "output_type": "stream",
     "text": [
      "Results of the best model\n",
      "F1 score: 0.566\n",
      "ROC AUC score: 0.842 \n",
      "\n",
      "n_estimators = 20 \n",
      "\n",
      "CPU times: user 10.9 s, sys: 26.2 ms, total: 10.9 s\n",
      "Wall time: 10.9 s\n"
     ]
    }
   ],
   "source": [
    "%%time\n",
    "# Tune the hyperparameter n_estimators (Filled version)\n",
    "best_result = 0\n",
    "n_est = [10,20,40,60,80,100,200,300,400]\n",
    "for est in n_est:\n",
    "    model = RandomForestClassifier(random_state=414925, max_depth=best_depth, n_estimators=est)\n",
    "    model.fit(features_train, target_train)\n",
    "    target_pred = model.predict(features_valid)\n",
    "    result = f1_score(target_valid, target_pred)\n",
    "    if result > best_result:\n",
    "        best_model_rfc = model\n",
    "        best_result = result\n",
    "        best_n_estimators = est\n",
    "# Calculate the ROC AUC score of the best model\n",
    "y_pred_prob = best_model_rfc.predict_proba(features_valid)[:, 1]\n",
    "roc_auc = roc_auc_score(target_valid, y_pred_prob)\n",
    "\n",
    "print('Results of the best model')       \n",
    "print(f'F1 score: {best_result:.3f}') \n",
    "print(f'ROC AUC score: {roc_auc:.3f}','\\n')\n",
    "print(f'n_estimators = {best_n_estimators}','\\n')"
   ]
  },
  {
   "cell_type": "markdown",
   "metadata": {},
   "source": [
    "#### Random Forest - results of n_estimators tuning \n",
    "The results for different samples are different:\n",
    "    \n",
    "1. Samples with removed missing values. (Dropped version)\n",
    "* F1 score: 0.548\n",
    "* ROC AUC score: 0.864 \n",
    "* n_estimators = 400 \n",
    "* Wall time: 9.29 s\n",
    "\n",
    "2. Samples with removed missing values. (Filled version)\n",
    "* F1 score: 0.566\n",
    "* ROC AUC score: 0.842 \n",
    "* n_estimators = 20\n",
    "* Wall time: 7.69 s"
   ]
  },
  {
   "cell_type": "code",
   "execution_count": 47,
   "metadata": {
    "execution": {
     "iopub.execute_input": "2023-03-24T10:34:20.549385Z",
     "iopub.status.busy": "2023-03-24T10:34:20.548383Z",
     "iopub.status.idle": "2023-03-24T10:34:24.740780Z",
     "shell.execute_reply": "2023-03-24T10:34:24.739650Z",
     "shell.execute_reply.started": "2023-03-24T10:34:20.549339Z"
    }
   },
   "outputs": [
    {
     "name": "stdout",
     "output_type": "stream",
     "text": [
      "Results of the best model\n",
      "F1 score: 0.564\n",
      "ROC AUC score: 0.851 \n",
      "\n",
      "min_samples_split = 15 \n",
      "\n",
      "CPU times: user 4.17 s, sys: 8.41 ms, total: 4.18 s\n",
      "Wall time: 4.18 s\n"
     ]
    }
   ],
   "source": [
    "%%time\n",
    "# Tune the hyperparameter min_samples_split\n",
    "best_result = 0\n",
    "\n",
    "for _ in range(2, 26):\n",
    "    model = RandomForestClassifier(random_state=414925, max_depth=best_depth_drop,\n",
    "                                   min_samples_split=_, n_estimators=best_n_estimators)\n",
    "    model.fit(features_train_drop, target_train_drop)\n",
    "    target_pred = model.predict(features_valid_drop)\n",
    "    result = f1_score(target_valid_drop, target_pred)\n",
    "    if result > best_result:\n",
    "        best_model_rfc_drop = model\n",
    "        best_result_drop = result\n",
    "        best_min_samples_split_drop = _\n",
    "# Calculate the ROC AUC score of the best model\n",
    "y_pred_prob = best_model_rfc_drop.predict_proba(features_valid_drop)[:, 1]\n",
    "roc_auc = roc_auc_score(target_valid_drop, y_pred_prob)\n",
    "\n",
    "\n",
    "print('Results of the best model')       \n",
    "print(f'F1 score: {best_result_drop:.3f}') \n",
    "print(f'ROC AUC score: {roc_auc:.3f}','\\n')\n",
    "print(f'min_samples_split = {min_samples_split_drop}','\\n')"
   ]
  },
  {
   "cell_type": "code",
   "execution_count": 48,
   "metadata": {
    "execution": {
     "iopub.execute_input": "2023-03-24T10:34:24.742926Z",
     "iopub.status.busy": "2023-03-24T10:34:24.742517Z",
     "iopub.status.idle": "2023-03-24T10:34:29.049007Z",
     "shell.execute_reply": "2023-03-24T10:34:29.047863Z",
     "shell.execute_reply.started": "2023-03-24T10:34:24.742892Z"
    }
   },
   "outputs": [
    {
     "name": "stdout",
     "output_type": "stream",
     "text": [
      "Results of the best model\n",
      "F1 score: 0.573\n",
      "ROC AUC score: 0.850 \n",
      "\n",
      "min_samples_split = 10 \n",
      "\n",
      "CPU times: user 4.29 s, sys: 6.63 ms, total: 4.3 s\n",
      "Wall time: 4.3 s\n"
     ]
    }
   ],
   "source": [
    "%%time\n",
    "# Tune the hyperparameter min_samples_split (Filled version)\n",
    "best_result = 0\n",
    "\n",
    "for _ in range(2, 26):\n",
    "    model = RandomForestClassifier(random_state=414925, max_depth=best_depth,\n",
    "                                   min_samples_split=_, n_estimators=best_n_estimators)\n",
    "    model.fit(features_train, target_train)\n",
    "    target_pred = model.predict(features_valid)\n",
    "    result = f1_score(target_valid, target_pred)\n",
    "    if result > best_result:\n",
    "        best_model_rfc = model\n",
    "        best_result = result\n",
    "        best_min_samples_split = _\n",
    "# Calculate the ROC AUC score of the best model\n",
    "y_pred_prob = best_model_rfc.predict_proba(features_valid)[:, 1]\n",
    "roc_auc = roc_auc_score(target_valid, y_pred_prob)\n",
    "\n",
    "print('Results of the best model')       \n",
    "print(f'F1 score: {best_result:.3f}') \n",
    "print(f'ROC AUC score: {roc_auc:.3f}','\\n')\n",
    "print(f'min_samples_split = {min_samples_split}','\\n')"
   ]
  },
  {
   "cell_type": "markdown",
   "metadata": {},
   "source": [
    "#### Random Forest - results of min_samples_split tuning\n",
    "The results for different samples are different:\n",
    "    \n",
    "1. Samples with removed missing values. (Dropped version)\n",
    "* F1 score: 0.564\n",
    "* ROC AUC score: 0.851\n",
    "* min_samples_split = 15 \n",
    "* Wall time: 1.89 s\n",
    "\n",
    "2. Samples with removed missing values. (Filled version)\n",
    "* F1 score: 0.573\n",
    "* ROC AUC score: 0.850 \n",
    "* min_samples_split = 10\n",
    "* Wall time: 1.77 s"
   ]
  },
  {
   "cell_type": "markdown",
   "metadata": {},
   "source": [
    "### Conclusions after researching the models"
   ]
  },
  {
   "cell_type": "markdown",
   "metadata": {},
   "source": [
    "1. **Class balance analysis**\n",
    "    \n",
    "Earlier in the data preparation stage, we saw that our target feature has an imbalanced class distribution.\n",
    "* Class 1 (customer left the bank) has a share of approximately 20%\n",
    "* Class 0 (customer still being serviced by the bank) has a share of approximately 80%\n",
    "\n",
    "\n",
    "Various techniques can be used to handle class imbalance, including:\n",
    "* Weighting the classes - giving a higher weight to instances of the rare class (in sklearn models, the 'class_weight' argument)\n",
    "* Upsampling - copying instances of the rare class and adding them to the dataset \n",
    "* Downsampling - removing instances of the common class from the dataset.\n",
    "\n",
    "We will address the class imbalance issue after studying the models on the existing datasets.\n",
    "     \n",
    "2. **Models without considering class imbalance**\n",
    "\n",
    "Best results for each model:\n",
    "    \n",
    "+ **Logistic Regression:**\n",
    "\n",
    "    \n",
    "    * F1-мера: 0.318\n",
    "    * ROC AUC score: 0.757\n",
    "    * Dataset with filled missing values\n",
    "    \n",
    "+ **Decision tree:**\n",
    "\n",
    "    \n",
    "    * F1 score: 0.572\n",
    "    * ROC AUC score: 0.839\n",
    "    * min_samples_split = 10\n",
    "    * max_depth = 7\n",
    "    * Dataset with filled missing values.\n",
    "    \n",
    "+ **Random forest:**\n",
    "\n",
    "    \n",
    "    * F1 score: 0.573\n",
    "    * ROC AUC score: 0.850\n",
    "    * n_estimators = 20\n",
    "    * max_depth = 12\n",
    "    * min_samples_split = 10\n",
    "    * Dataset with deleted missing values.\n",
    "    \n"
   ]
  },
  {
   "cell_type": "markdown",
   "metadata": {},
   "source": [
    "Random forest:\n",
    "* F1 score: 0.573\n",
    "* ROC AUC score: 0.850\n",
    "* n_estimators = 20\n",
    "* max_depth = 12\n",
    "* min_samples_split = 10\n",
    "* Dataset with deleted missing values."
   ]
  },
  {
   "cell_type": "markdown",
   "metadata": {},
   "source": [
    "## Class imbalance handling"
   ]
  },
  {
   "cell_type": "markdown",
   "metadata": {},
   "source": [
    "* [x]  Apply multiple methods to address class imbalance\n",
    "* [x]  Write conclusions based on the research findings"
   ]
  },
  {
   "cell_type": "markdown",
   "metadata": {},
   "source": [
    "To handle class imbalance, I will use the following techniques:\n",
    "\n",
    "* Upsampling - copying rare class objects and adding them to the dataset\n",
    "* Class weighting - giving rare class objects higher weight (using the class_weight argument in sklearn models)."
   ]
  },
  {
   "cell_type": "markdown",
   "metadata": {},
   "source": [
    "### Upsampling"
   ]
  },
  {
   "cell_type": "code",
   "execution_count": 49,
   "metadata": {
    "execution": {
     "iopub.execute_input": "2023-03-24T10:58:56.419864Z",
     "iopub.status.busy": "2023-03-24T10:58:56.419429Z",
     "iopub.status.idle": "2023-03-24T10:58:56.428269Z",
     "shell.execute_reply": "2023-03-24T10:58:56.427118Z",
     "shell.execute_reply.started": "2023-03-24T10:58:56.419822Z"
    }
   },
   "outputs": [],
   "source": [
    "# Create function 'Upsample'\n",
    "\n",
    "def upsample(features, target, repeat):\n",
    "    features_zeros = features[target == 0]\n",
    "    features_ones = features[target == 1]\n",
    "    target_zeros = target[target == 0]\n",
    "    target_ones = target[target == 1]\n",
    "    \n",
    "    if len(target_zeros) > len(target_ones):\n",
    "        features_upsampled = pd.concat([features_zeros] + [features_ones] * repeat)\n",
    "        target_upsampled = pd.concat([target_zeros] + [target_ones] * repeat)\n",
    "    else:\n",
    "        features_upsampled = pd.concat([features_zeros] * repeat + [features_ones])\n",
    "        target_upsampled = pd.concat([target_zeros] * repeat + [target_ones])\n",
    "        \n",
    "    features_upsampled, target_upsampled = shuffle(features_upsampled, target_upsampled, random_state=414925)\n",
    "    \n",
    "    return features_upsampled, target_upsampled"
   ]
  },
  {
   "cell_type": "code",
   "execution_count": 50,
   "metadata": {
    "execution": {
     "iopub.execute_input": "2023-03-24T10:59:03.389545Z",
     "iopub.status.busy": "2023-03-24T10:59:03.389107Z",
     "iopub.status.idle": "2023-03-24T10:59:03.395423Z",
     "shell.execute_reply": "2023-03-24T10:59:03.394091Z",
     "shell.execute_reply.started": "2023-03-24T10:59:03.389502Z"
    }
   },
   "outputs": [
    {
     "name": "stdout",
     "output_type": "stream",
     "text": [
      "(6000, 12)\n",
      "(6000,)\n"
     ]
    }
   ],
   "source": [
    "# Print the size of train subset\n",
    "print(features_train.shape)\n",
    "print(target_train.shape)"
   ]
  },
  {
   "cell_type": "code",
   "execution_count": 51,
   "metadata": {
    "execution": {
     "iopub.execute_input": "2023-03-24T10:59:11.279931Z",
     "iopub.status.busy": "2023-03-24T10:59:11.279540Z",
     "iopub.status.idle": "2023-03-24T10:59:11.295870Z",
     "shell.execute_reply": "2023-03-24T10:59:11.294752Z",
     "shell.execute_reply.started": "2023-03-24T10:59:11.279896Z"
    }
   },
   "outputs": [
    {
     "name": "stdout",
     "output_type": "stream",
     "text": [
      "Original features_drop: (5454, 12)\n",
      "Original target_drop: (5454,)\n",
      "\n",
      "Upsampled features: (8790, 12)\n",
      "Upsampled target: (8790,)\n"
     ]
    }
   ],
   "source": [
    "# Print the size of train subset\n",
    "print('Original features_drop:',features_train_drop.shape)\n",
    "print('Original target_drop:',target_train_drop.shape)\n",
    "print()\n",
    "\n",
    "features_upsampled_drop, target_upsampled_drop = upsample(features_train_drop, target_train_drop, 4)\n",
    "\n",
    "print('Upsampled features:',features_upsampled_drop.shape)\n",
    "print('Upsampled target:',target_upsampled_drop.shape)"
   ]
  },
  {
   "cell_type": "code",
   "execution_count": 52,
   "metadata": {
    "execution": {
     "iopub.execute_input": "2023-03-24T10:59:32.814843Z",
     "iopub.status.busy": "2023-03-24T10:59:32.813869Z",
     "iopub.status.idle": "2023-03-24T10:59:32.828750Z",
     "shell.execute_reply": "2023-03-24T10:59:32.827550Z",
     "shell.execute_reply.started": "2023-03-24T10:59:32.814801Z"
    }
   },
   "outputs": [
    {
     "name": "stdout",
     "output_type": "stream",
     "text": [
      "Original features: (6000, 12)\n",
      "Original target: (6000,)\n",
      "\n",
      "Upsampled features: (9669, 12)\n",
      "Upsampled target: (9669,)\n"
     ]
    }
   ],
   "source": [
    "# Print the size of train subset\n",
    "print('Original features:',features_train.shape)\n",
    "print('Original target:',target_train.shape)\n",
    "print()\n",
    "\n",
    "features_upsampled, target_upsampled = upsample(features_train, target_train, 4)\n",
    "\n",
    "print('Upsampled features:',features_upsampled.shape)\n",
    "print('Upsampled target:',target_upsampled.shape)"
   ]
  },
  {
   "cell_type": "markdown",
   "metadata": {},
   "source": [
    "### Training and validation on the upsampled dataset"
   ]
  },
  {
   "cell_type": "code",
   "execution_count": 53,
   "metadata": {
    "execution": {
     "iopub.execute_input": "2023-03-24T10:59:59.281911Z",
     "iopub.status.busy": "2023-03-24T10:59:59.281380Z",
     "iopub.status.idle": "2023-03-24T10:59:59.342627Z",
     "shell.execute_reply": "2023-03-24T10:59:59.341445Z",
     "shell.execute_reply.started": "2023-03-24T10:59:59.281864Z"
    }
   },
   "outputs": [
    {
     "name": "stdout",
     "output_type": "stream",
     "text": [
      "F1-score: 0.556\n",
      "ROC AUC score: 0.811 \n",
      "\n"
     ]
    }
   ],
   "source": [
    "# Train a decision tree model after upsampling\n",
    "the_best_dtc.fit(features_upsampled, target_upsampled)\n",
    "\n",
    "# Calculate the F1-score value for the DecisionTreeClassifier model\n",
    "predicted_labels = the_best_dtc.predict(features_valid)\n",
    "f1 = f1_score(target_valid, predicted_labels)\n",
    "# Calculate the ROC AUC score for the LogisticRegression model\n",
    "y_pred_prob = the_best_dtc.predict_proba(features_valid)[:, 1]\n",
    "roc_auc = roc_auc_score(target_valid, y_pred_prob)\n",
    "\n",
    "print(\"F1-score: {:.3f}\".format(f1))\n",
    "print(f'ROC AUC score: {roc_auc:.3f}','\\n')"
   ]
  },
  {
   "cell_type": "code",
   "execution_count": 54,
   "metadata": {
    "execution": {
     "iopub.execute_input": "2023-03-24T11:00:07.216687Z",
     "iopub.status.busy": "2023-03-24T11:00:07.216118Z",
     "iopub.status.idle": "2023-03-24T11:00:12.363895Z",
     "shell.execute_reply": "2023-03-24T11:00:12.362713Z",
     "shell.execute_reply.started": "2023-03-24T11:00:07.216633Z"
    }
   },
   "outputs": [
    {
     "name": "stdout",
     "output_type": "stream",
     "text": [
      "F1-score: 0.576\n",
      "ROC AUC score: 0.862 \n",
      "\n"
     ]
    }
   ],
   "source": [
    "# Train a random forest model after upsampling\n",
    "the_best_model_rfc_drop.fit(features_upsampled_drop, target_upsampled_drop)\n",
    "\n",
    "# Calculate the F1-score value for the RandomForestClassifier model\n",
    "predicted_labels = the_best_model_rfc_drop.predict(features_valid_drop)\n",
    "f1 = f1_score(target_valid_drop, predicted_labels)\n",
    "# Calculate the ROC AUC score for the LogisticRegression model\n",
    "y_pred_prob = the_best_model_rfc_drop.predict_proba(features_valid_drop)[:, 1]\n",
    "roc_auc = roc_auc_score(target_valid_drop, y_pred_prob)\n",
    "\n",
    "print(\"F1-score: {:.3f}\".format(f1))\n",
    "print(f'ROC AUC score: {roc_auc:.3f}','\\n')"
   ]
  },
  {
   "cell_type": "markdown",
   "metadata": {},
   "source": [
    "The best results on the upsampled training set were achieved by the RandomForestClassifier model:\n",
    "\n",
    "* **RandomForestClassifier**\n",
    "\n",
    "\n",
    "    * F1-score: 0.576\n",
    "    * ROC AUC score: 0.862\n",
    "    * n_estimators = 20\n",
    "    * max_depth = 12\n",
    "    * min_samples_split = 10\n",
    "    * Dataset with deleted missing values."
   ]
  },
  {
   "cell_type": "markdown",
   "metadata": {},
   "source": [
    "Let's test the same models with the hyperparameter class_weight='balanced', but on a regular training dataset without upsampling"
   ]
  },
  {
   "cell_type": "markdown",
   "metadata": {},
   "source": [
    "### Training and validation with class_weight"
   ]
  },
  {
   "cell_type": "code",
   "execution_count": 55,
   "metadata": {
    "execution": {
     "iopub.execute_input": "2023-03-24T11:02:42.125302Z",
     "iopub.status.busy": "2023-03-24T11:02:42.124890Z",
     "iopub.status.idle": "2023-03-24T11:02:42.176358Z",
     "shell.execute_reply": "2023-03-24T11:02:42.175120Z",
     "shell.execute_reply.started": "2023-03-24T11:02:42.125263Z"
    }
   },
   "outputs": [
    {
     "name": "stdout",
     "output_type": "stream",
     "text": [
      "Results of the best model with class_weight=\"balanced\"\n",
      "F1 score: 0.552\n",
      "ROC AUC score: 0.810 \n",
      "\n"
     ]
    }
   ],
   "source": [
    "# Train a decision tree model with class_weight\n",
    "dtc = DecisionTreeClassifier(random_state=414925, max_depth=7, min_samples_split=11, class_weight='balanced')\n",
    "dtc.fit(features_train,target_train)\n",
    "target_pred = dtc.predict(features_valid)\n",
    "result = f1_score(target_valid, target_pred)\n",
    "\n",
    "# Calculate the F1-score value\n",
    "y_pred_prob = dtc.predict_proba(features_valid)[:, 1]\n",
    "roc_auc = roc_auc_score(target_valid, y_pred_prob)\n",
    "\n",
    "print('Results of the best model with class_weight=\"balanced\"')       \n",
    "print(f'F1 score: {result:.3f}') \n",
    "print(f'ROC AUC score: {roc_auc:.3f}','\\n')"
   ]
  },
  {
   "cell_type": "code",
   "execution_count": 56,
   "metadata": {
    "execution": {
     "iopub.execute_input": "2023-03-24T11:02:51.307339Z",
     "iopub.status.busy": "2023-03-24T11:02:51.306901Z",
     "iopub.status.idle": "2023-03-24T11:02:54.916090Z",
     "shell.execute_reply": "2023-03-24T11:02:54.914951Z",
     "shell.execute_reply.started": "2023-03-24T11:02:51.307296Z"
    }
   },
   "outputs": [
    {
     "name": "stdout",
     "output_type": "stream",
     "text": [
      "Results of the best model with class_weight=\"balanced\"\n",
      "F1 score: 0.571\n",
      "ROC AUC score: 0.861 \n",
      "\n"
     ]
    }
   ],
   "source": [
    "# Train a random forest model with class_weight\n",
    "rfc = RandomForestClassifier(random_state=414925, max_depth=14, n_estimators=400, class_weight='balanced')\n",
    "rfc.fit(features_train_drop,target_train_drop)\n",
    "target_pred = rfc.predict(features_valid_drop)\n",
    "result = f1_score(target_valid_drop, target_pred)\n",
    "\n",
    "# Calculate the F1-score value\n",
    "y_pred_prob = rfc.predict_proba(features_valid_drop)[:, 1]\n",
    "roc_auc = roc_auc_score(target_valid_drop, y_pred_prob)\n",
    "\n",
    "print('Results of the best model with class_weight=\"balanced\"')       \n",
    "print(f'F1 score: {result:.3f}') \n",
    "print(f'ROC AUC score: {roc_auc:.3f}','\\n')"
   ]
  },
  {
   "cell_type": "markdown",
   "metadata": {},
   "source": [
    "The model that showed the best results with the hyperparameter class_weight='balanced'\n",
    "\n",
    "* **RandomForestClassifier**\n",
    "    \n",
    "    \n",
    "    * F1-score: 0.571\n",
    "    * ROC AUC score: 0.861\n",
    "    * n_estimators = 20\n",
    "    * max_depth = 12\n",
    "    * min_samples_split = 10\n",
    "    * Dataset with deleted missing values."
   ]
  },
  {
   "cell_type": "markdown",
   "metadata": {},
   "source": [
    "### Conclusions after processing the class imbalance.\n",
    "\n",
    "To address class imbalance, the following techniques were applied and investigated:\n",
    "\n",
    "1. Upsampling - copying rare class instances and adding them to the dataset.\n",
    "2. Class weighting - assigning a higher weight to instances of the rare class. (In sklearn models, the class_weight argument was used.)\n",
    "   \n",
    "_________________________________________________    \n",
    "    \n",
    "1. When applying the upsampling technique, the Random Forest Classifier model showed the best results.\n",
    "\n",
    "\n",
    "    * F1-score: 0.576\n",
    "    * ROC AUC score: 0.862\n",
    "    \n",
    "    \n",
    "The same model with the same hyperparameters on a regular training and validation dataset had the following metrics:\n",
    "    \n",
    "    * F1-score: 0.571\n",
    "    * ROC AUC score: 0.861\n",
    "    \n",
    "    \n",
    "2. When applying the class weighting technique, the Random Forest Classifier model showed the best results.\n",
    "    \n",
    "    \n",
    "    * F1-score: 0.559\n",
    "    * ROC AUC score: 0.826\n",
    "    \n",
    "The same model without the class_weight hyperparameter on a regular training and validation dataset had the following metrics:\n",
    "    \n",
    "    \n",
    "    * F1-score: 0.571\n",
    "    * ROC AUC score: 0.861\n",
    "        \n",
    "    \n",
    "Let's perform the final testing of our models on the test dataset and see the results."
   ]
  },
  {
   "cell_type": "markdown",
   "metadata": {},
   "source": [
    "## Model testing"
   ]
  },
  {
   "cell_type": "markdown",
   "metadata": {},
   "source": [
    "The Random Forest Classifier model trained on the upsampled dataset showed the best results on the validation dataset. Let's test this model on the test dataset.\n",
    "\n",
    "It should be noted that we have two test datasets at our disposal:\n",
    "    \n",
    "    * The first test dataset has missing values filled with 0\n",
    "    * The second test dataset has missing values in the `tenure` column removed.\n",
    "    \n",
    "The model was trained and validated on a dataset with missing values removed, and then further trained on the upsampled dataset also with missing values removed.\n",
    "    \n",
    "\n",
    "**You should test this model on the test dataset with missing values removed (Dropped version), as the other test dataset contains objects that the model was trained on, and the prediction results will be artificially inflated!!!** "
   ]
  },
  {
   "cell_type": "code",
   "execution_count": 57,
   "metadata": {
    "execution": {
     "iopub.execute_input": "2023-03-24T11:10:17.985385Z",
     "iopub.status.busy": "2023-03-24T11:10:17.985000Z",
     "iopub.status.idle": "2023-03-24T11:10:18.344882Z",
     "shell.execute_reply": "2023-03-24T11:10:18.343706Z",
     "shell.execute_reply.started": "2023-03-24T11:10:17.985350Z"
    }
   },
   "outputs": [
    {
     "name": "stdout",
     "output_type": "stream",
     "text": [
      "F1-score: 0.598\n",
      "ROC AUC score: 0.842 \n",
      "\n"
     ]
    }
   ],
   "source": [
    "# The Random Forest Classifier model trained on the upsampled dataset\n",
    "\n",
    "# Calculate the F1 score for the RandomForestClassifier model\n",
    "predicted_labels = the_best_model_rfc_drop.predict(features_test_drop)\n",
    "f1 = f1_score(target_test_drop, predicted_labels)\n",
    "# Calculate the ROC AUC score for the RandomForestClassifier model\n",
    "y_pred_prob = the_best_model_rfc_drop.predict_proba(features_test_drop)[:, 1]\n",
    "roc_auc = roc_auc_score(target_test_drop, y_pred_prob)\n",
    "\n",
    "print(\"F1-score: {:.3f}\".format(f1))\n",
    "print(f'ROC AUC score: {roc_auc:.3f}','\\n')"
   ]
  },
  {
   "cell_type": "markdown",
   "metadata": {},
   "source": [
    "Results of validation on the TEST SET\n",
    "\n",
    "\n",
    "    * F1-score: 0.598\n",
    "    * ROC AUC score: 0.842\n",
    "    \n",
    "**The F1-score of at least 0.59 has been achieved**\n",
    "   \n",
    "_________________________________________________    \n",
    "    \n",
    "Results of validation on the VALIDATION SET\n",
    "\n",
    "\n",
    "    * F1-score: 0.576\n",
    "    * ROC AUC score: 0.862"
   ]
  },
  {
   "cell_type": "markdown",
   "metadata": {},
   "source": [
    "### Metrics "
   ]
  },
  {
   "cell_type": "markdown",
   "metadata": {},
   "source": [
    "Let's analyze the performance metrics of the best model, the Random Forest trained on the upsampled dataset."
   ]
  },
  {
   "cell_type": "markdown",
   "metadata": {},
   "source": [
    "#### Recall\n",
    "\n",
    "It measures the percentage of actual positives that are correctly identified by the model, out of all the actual positives that exist in the dataset."
   ]
  },
  {
   "cell_type": "code",
   "execution_count": 58,
   "metadata": {
    "execution": {
     "iopub.execute_input": "2023-03-24T11:13:19.472030Z",
     "iopub.status.busy": "2023-03-24T11:13:19.471046Z",
     "iopub.status.idle": "2023-03-24T11:13:19.656308Z",
     "shell.execute_reply": "2023-03-24T11:13:19.655071Z",
     "shell.execute_reply.started": "2023-03-24T11:13:19.471984Z"
    }
   },
   "outputs": [
    {
     "name": "stdout",
     "output_type": "stream",
     "text": [
      "Recall: 0.56\n"
     ]
    }
   ],
   "source": [
    "# Calculate Recall\n",
    "predicted_labels = the_best_model_rfc_drop.predict(features_test_drop)\n",
    "recall = recall_score(target_test_drop, predicted_labels)\n",
    "print(\"Recall: {:.2f}\".format(recall))"
   ]
  },
  {
   "cell_type": "markdown",
   "metadata": {},
   "source": [
    "#### Precision\n",
    "Precision measures the proportion of true positive predictions among the total number of positive predictions made by a model. In other words, precision measures how many of the predicted positive instances are actually positive. "
   ]
  },
  {
   "cell_type": "code",
   "execution_count": 59,
   "metadata": {
    "execution": {
     "iopub.execute_input": "2023-03-24T11:13:25.658314Z",
     "iopub.status.busy": "2023-03-24T11:13:25.657900Z",
     "iopub.status.idle": "2023-03-24T11:13:25.667856Z",
     "shell.execute_reply": "2023-03-24T11:13:25.666638Z",
     "shell.execute_reply.started": "2023-03-24T11:13:25.658275Z"
    }
   },
   "outputs": [
    {
     "name": "stdout",
     "output_type": "stream",
     "text": [
      "Precision: 0.64\n"
     ]
    }
   ],
   "source": [
    "# Calculate Precision\n",
    "precision = precision_score(target_test_drop, predicted_labels)\n",
    "print(\"Precision: {:.2f}\".format(precision))"
   ]
  },
  {
   "cell_type": "code",
   "execution_count": 60,
   "metadata": {
    "execution": {
     "iopub.execute_input": "2023-03-24T11:13:35.781279Z",
     "iopub.status.busy": "2023-03-24T11:13:35.780722Z",
     "iopub.status.idle": "2023-03-24T11:13:36.082602Z",
     "shell.execute_reply": "2023-03-24T11:13:36.081757Z",
     "shell.execute_reply.started": "2023-03-24T11:13:35.781220Z"
    }
   },
   "outputs": [
    {
     "data": {
      "image/png": "[encoded data removed]",
      "text/plain": [
       "<Figure size 800x600 with 2 Axes>"
      ]
     },
     "metadata": {},
     "output_type": "display_data"
    }
   ],
   "source": [
    "# Plot the confusion matrix\n",
    "cm = confusion_matrix(target_test_drop, predicted_labels)\n",
    "\n",
    "fig, ax = plt.subplots(1, 1, figsize=(8,6))\n",
    "ax.set_title('Test confusion matrix')     \n",
    "sns.heatmap(cm, linewidth=0.5, ax=ax, annot=True, cmap='YlGnBu', fmt='d')\n",
    "\n",
    "ax.set_xlabel('Predicted label')\n",
    "ax.set_ylabel('True label');"
   ]
  },
  {
   "cell_type": "code",
   "execution_count": 61,
   "metadata": {
    "execution": {
     "iopub.execute_input": "2023-03-24T11:13:59.958941Z",
     "iopub.status.busy": "2023-03-24T11:13:59.957882Z",
     "iopub.status.idle": "2023-03-24T11:14:00.335579Z",
     "shell.execute_reply": "2023-03-24T11:14:00.334412Z",
     "shell.execute_reply.started": "2023-03-24T11:13:59.958884Z"
    }
   },
   "outputs": [
    {
     "data": {
      "image/png": "[encoded data removed]",
      "text/plain": [
       "<Figure size 700x700 with 1 Axes>"
      ]
     },
     "metadata": {},
     "output_type": "display_data"
    }
   ],
   "source": [
    "# Plot the ROC-curve\n",
    "y_pred_prob = the_best_model_rfc_drop.predict_proba(features_test_drop)[:, 1]\n",
    "fpr, tpr, thresholds = roc_curve(target_test_drop, y_pred_prob)\n",
    "\n",
    "plt.figure(figsize=(7, 7))\n",
    "plt.plot(fpr, tpr)\n",
    "plt.plot([0, 1], [0, 1], linestyle='--')\n",
    "plt.ylim([0.0, 1.01])\n",
    "plt.xlim([-0.01, 1.0])\n",
    "plt.xlabel('False Positive Rate')\n",
    "plt.ylabel('True Positive Rate')\n",
    "plt.title('ROC-curve')\n",
    "\n",
    "plt.show()"
   ]
  },
  {
   "cell_type": "code",
   "execution_count": 62,
   "metadata": {
    "execution": {
     "iopub.execute_input": "2023-03-24T11:14:10.007003Z",
     "iopub.status.busy": "2023-03-24T11:14:10.006181Z",
     "iopub.status.idle": "2023-03-24T11:14:10.065015Z",
     "shell.execute_reply": "2023-03-24T11:14:10.063806Z",
     "shell.execute_reply.started": "2023-03-24T11:14:10.006957Z"
    }
   },
   "outputs": [
    {
     "data": {
      "text/html": [
       "<div>\n",
       "<style scoped>\n",
       "    .dataframe tbody tr th:only-of-type {\n",
       "        vertical-align: middle;\n",
       "    }\n",
       "\n",
       "    .dataframe tbody tr th {\n",
       "        vertical-align: top;\n",
       "    }\n",
       "\n",
       "    .dataframe thead th {\n",
       "        text-align: right;\n",
       "    }\n",
       "</style>\n",
       "<table border=\"1\" class=\"dataframe\">\n",
       "  <thead>\n",
       "    <tr style=\"text-align: right;\">\n",
       "      <th></th>\n",
       "      <th>feature</th>\n",
       "      <th>importance</th>\n",
       "    </tr>\n",
       "  </thead>\n",
       "  <tbody>\n",
       "    <tr>\n",
       "      <th>2</th>\n",
       "      <td>age</td>\n",
       "      <td>0.269927</td>\n",
       "    </tr>\n",
       "    <tr>\n",
       "      <th>5</th>\n",
       "      <td>num_of_products</td>\n",
       "      <td>0.136349</td>\n",
       "    </tr>\n",
       "    <tr>\n",
       "      <th>4</th>\n",
       "      <td>balance</td>\n",
       "      <td>0.112564</td>\n",
       "    </tr>\n",
       "    <tr>\n",
       "      <th>0</th>\n",
       "      <td>customer_id</td>\n",
       "      <td>0.101196</td>\n",
       "    </tr>\n",
       "    <tr>\n",
       "      <th>8</th>\n",
       "      <td>estimated_salary</td>\n",
       "      <td>0.100456</td>\n",
       "    </tr>\n",
       "    <tr>\n",
       "      <th>1</th>\n",
       "      <td>credit_score</td>\n",
       "      <td>0.098574</td>\n",
       "    </tr>\n",
       "    <tr>\n",
       "      <th>3</th>\n",
       "      <td>tenure</td>\n",
       "      <td>0.059804</td>\n",
       "    </tr>\n",
       "    <tr>\n",
       "      <th>7</th>\n",
       "      <td>is_active_member</td>\n",
       "      <td>0.042298</td>\n",
       "    </tr>\n",
       "    <tr>\n",
       "      <th>9</th>\n",
       "      <td>geography_germany</td>\n",
       "      <td>0.030053</td>\n",
       "    </tr>\n",
       "    <tr>\n",
       "      <th>11</th>\n",
       "      <td>gender_male</td>\n",
       "      <td>0.022744</td>\n",
       "    </tr>\n",
       "    <tr>\n",
       "      <th>6</th>\n",
       "      <td>has_cr_card</td>\n",
       "      <td>0.014161</td>\n",
       "    </tr>\n",
       "    <tr>\n",
       "      <th>10</th>\n",
       "      <td>geography_spain</td>\n",
       "      <td>0.011874</td>\n",
       "    </tr>\n",
       "  </tbody>\n",
       "</table>\n",
       "</div>"
      ],
      "text/plain": [
       "              feature  importance\n",
       "2                 age    0.269927\n",
       "5     num_of_products    0.136349\n",
       "4             balance    0.112564\n",
       "0         customer_id    0.101196\n",
       "8    estimated_salary    0.100456\n",
       "1        credit_score    0.098574\n",
       "3              tenure    0.059804\n",
       "7    is_active_member    0.042298\n",
       "9   geography_germany    0.030053\n",
       "11        gender_male    0.022744\n",
       "6         has_cr_card    0.014161\n",
       "10    geography_spain    0.011874"
      ]
     },
     "execution_count": 62,
     "metadata": {},
     "output_type": "execute_result"
    }
   ],
   "source": [
    "# Add feature importance\n",
    "imp = (pd.DataFrame({'feature': features_test.columns,\n",
    "                    'importance': the_best_model_rfc_drop.feature_importances_})\n",
    "                    .sort_values(by='importance', ascending=False))\n",
    "imp"
   ]
  },
  {
   "cell_type": "code",
   "execution_count": 63,
   "metadata": {
    "execution": {
     "iopub.execute_input": "2023-03-24T11:14:19.930325Z",
     "iopub.status.busy": "2023-03-24T11:14:19.929889Z",
     "iopub.status.idle": "2023-03-24T11:14:20.234596Z",
     "shell.execute_reply": "2023-03-24T11:14:20.233495Z",
     "shell.execute_reply.started": "2023-03-24T11:14:19.930285Z"
    }
   },
   "outputs": [
    {
     "data": {
      "image/png": "[encoded data removed]",
      "text/plain": [
       "<Figure size 1000x600 with 1 Axes>"
      ]
     },
     "metadata": {},
     "output_type": "display_data"
    }
   ],
   "source": [
    "# Plot the feature importance\n",
    "fig, ax = plt.subplots(figsize=(10,6))\n",
    "sns.barplot(x='importance', y='feature', data=imp, ax=ax);"
   ]
  },
  {
   "cell_type": "markdown",
   "metadata": {},
   "source": [
    "### Conclusion after model testing"
   ]
  },
  {
   "cell_type": "markdown",
   "metadata": {},
   "source": [
    "The best model for predicting customer churn was found to be a Random Forest Classifier trained on an upsampled dataset to address the class imbalance issue with the drop strategy for missing values in the tenure column.\n",
    "\n",
    "    * F1-score: 0.598\n",
    "    * ROC AUC score: 0.842\n",
    "    * Recall: 0.56\n",
    "    * Precision: 0.64\n",
    "        \n",
    "The following hyperparameters were used:\n",
    "    \n",
    "    * n_estimators = 20\n",
    "    * max_depth = 12\n",
    "    * min_samples_split = 10\n",
    "    * Dataset with deleted missing values.\n",
    "    \n",
    "Conclusion of the project:\n",
    "    \n",
    "* The model was trained on an upsampled dataset using the Upsample method, with the following hyperparameters:\n",
    "\n",
    "The results of the model are far from perfect. The model predicts better for customers who do not plan to terminate their contract with the bank than for customers who do want to terminate their contract. However, our priority in this task is to predict the second category of clients. Nevertheless, the target F1 score has been achieved, and the ROC AUC score is also good.\n",
    "    \n",
    "    \n",
    "* The Upsample method showed better performance in dealing with class imbalance.\n",
    "    \n",
    "    \n",
    "* During the project, it was decided to handle missing values in two ways (deletion and imputation) and then decide which method is preferred.\n",
    "    \n",
    "    \n",
    "* This was a mistaken decision to use both types of datasets with and without missing values treatment, as if the model was trained on one of these types, it is necessary to ensure that the same type of dataset (with or without missing values treatment) is used for validation and testing. Otherwise, the model will be predicting on the objects it was trained on, and the metrics will be artificially inflated.\n",
    "\n",
    "* Overall, the project successfully demonstrated the application of machine learning techniques to solve a real-world problem. The results could be further improved by collecting more data or using more advanced algorithms."
   ]
  }
 ],
 "metadata": {
  "kernelspec": {
   "display_name": "Python 3 (ipykernel)",
   "language": "python",
   "name": "python3"
  },
  "language_info": {
   "codemirror_mode": {
    "name": "ipython",
    "version": 3
   },
   "file_extension": ".py",
   "mimetype": "text/x-python",
   "name": "python",
   "nbconvert_exporter": "python",
   "pygments_lexer": "ipython3",
   "version": "3.9.16"
  }
 },
 "nbformat": 4,
 "nbformat_minor": 4
}
